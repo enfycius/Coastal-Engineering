{
 "cells": [
  {
   "cell_type": "markdown",
   "metadata": {},
   "source": [
    "# Question"
   ]
  },
  {
   "cell_type": "markdown",
   "metadata": {},
   "source": [
    "수심 $h_{0} = 10m$에서 $kh=\\pi$를 만족하는 파가 입사하고 있다. 입사파의 각도가 $30^{\\circ}$, $45^{\\circ}$, $60^{\\circ}$인 경우에 대하여 파의 진행경로를 예측하시오."
   ]
  },
  {
   "cell_type": "markdown",
   "metadata": {},
   "source": [
    "## 공통"
   ]
  },
  {
   "cell_type": "code",
   "execution_count": 473,
   "metadata": {},
   "outputs": [],
   "source": [
    "import math\n",
    "import numpy as np"
   ]
  },
  {
   "cell_type": "code",
   "execution_count": 474,
   "metadata": {},
   "outputs": [],
   "source": [
    "h0 = 10\n",
    "g = 9.81"
   ]
  },
  {
   "cell_type": "code",
   "execution_count": 475,
   "metadata": {},
   "outputs": [],
   "source": [
    "h = h0\n",
    "kh = math.pi\n",
    "\n",
    "k = kh / h"
   ]
  },
  {
   "cell_type": "code",
   "execution_count": 476,
   "metadata": {},
   "outputs": [],
   "source": [
    "k0 = k"
   ]
  },
  {
   "cell_type": "code",
   "execution_count": 477,
   "metadata": {},
   "outputs": [],
   "source": [
    "sqr_sigma = g * k * np.tanh([kh])"
   ]
  },
  {
   "cell_type": "code",
   "execution_count": 478,
   "metadata": {},
   "outputs": [
    {
     "data": {
      "text/plain": [
       "array([3.0704133])"
      ]
     },
     "execution_count": 478,
     "metadata": {},
     "output_type": "execute_result"
    }
   ],
   "source": [
    "sqr_sigma"
   ]
  },
  {
   "cell_type": "code",
   "execution_count": 479,
   "metadata": {},
   "outputs": [],
   "source": [
    "sigma = math.sqrt(sqr_sigma)"
   ]
  },
  {
   "cell_type": "code",
   "execution_count": 480,
   "metadata": {},
   "outputs": [
    {
     "data": {
      "text/plain": [
       "1.7522594830545946"
      ]
     },
     "execution_count": 480,
     "metadata": {},
     "output_type": "execute_result"
    }
   ],
   "source": [
    "sigma"
   ]
  },
  {
   "cell_type": "code",
   "execution_count": 481,
   "metadata": {},
   "outputs": [],
   "source": [
    "T0 = 2 * math.pi / sigma"
   ]
  },
  {
   "cell_type": "code",
   "execution_count": 482,
   "metadata": {},
   "outputs": [
    {
     "data": {
      "text/plain": [
       "3.5857619079490086"
      ]
     },
     "execution_count": 482,
     "metadata": {},
     "output_type": "execute_result"
    }
   ],
   "source": [
    "T0"
   ]
  },
  {
   "cell_type": "code",
   "execution_count": 483,
   "metadata": {},
   "outputs": [
    {
     "data": {
      "text/plain": [
       "0.3141592653589793"
      ]
     },
     "execution_count": 483,
     "metadata": {},
     "output_type": "execute_result"
    }
   ],
   "source": [
    "k0"
   ]
  },
  {
   "cell_type": "code",
   "execution_count": 484,
   "metadata": {},
   "outputs": [],
   "source": [
    "L0 = 2 * math.pi / k0"
   ]
  },
  {
   "cell_type": "code",
   "execution_count": 485,
   "metadata": {},
   "outputs": [
    {
     "data": {
      "text/plain": [
       "20.0"
      ]
     },
     "execution_count": 485,
     "metadata": {},
     "output_type": "execute_result"
    }
   ],
   "source": [
    "L0"
   ]
  },
  {
   "cell_type": "markdown",
   "metadata": {},
   "source": [
    "위의 주기 $T0$는 변하지 않는 값임."
   ]
  },
  {
   "cell_type": "markdown",
   "metadata": {},
   "source": [
    "## Question 1"
   ]
  },
  {
   "cell_type": "markdown",
   "metadata": {},
   "source": [
    "1. 입사파의 각도가 $30^{\\circ}$인 경우"
   ]
  },
  {
   "cell_type": "code",
   "execution_count": 486,
   "metadata": {},
   "outputs": [],
   "source": [
    "init_angle = 30"
   ]
  },
  {
   "cell_type": "code",
   "execution_count": 487,
   "metadata": {},
   "outputs": [],
   "source": [
    "def f(x, sqr_omega):\n",
    "    return g * (x / sqr_omega) * np.tanh([x*h1]) - 1"
   ]
  },
  {
   "cell_type": "code",
   "execution_count": 488,
   "metadata": {},
   "outputs": [],
   "source": [
    "def bisection_method(k_init, sqr_omega):\n",
    "    error=0.5 * 10**(-6)\n",
    "\n",
    "    a = -100 + k_init\n",
    "    b = 100 + k_init\n",
    "    \n",
    "    while (b - a) / 2 > error:\n",
    "        c = (b + a) / 2\n",
    "        if f(c, sqr_omega) == 0:\n",
    "            break\n",
    "        elif f(a, sqr_omega)*f(c, sqr_omega) > 0:\n",
    "            a = c\n",
    "        else:\n",
    "            b = c\n",
    "    c = (b + a) / 2\n",
    "\n",
    "    return c"
   ]
  },
  {
   "cell_type": "code",
   "execution_count": 489,
   "metadata": {},
   "outputs": [],
   "source": [
    "angle = []\n",
    "tanv = []"
   ]
  },
  {
   "cell_type": "code",
   "execution_count": 490,
   "metadata": {},
   "outputs": [],
   "source": [
    "h1 = 10 - (1/10)*(0+1)\n",
    "k_init = sqr_sigma / (g * math.sqrt(np.tanh([sqr_sigma / g * h1])))\n",
    "k2 = abs(bisection_method(k_init, sqr_sigma))\n",
    "a1 = np.arcsin(k1 / k2 * np.sin([init_angle * np.pi / 180]))\n",
    "angle.append(a1)\n",
    "tanv.append(np.tan([a1]))"
   ]
  },
  {
   "cell_type": "code",
   "execution_count": 491,
   "metadata": {},
   "outputs": [
    {
     "data": {
      "text/plain": [
       "[array([0.52359878])]"
      ]
     },
     "execution_count": 491,
     "metadata": {},
     "output_type": "execute_result"
    }
   ],
   "source": [
    "angle"
   ]
  },
  {
   "cell_type": "code",
   "execution_count": 492,
   "metadata": {},
   "outputs": [],
   "source": [
    "k1 = k2"
   ]
  },
  {
   "cell_type": "markdown",
   "metadata": {},
   "source": [
    "기본적으로 np.arcsin의 경우 Radians값을 반환함. np.sin의 경우 그 인자로 Angles이 아닌, Radians 값을 대입함."
   ]
  },
  {
   "cell_type": "code",
   "execution_count": 493,
   "metadata": {},
   "outputs": [],
   "source": [
    "for i in range(1, 99):\n",
    "    h1 = 10 - (1/10)*(i+1)\n",
    "    k_init = sqr_sigma / (g * math.sqrt(np.tanh(sqr_sigma / g * h1)))\n",
    "    k2 = abs(bisection_method(k_init, sqr_sigma))\n",
    "    a1 = np.arcsin(k1 / k2 * np.sin([init_angle * np.pi / 180]))\n",
    "    angle.append(a1)\n",
    "    tanv.append(np.tan(a1))"
   ]
  },
  {
   "cell_type": "code",
   "execution_count": 494,
   "metadata": {},
   "outputs": [
    {
     "data": {
      "text/plain": [
       "[array([0.52359878]),\n",
       " array([0.52345419]),\n",
       " array([0.52329954]),\n",
       " array([0.52313654]),\n",
       " array([0.52296281]),\n",
       " array([0.52277873]),\n",
       " array([0.52258472]),\n",
       " array([0.5223771]),\n",
       " array([0.52215773]),\n",
       " array([0.52192436]),\n",
       " array([0.52167753]),\n",
       " array([0.5214151]),\n",
       " array([0.52113766]),\n",
       " array([0.52084316]),\n",
       " array([0.52053094]),\n",
       " array([0.52020038]),\n",
       " array([0.51985093]),\n",
       " array([0.51948075]),\n",
       " array([0.51908803]),\n",
       " array([0.51867377]),\n",
       " array([0.51823363]),\n",
       " array([0.51776873]),\n",
       " array([0.51727758]),\n",
       " array([0.51675879]),\n",
       " array([0.51620973]),\n",
       " array([0.51562921]),\n",
       " array([0.51501615]),\n",
       " array([0.51436827]),\n",
       " array([0.51368474]),\n",
       " array([0.51296354]),\n",
       " array([0.5122028]),\n",
       " array([0.51140083]),\n",
       " array([0.5105548]),\n",
       " array([0.50966207]),\n",
       " array([0.50872281]),\n",
       " array([0.50773351]),\n",
       " array([0.50669091]),\n",
       " array([0.50559457]),\n",
       " array([0.50444176]),\n",
       " array([0.50322753]),\n",
       " array([0.50195231]),\n",
       " array([0.50061182]),\n",
       " array([0.49920467]),\n",
       " array([0.49772615]),\n",
       " array([0.49617446]),\n",
       " array([0.49454583]),\n",
       " array([0.49283822]),\n",
       " array([0.4910477]),\n",
       " array([0.48917099]),\n",
       " array([0.48720542]),\n",
       " array([0.48514668]),\n",
       " array([0.48299125]),\n",
       " array([0.48073643]),\n",
       " array([0.47837583]),\n",
       " array([0.47590866]),\n",
       " array([0.47332948]),\n",
       " array([0.4706341]),\n",
       " array([0.46781743]),\n",
       " array([0.46487685]),\n",
       " array([0.46180591]),\n",
       " array([0.45859994]),\n",
       " array([0.45525504]),\n",
       " array([0.45176525]),\n",
       " array([0.4481259]),\n",
       " array([0.44432888]),\n",
       " array([0.44037089]),\n",
       " array([0.4362449]),\n",
       " array([0.43194275]),\n",
       " array([0.42745927]),\n",
       " array([0.42278545]),\n",
       " array([0.41791463]),\n",
       " array([0.41283704]),\n",
       " array([0.40754424]),\n",
       " array([0.40202593]),\n",
       " array([0.39627212]),\n",
       " array([0.39027064]),\n",
       " array([0.38400836]),\n",
       " array([0.37747253]),\n",
       " array([0.37064639]),\n",
       " array([0.3635139]),\n",
       " array([0.35605515]),\n",
       " array([0.34824906]),\n",
       " array([0.34007122]),\n",
       " array([0.33149356]),\n",
       " array([0.32248455]),\n",
       " array([0.31300601]),\n",
       " array([0.30301485]),\n",
       " array([0.29245796]),\n",
       " array([0.28127232]),\n",
       " array([0.2693804]),\n",
       " array([0.25668466]),\n",
       " array([0.24305995]),\n",
       " array([0.22834115]),\n",
       " array([0.2123022]),\n",
       " array([0.19461863]),\n",
       " array([0.1747943]),\n",
       " array([0.15199619]),\n",
       " array([0.12460593]),\n",
       " array([0.08846116])]"
      ]
     },
     "execution_count": 494,
     "metadata": {},
     "output_type": "execute_result"
    }
   ],
   "source": [
    "angle"
   ]
  },
  {
   "cell_type": "code",
   "execution_count": 495,
   "metadata": {},
   "outputs": [
    {
     "data": {
      "text/plain": [
       "[array([[0.57735027]]),\n",
       " array([0.5771575]),\n",
       " array([0.57695136]),\n",
       " array([0.57673412]),\n",
       " array([0.57650262]),\n",
       " array([0.5762574]),\n",
       " array([0.57599898]),\n",
       " array([0.57572252]),\n",
       " array([0.57543047]),\n",
       " array([0.57511987]),\n",
       " array([0.57479145]),\n",
       " array([0.57444236]),\n",
       " array([0.57407343]),\n",
       " array([0.57368194]),\n",
       " array([0.57326704]),\n",
       " array([0.57282793]),\n",
       " array([0.57236391]),\n",
       " array([0.57187255]),\n",
       " array([0.57135153]),\n",
       " array([0.57080216]),\n",
       " array([0.57021876]),\n",
       " array([0.56960286]),\n",
       " array([0.56895254]),\n",
       " array([0.56826602]),\n",
       " array([0.56753988]),\n",
       " array([0.56677262]),\n",
       " array([0.56596292]),\n",
       " array([0.56510783]),\n",
       " array([0.56420636]),\n",
       " array([0.56325596]),\n",
       " array([0.56225431]),\n",
       " array([0.56119929]),\n",
       " array([0.56008733]),\n",
       " array([0.55891514]),\n",
       " array([0.55768312]),\n",
       " array([0.55638684]),\n",
       " array([0.55502228]),\n",
       " array([0.55358908]),\n",
       " array([0.55208395]),\n",
       " array([0.55050068]),\n",
       " array([0.54884017]),\n",
       " array([0.54709717]),\n",
       " array([0.54527024]),\n",
       " array([0.54335367]),\n",
       " array([0.54134556]),\n",
       " array([0.53924151]),\n",
       " array([0.53703938]),\n",
       " array([0.53473468]),\n",
       " array([0.53232375]),\n",
       " array([0.52980383]),\n",
       " array([0.52717009]),\n",
       " array([0.52441877]),\n",
       " array([0.52154723]),\n",
       " array([0.51854821]),\n",
       " array([0.51542163]),\n",
       " array([0.51216159]),\n",
       " array([0.50876388]),\n",
       " array([0.50522319]),\n",
       " array([0.50153749]),\n",
       " array([0.49769999]),\n",
       " array([0.49370624]),\n",
       " array([0.48955288]),\n",
       " array([0.48523409]),\n",
       " array([0.48074575]),\n",
       " array([0.47607967]),\n",
       " array([0.47123369]),\n",
       " array([0.46620124]),\n",
       " array([0.4609745]),\n",
       " array([0.45554946]),\n",
       " array([0.44991766]),\n",
       " array([0.44407362]),\n",
       " array([0.43800835]),\n",
       " array([0.43171465]),\n",
       " array([0.42518335]),\n",
       " array([0.41840586]),\n",
       " array([0.41137132]),\n",
       " array([0.40406801]),\n",
       " array([0.396485]),\n",
       " array([0.38860698]),\n",
       " array([0.38041992]),\n",
       " array([0.37190575]),\n",
       " array([0.36304551]),\n",
       " array([0.35381702]),\n",
       " array([0.34419452]),\n",
       " array([0.33414908]),\n",
       " array([0.32364516]),\n",
       " array([0.31264268]),\n",
       " array([0.3010916]),\n",
       " array([0.28893236]),\n",
       " array([0.27609119]),\n",
       " array([0.2624747]),\n",
       " array([0.24796234]),\n",
       " array([0.23239424]),\n",
       " array([0.21555041]),\n",
       " array([0.19711359]),\n",
       " array([0.1765965]),\n",
       " array([0.15317763]),\n",
       " array([0.12525486]),\n",
       " array([0.08869263])]"
      ]
     },
     "execution_count": 495,
     "metadata": {},
     "output_type": "execute_result"
    }
   ],
   "source": [
    "tanv"
   ]
  },
  {
   "cell_type": "code",
   "execution_count": 496,
   "metadata": {},
   "outputs": [],
   "source": [
    "X = [round(10 - (1/10) * (i+1), 1) for i in range(0, 99)]"
   ]
  },
  {
   "cell_type": "code",
   "execution_count": 497,
   "metadata": {},
   "outputs": [
    {
     "data": {
      "text/plain": [
       "[9.9,\n",
       " 9.8,\n",
       " 9.7,\n",
       " 9.6,\n",
       " 9.5,\n",
       " 9.4,\n",
       " 9.3,\n",
       " 9.2,\n",
       " 9.1,\n",
       " 9.0,\n",
       " 8.9,\n",
       " 8.8,\n",
       " 8.7,\n",
       " 8.6,\n",
       " 8.5,\n",
       " 8.4,\n",
       " 8.3,\n",
       " 8.2,\n",
       " 8.1,\n",
       " 8.0,\n",
       " 7.9,\n",
       " 7.8,\n",
       " 7.7,\n",
       " 7.6,\n",
       " 7.5,\n",
       " 7.4,\n",
       " 7.3,\n",
       " 7.2,\n",
       " 7.1,\n",
       " 7.0,\n",
       " 6.9,\n",
       " 6.8,\n",
       " 6.7,\n",
       " 6.6,\n",
       " 6.5,\n",
       " 6.4,\n",
       " 6.3,\n",
       " 6.2,\n",
       " 6.1,\n",
       " 6.0,\n",
       " 5.9,\n",
       " 5.8,\n",
       " 5.7,\n",
       " 5.6,\n",
       " 5.5,\n",
       " 5.4,\n",
       " 5.3,\n",
       " 5.2,\n",
       " 5.1,\n",
       " 5.0,\n",
       " 4.9,\n",
       " 4.8,\n",
       " 4.7,\n",
       " 4.6,\n",
       " 4.5,\n",
       " 4.4,\n",
       " 4.3,\n",
       " 4.2,\n",
       " 4.1,\n",
       " 4.0,\n",
       " 3.9,\n",
       " 3.8,\n",
       " 3.7,\n",
       " 3.6,\n",
       " 3.5,\n",
       " 3.4,\n",
       " 3.3,\n",
       " 3.2,\n",
       " 3.1,\n",
       " 3.0,\n",
       " 2.9,\n",
       " 2.8,\n",
       " 2.7,\n",
       " 2.6,\n",
       " 2.5,\n",
       " 2.4,\n",
       " 2.3,\n",
       " 2.2,\n",
       " 2.1,\n",
       " 2.0,\n",
       " 1.9,\n",
       " 1.8,\n",
       " 1.7,\n",
       " 1.6,\n",
       " 1.5,\n",
       " 1.4,\n",
       " 1.3,\n",
       " 1.2,\n",
       " 1.1,\n",
       " 1.0,\n",
       " 0.9,\n",
       " 0.8,\n",
       " 0.7,\n",
       " 0.6,\n",
       " 0.5,\n",
       " 0.4,\n",
       " 0.3,\n",
       " 0.2,\n",
       " 0.1]"
      ]
     },
     "execution_count": 497,
     "metadata": {},
     "output_type": "execute_result"
    }
   ],
   "source": [
    "X"
   ]
  },
  {
   "cell_type": "code",
   "execution_count": 498,
   "metadata": {},
   "outputs": [
    {
     "data": {
      "text/plain": [
       "99"
      ]
     },
     "execution_count": 498,
     "metadata": {},
     "output_type": "execute_result"
    }
   ],
   "source": [
    "len(X)"
   ]
  },
  {
   "cell_type": "code",
   "execution_count": 499,
   "metadata": {},
   "outputs": [],
   "source": [
    "DeltaX = round(abs(X[0] - X[1]), 1)"
   ]
  },
  {
   "cell_type": "code",
   "execution_count": 500,
   "metadata": {},
   "outputs": [
    {
     "data": {
      "text/plain": [
       "0.1"
      ]
     },
     "execution_count": 500,
     "metadata": {},
     "output_type": "execute_result"
    }
   ],
   "source": [
    "DeltaX"
   ]
  },
  {
   "cell_type": "code",
   "execution_count": 501,
   "metadata": {},
   "outputs": [],
   "source": [
    "Y = []"
   ]
  },
  {
   "cell_type": "code",
   "execution_count": 502,
   "metadata": {},
   "outputs": [],
   "source": [
    "for i in range(0, len(X)):\n",
    "    Y.append(tanv[i] * DeltaX)"
   ]
  },
  {
   "cell_type": "code",
   "execution_count": 503,
   "metadata": {},
   "outputs": [
    {
     "data": {
      "text/plain": [
       "[array([[0.05773503]]),\n",
       " array([0.05771575]),\n",
       " array([0.05769514]),\n",
       " array([0.05767341]),\n",
       " array([0.05765026]),\n",
       " array([0.05762574]),\n",
       " array([0.0575999]),\n",
       " array([0.05757225]),\n",
       " array([0.05754305]),\n",
       " array([0.05751199]),\n",
       " array([0.05747914]),\n",
       " array([0.05744424]),\n",
       " array([0.05740734]),\n",
       " array([0.05736819]),\n",
       " array([0.0573267]),\n",
       " array([0.05728279]),\n",
       " array([0.05723639]),\n",
       " array([0.05718726]),\n",
       " array([0.05713515]),\n",
       " array([0.05708022]),\n",
       " array([0.05702188]),\n",
       " array([0.05696029]),\n",
       " array([0.05689525]),\n",
       " array([0.0568266]),\n",
       " array([0.05675399]),\n",
       " array([0.05667726]),\n",
       " array([0.05659629]),\n",
       " array([0.05651078]),\n",
       " array([0.05642064]),\n",
       " array([0.0563256]),\n",
       " array([0.05622543]),\n",
       " array([0.05611993]),\n",
       " array([0.05600873]),\n",
       " array([0.05589151]),\n",
       " array([0.05576831]),\n",
       " array([0.05563868]),\n",
       " array([0.05550223]),\n",
       " array([0.05535891]),\n",
       " array([0.05520839]),\n",
       " array([0.05505007]),\n",
       " array([0.05488402]),\n",
       " array([0.05470972]),\n",
       " array([0.05452702]),\n",
       " array([0.05433537]),\n",
       " array([0.05413456]),\n",
       " array([0.05392415]),\n",
       " array([0.05370394]),\n",
       " array([0.05347347]),\n",
       " array([0.05323238]),\n",
       " array([0.05298038]),\n",
       " array([0.05271701]),\n",
       " array([0.05244188]),\n",
       " array([0.05215472]),\n",
       " array([0.05185482]),\n",
       " array([0.05154216]),\n",
       " array([0.05121616]),\n",
       " array([0.05087639]),\n",
       " array([0.05052232]),\n",
       " array([0.05015375]),\n",
       " array([0.04977]),\n",
       " array([0.04937062]),\n",
       " array([0.04895529]),\n",
       " array([0.04852341]),\n",
       " array([0.04807457]),\n",
       " array([0.04760797]),\n",
       " array([0.04712337]),\n",
       " array([0.04662012]),\n",
       " array([0.04609745]),\n",
       " array([0.04555495]),\n",
       " array([0.04499177]),\n",
       " array([0.04440736]),\n",
       " array([0.04380083]),\n",
       " array([0.04317146]),\n",
       " array([0.04251833]),\n",
       " array([0.04184059]),\n",
       " array([0.04113713]),\n",
       " array([0.0404068]),\n",
       " array([0.0396485]),\n",
       " array([0.0388607]),\n",
       " array([0.03804199]),\n",
       " array([0.03719058]),\n",
       " array([0.03630455]),\n",
       " array([0.0353817]),\n",
       " array([0.03441945]),\n",
       " array([0.03341491]),\n",
       " array([0.03236452]),\n",
       " array([0.03126427]),\n",
       " array([0.03010916]),\n",
       " array([0.02889324]),\n",
       " array([0.02760912]),\n",
       " array([0.02624747]),\n",
       " array([0.02479623]),\n",
       " array([0.02323942]),\n",
       " array([0.02155504]),\n",
       " array([0.01971136]),\n",
       " array([0.01765965]),\n",
       " array([0.01531776]),\n",
       " array([0.01252549]),\n",
       " array([0.00886926])]"
      ]
     },
     "execution_count": 503,
     "metadata": {},
     "output_type": "execute_result"
    }
   ],
   "source": [
    "Y"
   ]
  },
  {
   "cell_type": "code",
   "execution_count": 504,
   "metadata": {},
   "outputs": [
    {
     "data": {
      "text/plain": [
       "99"
      ]
     },
     "execution_count": 504,
     "metadata": {},
     "output_type": "execute_result"
    }
   ],
   "source": [
    "len(X)"
   ]
  },
  {
   "cell_type": "code",
   "execution_count": 505,
   "metadata": {},
   "outputs": [
    {
     "data": {
      "text/plain": [
       "99"
      ]
     },
     "execution_count": 505,
     "metadata": {},
     "output_type": "execute_result"
    }
   ],
   "source": [
    "len(Y)"
   ]
  },
  {
   "cell_type": "code",
   "execution_count": 506,
   "metadata": {},
   "outputs": [
    {
     "data": {
      "image/png": "[encoded data removed]",
      "text/plain": [
       "<Figure size 432x288 with 1 Axes>"
      ]
     },
     "metadata": {
      "needs_background": "light"
     },
     "output_type": "display_data"
    }
   ],
   "source": [
    "import matplotlib.pyplot as plt\n",
    "import numpy as np\n",
    "import math\n",
    "  \n",
    "# Plotting both the curves simultaneously\n",
    "plt.plot(X, Y, color='r', label='Wave Direction')\n",
    "  \n",
    "# Naming the x-axis, y-axis and the whole graph\n",
    "plt.xlabel(\"Index\")\n",
    "plt.ylabel(\"$C$\")\n",
    "plt.title(\"Wave Directions(When the angle is $30^{\\circ}$)\")\n",
    "  \n",
    "# Adding legend, which helps us recognize the curve according to it's color\n",
    "plt.legend()\n",
    "  \n",
    "# To load the display window\n",
    "plt.show()"
   ]
  },
  {
   "cell_type": "markdown",
   "metadata": {},
   "source": [
    "## Question 2"
   ]
  },
  {
   "cell_type": "markdown",
   "metadata": {},
   "source": [
    "1. 입사파의 각도가 $45^{\\circ}$인 경우"
   ]
  },
  {
   "cell_type": "code",
   "execution_count": 507,
   "metadata": {},
   "outputs": [],
   "source": [
    "init_angle = 45"
   ]
  },
  {
   "cell_type": "code",
   "execution_count": 508,
   "metadata": {},
   "outputs": [],
   "source": [
    "def f(x, sqr_omega):\n",
    "    return g * (x / sqr_omega) * np.tanh([x * h1]) - 1"
   ]
  },
  {
   "cell_type": "code",
   "execution_count": 509,
   "metadata": {},
   "outputs": [],
   "source": [
    "def bisection_method(k_init, sqr_omega):\n",
    "    error=0.5 * 10**(-6)\n",
    "\n",
    "    a = -100 + k_init\n",
    "    b = 100 + k_init\n",
    "    \n",
    "    while (b - a) / 2 > error:\n",
    "        c = (b + a) / 2\n",
    "        if f(c, sqr_omega) == 0:\n",
    "            break\n",
    "        elif f(a, sqr_omega)*f(c, sqr_omega) > 0:\n",
    "            a = c\n",
    "        else:\n",
    "            b = c\n",
    "    c = (b + a) / 2\n",
    "\n",
    "    return c"
   ]
  },
  {
   "cell_type": "code",
   "execution_count": 510,
   "metadata": {},
   "outputs": [],
   "source": [
    "angle = []\n",
    "tanv = []"
   ]
  },
  {
   "cell_type": "code",
   "execution_count": 511,
   "metadata": {},
   "outputs": [],
   "source": [
    "h1 = 10 - (1/10)*(0+1)\n",
    "k_init = sqr_sigma / (g * math.sqrt(np.tanh([sqr_sigma / g * h1])))\n",
    "k2 = abs(bisection_method(k_init, sqr_sigma))\n",
    "a1 = np.arcsin(k1 / k2 * np.sin([init_angle * np.pi / 180]))\n",
    "angle.append(a1)\n",
    "tanv.append(np.tan([a1]))"
   ]
  },
  {
   "cell_type": "code",
   "execution_count": 512,
   "metadata": {},
   "outputs": [
    {
     "data": {
      "text/plain": [
       "[array([[0.78539816]])]"
      ]
     },
     "execution_count": 512,
     "metadata": {},
     "output_type": "execute_result"
    }
   ],
   "source": [
    "angle"
   ]
  },
  {
   "cell_type": "code",
   "execution_count": 513,
   "metadata": {},
   "outputs": [],
   "source": [
    "k1 = k2"
   ]
  },
  {
   "cell_type": "markdown",
   "metadata": {},
   "source": [
    "기본적으로 np.arcsin의 경우 Radians값을 반환함. np.sin의 경우 그 인자로 Angles이 아닌, Radians 값을 대입함."
   ]
  },
  {
   "cell_type": "code",
   "execution_count": 514,
   "metadata": {},
   "outputs": [],
   "source": [
    "for i in range(1, 99):\n",
    "    h1 = 10 - (1/10)*(i+1)\n",
    "    k_init = sqr_sigma / (g * math.sqrt(np.tanh(sqr_sigma / g * h1)))\n",
    "    k2 = abs(bisection_method(k_init, sqr_sigma))\n",
    "    a1 = np.arcsin(k1 / k2 * np.sin([init_angle * np.pi / 180]))\n",
    "    angle.append(a1)\n",
    "    tanv.append(np.tan(a1))"
   ]
  },
  {
   "cell_type": "code",
   "execution_count": 515,
   "metadata": {},
   "outputs": [
    {
     "data": {
      "text/plain": [
       "[array([[0.78539816]]),\n",
       " array([0.78514775]),\n",
       " array([0.78487996]),\n",
       " array([0.78459776]),\n",
       " array([0.78429704]),\n",
       " array([0.78397848]),\n",
       " array([0.78364279]),\n",
       " array([0.78328366]),\n",
       " array([0.78290426]),\n",
       " array([0.78250078]),\n",
       " array([0.78207415]),\n",
       " array([0.78162066]),\n",
       " array([0.78114141]),\n",
       " array([0.78063284]),\n",
       " array([0.78009385]),\n",
       " array([0.77952343]),\n",
       " array([0.77892063]),\n",
       " array([0.77828232]),\n",
       " array([0.77760547]),\n",
       " array([0.77689179]),\n",
       " array([0.77613389]),\n",
       " array([0.77533376]),\n",
       " array([0.77448891]),\n",
       " array([0.77359701]),\n",
       " array([0.77265364]),\n",
       " array([0.77165683]),\n",
       " array([0.77060485]),\n",
       " array([0.76949389]),\n",
       " array([0.76832264]),\n",
       " array([0.76708779]),\n",
       " array([0.7657863]),\n",
       " array([0.76441542]),\n",
       " array([0.76297051]),\n",
       " array([0.76144727]),\n",
       " array([0.7598462]),\n",
       " array([0.75816155]),\n",
       " array([0.75638803]),\n",
       " array([0.75452521]),\n",
       " array([0.75256872]),\n",
       " array([0.75051052]),\n",
       " array([0.74835171]),\n",
       " array([0.74608543]),\n",
       " array([0.74370976]),\n",
       " array([0.74121722]),\n",
       " array([0.7386053]),\n",
       " array([0.73586817]),\n",
       " array([0.73300299]),\n",
       " array([0.73000382]),\n",
       " array([0.7268658]),\n",
       " array([0.72358523]),\n",
       " array([0.72015566]),\n",
       " array([0.71657208]),\n",
       " array([0.71283085]),\n",
       " array([0.70892237]),\n",
       " array([0.70484627]),\n",
       " array([0.70059468]),\n",
       " array([0.69616178]),\n",
       " array([0.69154042]),\n",
       " array([0.68672757]),\n",
       " array([0.68171402]),\n",
       " array([0.67649355]),\n",
       " array([0.67106132]),\n",
       " array([0.66540923]),\n",
       " array([0.65953135]),\n",
       " array([0.65341634]),\n",
       " array([0.64706072]),\n",
       " array([0.64045513]),\n",
       " array([0.63358852]),\n",
       " array([0.62645475]),\n",
       " array([0.61904173]),\n",
       " array([0.61134122]),\n",
       " array([0.6033402]),\n",
       " array([0.59502793]),\n",
       " array([0.58639096]),\n",
       " array([0.57741642]),\n",
       " array([0.5680883]),\n",
       " array([0.55838929]),\n",
       " array([0.54830294]),\n",
       " array([0.53780677]),\n",
       " array([0.52687981]),\n",
       " array([0.51549536]),\n",
       " array([0.50362533]),\n",
       " array([0.49123695]),\n",
       " array([0.4782923]),\n",
       " array([0.46474876]),\n",
       " array([0.45055432]),\n",
       " array([0.43565023]),\n",
       " array([0.41996361]),\n",
       " array([0.40340778]),\n",
       " array([0.38587575]),\n",
       " array([0.36723246]),\n",
       " array([0.34730407]),\n",
       " array([0.32586065]),\n",
       " array([0.30258662]),\n",
       " array([0.27702794]),\n",
       " array([0.24848898]),\n",
       " array([0.2157994]),\n",
       " array([0.17668153]),\n",
       " array([0.12526722])]"
      ]
     },
     "execution_count": 515,
     "metadata": {},
     "output_type": "execute_result"
    }
   ],
   "source": [
    "angle"
   ]
  },
  {
   "cell_type": "code",
   "execution_count": 516,
   "metadata": {},
   "outputs": [
    {
     "data": {
      "text/plain": [
       "[array([[[1.]]]),\n",
       " array([0.99949929]),\n",
       " array([0.99896413]),\n",
       " array([0.99840047]),\n",
       " array([0.99780017]),\n",
       " array([0.99716465]),\n",
       " array([0.99649539]),\n",
       " array([0.9957799]),\n",
       " array([0.9950246]),\n",
       " array([0.99422196]),\n",
       " array([0.99337397]),\n",
       " array([0.9924734]),\n",
       " array([0.99152253]),\n",
       " array([0.99051448]),\n",
       " array([0.98944726]),\n",
       " array([0.98831902]),\n",
       " array([0.98712814]),\n",
       " array([0.98586864]),\n",
       " array([0.98453481]),\n",
       " array([0.98313035]),\n",
       " array([0.98164102]),\n",
       " array([0.9800711]),\n",
       " array([0.9784161]),\n",
       " array([0.97667191]),\n",
       " array([0.97483036]),\n",
       " array([0.97288818]),\n",
       " array([0.97084258]),\n",
       " array([0.96868682]),\n",
       " array([0.9664191]),\n",
       " array([0.96403379]),\n",
       " array([0.96152589]),\n",
       " array([0.95889107]),\n",
       " array([0.95612143]),\n",
       " array([0.95320994]),\n",
       " array([0.95015877]),\n",
       " array([0.94695832]),\n",
       " array([0.94360009]),\n",
       " array([0.94008481]),\n",
       " array([0.93640602]),\n",
       " array([0.93255051]),\n",
       " array([0.92852237]),\n",
       " array([0.92431107]),\n",
       " array([0.9199154]),\n",
       " array([0.91532408]),\n",
       " array([0.91053527]),\n",
       " array([0.90554129]),\n",
       " array([0.90034014]),\n",
       " array([0.89492441]),\n",
       " array([0.88928899]),\n",
       " array([0.88343109]),\n",
       " array([0.87734335]),\n",
       " array([0.87102121]),\n",
       " array([0.86446294]),\n",
       " array([0.85765662]),\n",
       " array([0.85060686]),\n",
       " array([0.84330546]),\n",
       " array([0.83574826]),\n",
       " array([0.82792913]),\n",
       " array([0.81984936]),\n",
       " array([0.81150019]),\n",
       " array([0.80287832]),\n",
       " array([0.79398311]),\n",
       " array([0.78480896]),\n",
       " array([0.77535425]),\n",
       " array([0.76560914]),\n",
       " array([0.7555768]),\n",
       " array([0.7452515]),\n",
       " array([0.73462538]),\n",
       " array([0.72369877]),\n",
       " array([0.71246333]),\n",
       " array([0.70091712]),\n",
       " array([0.68905161]),\n",
       " array([0.67686228]),\n",
       " array([0.66434123]),\n",
       " array([0.65148211]),\n",
       " array([0.63827474]),\n",
       " array([0.62470797]),\n",
       " array([0.61077265]),\n",
       " array([0.59645225]),\n",
       " array([0.58173329]),\n",
       " array([0.56659579]),\n",
       " array([0.55101915]),\n",
       " array([0.53497806]),\n",
       " array([0.51844222]),\n",
       " array([0.5013772]),\n",
       " array([0.48373892]),\n",
       " array([0.46547753]),\n",
       " array([0.4465289]),\n",
       " array([0.42681596]),\n",
       " array([0.40624194]),\n",
       " array([0.38468269]),\n",
       " array([0.36197634]),\n",
       " array([0.3379064]),\n",
       " array([0.31217265]),\n",
       " array([0.28433926]),\n",
       " array([0.253733]),\n",
       " array([0.21921288]),\n",
       " array([0.17854323]),\n",
       " array([0.12592659])]"
      ]
     },
     "execution_count": 516,
     "metadata": {},
     "output_type": "execute_result"
    }
   ],
   "source": [
    "tanv"
   ]
  },
  {
   "cell_type": "code",
   "execution_count": 517,
   "metadata": {},
   "outputs": [],
   "source": [
    "X = [round(10 - (1 / 10) * (i + 1), 1) for i in range(0, 99)]"
   ]
  },
  {
   "cell_type": "code",
   "execution_count": 518,
   "metadata": {},
   "outputs": [
    {
     "data": {
      "text/plain": [
       "[9.9,\n",
       " 9.8,\n",
       " 9.7,\n",
       " 9.6,\n",
       " 9.5,\n",
       " 9.4,\n",
       " 9.3,\n",
       " 9.2,\n",
       " 9.1,\n",
       " 9.0,\n",
       " 8.9,\n",
       " 8.8,\n",
       " 8.7,\n",
       " 8.6,\n",
       " 8.5,\n",
       " 8.4,\n",
       " 8.3,\n",
       " 8.2,\n",
       " 8.1,\n",
       " 8.0,\n",
       " 7.9,\n",
       " 7.8,\n",
       " 7.7,\n",
       " 7.6,\n",
       " 7.5,\n",
       " 7.4,\n",
       " 7.3,\n",
       " 7.2,\n",
       " 7.1,\n",
       " 7.0,\n",
       " 6.9,\n",
       " 6.8,\n",
       " 6.7,\n",
       " 6.6,\n",
       " 6.5,\n",
       " 6.4,\n",
       " 6.3,\n",
       " 6.2,\n",
       " 6.1,\n",
       " 6.0,\n",
       " 5.9,\n",
       " 5.8,\n",
       " 5.7,\n",
       " 5.6,\n",
       " 5.5,\n",
       " 5.4,\n",
       " 5.3,\n",
       " 5.2,\n",
       " 5.1,\n",
       " 5.0,\n",
       " 4.9,\n",
       " 4.8,\n",
       " 4.7,\n",
       " 4.6,\n",
       " 4.5,\n",
       " 4.4,\n",
       " 4.3,\n",
       " 4.2,\n",
       " 4.1,\n",
       " 4.0,\n",
       " 3.9,\n",
       " 3.8,\n",
       " 3.7,\n",
       " 3.6,\n",
       " 3.5,\n",
       " 3.4,\n",
       " 3.3,\n",
       " 3.2,\n",
       " 3.1,\n",
       " 3.0,\n",
       " 2.9,\n",
       " 2.8,\n",
       " 2.7,\n",
       " 2.6,\n",
       " 2.5,\n",
       " 2.4,\n",
       " 2.3,\n",
       " 2.2,\n",
       " 2.1,\n",
       " 2.0,\n",
       " 1.9,\n",
       " 1.8,\n",
       " 1.7,\n",
       " 1.6,\n",
       " 1.5,\n",
       " 1.4,\n",
       " 1.3,\n",
       " 1.2,\n",
       " 1.1,\n",
       " 1.0,\n",
       " 0.9,\n",
       " 0.8,\n",
       " 0.7,\n",
       " 0.6,\n",
       " 0.5,\n",
       " 0.4,\n",
       " 0.3,\n",
       " 0.2,\n",
       " 0.1]"
      ]
     },
     "execution_count": 518,
     "metadata": {},
     "output_type": "execute_result"
    }
   ],
   "source": [
    "X"
   ]
  },
  {
   "cell_type": "code",
   "execution_count": 519,
   "metadata": {},
   "outputs": [
    {
     "data": {
      "text/plain": [
       "99"
      ]
     },
     "execution_count": 519,
     "metadata": {},
     "output_type": "execute_result"
    }
   ],
   "source": [
    "len(X)"
   ]
  },
  {
   "cell_type": "code",
   "execution_count": 520,
   "metadata": {},
   "outputs": [],
   "source": [
    "DeltaX = round(abs(X[0] - X[1]), 1)"
   ]
  },
  {
   "cell_type": "code",
   "execution_count": 521,
   "metadata": {},
   "outputs": [
    {
     "data": {
      "text/plain": [
       "0.1"
      ]
     },
     "execution_count": 521,
     "metadata": {},
     "output_type": "execute_result"
    }
   ],
   "source": [
    "DeltaX"
   ]
  },
  {
   "cell_type": "code",
   "execution_count": 522,
   "metadata": {},
   "outputs": [],
   "source": [
    "Y = []"
   ]
  },
  {
   "cell_type": "code",
   "execution_count": 523,
   "metadata": {},
   "outputs": [],
   "source": [
    "for i in range(0, len(X)):\n",
    "    Y.append(tanv[i] * DeltaX)"
   ]
  },
  {
   "cell_type": "code",
   "execution_count": 524,
   "metadata": {},
   "outputs": [
    {
     "data": {
      "text/plain": [
       "[array([[[0.1]]]),\n",
       " array([0.09994993]),\n",
       " array([0.09989641]),\n",
       " array([0.09984005]),\n",
       " array([0.09978002]),\n",
       " array([0.09971647]),\n",
       " array([0.09964954]),\n",
       " array([0.09957799]),\n",
       " array([0.09950246]),\n",
       " array([0.0994222]),\n",
       " array([0.0993374]),\n",
       " array([0.09924734]),\n",
       " array([0.09915225]),\n",
       " array([0.09905145]),\n",
       " array([0.09894473]),\n",
       " array([0.0988319]),\n",
       " array([0.09871281]),\n",
       " array([0.09858686]),\n",
       " array([0.09845348]),\n",
       " array([0.09831303]),\n",
       " array([0.0981641]),\n",
       " array([0.09800711]),\n",
       " array([0.09784161]),\n",
       " array([0.09766719]),\n",
       " array([0.09748304]),\n",
       " array([0.09728882]),\n",
       " array([0.09708426]),\n",
       " array([0.09686868]),\n",
       " array([0.09664191]),\n",
       " array([0.09640338]),\n",
       " array([0.09615259]),\n",
       " array([0.09588911]),\n",
       " array([0.09561214]),\n",
       " array([0.09532099]),\n",
       " array([0.09501588]),\n",
       " array([0.09469583]),\n",
       " array([0.09436001]),\n",
       " array([0.09400848]),\n",
       " array([0.0936406]),\n",
       " array([0.09325505]),\n",
       " array([0.09285224]),\n",
       " array([0.09243111]),\n",
       " array([0.09199154]),\n",
       " array([0.09153241]),\n",
       " array([0.09105353]),\n",
       " array([0.09055413]),\n",
       " array([0.09003401]),\n",
       " array([0.08949244]),\n",
       " array([0.0889289]),\n",
       " array([0.08834311]),\n",
       " array([0.08773433]),\n",
       " array([0.08710212]),\n",
       " array([0.08644629]),\n",
       " array([0.08576566]),\n",
       " array([0.08506069]),\n",
       " array([0.08433055]),\n",
       " array([0.08357483]),\n",
       " array([0.08279291]),\n",
       " array([0.08198494]),\n",
       " array([0.08115002]),\n",
       " array([0.08028783]),\n",
       " array([0.07939831]),\n",
       " array([0.0784809]),\n",
       " array([0.07753543]),\n",
       " array([0.07656091]),\n",
       " array([0.07555768]),\n",
       " array([0.07452515]),\n",
       " array([0.07346254]),\n",
       " array([0.07236988]),\n",
       " array([0.07124633]),\n",
       " array([0.07009171]),\n",
       " array([0.06890516]),\n",
       " array([0.06768623]),\n",
       " array([0.06643412]),\n",
       " array([0.06514821]),\n",
       " array([0.06382747]),\n",
       " array([0.0624708]),\n",
       " array([0.06107727]),\n",
       " array([0.05964522]),\n",
       " array([0.05817333]),\n",
       " array([0.05665958]),\n",
       " array([0.05510192]),\n",
       " array([0.05349781]),\n",
       " array([0.05184422]),\n",
       " array([0.05013772]),\n",
       " array([0.04837389]),\n",
       " array([0.04654775]),\n",
       " array([0.04465289]),\n",
       " array([0.0426816]),\n",
       " array([0.04062419]),\n",
       " array([0.03846827]),\n",
       " array([0.03619763]),\n",
       " array([0.03379064]),\n",
       " array([0.03121727]),\n",
       " array([0.02843393]),\n",
       " array([0.0253733]),\n",
       " array([0.02192129]),\n",
       " array([0.01785432]),\n",
       " array([0.01259266])]"
      ]
     },
     "execution_count": 524,
     "metadata": {},
     "output_type": "execute_result"
    }
   ],
   "source": [
    "Y"
   ]
  },
  {
   "cell_type": "code",
   "execution_count": 525,
   "metadata": {},
   "outputs": [
    {
     "data": {
      "text/plain": [
       "99"
      ]
     },
     "execution_count": 525,
     "metadata": {},
     "output_type": "execute_result"
    }
   ],
   "source": [
    "len(X)"
   ]
  },
  {
   "cell_type": "code",
   "execution_count": 526,
   "metadata": {},
   "outputs": [
    {
     "data": {
      "text/plain": [
       "99"
      ]
     },
     "execution_count": 526,
     "metadata": {},
     "output_type": "execute_result"
    }
   ],
   "source": [
    "len(Y)"
   ]
  },
  {
   "cell_type": "code",
   "execution_count": 527,
   "metadata": {},
   "outputs": [
    {
     "data": {
      "image/png": "[encoded data removed]",
      "text/plain": [
       "<Figure size 432x288 with 1 Axes>"
      ]
     },
     "metadata": {
      "needs_background": "light"
     },
     "output_type": "display_data"
    }
   ],
   "source": [
    "import matplotlib.pyplot as plt\n",
    "import numpy as np\n",
    "import math\n",
    "  \n",
    "# Plotting both the curves simultaneously\n",
    "plt.plot(X, Y, color='r', label='Wave Direction')\n",
    "  \n",
    "# Naming the x-axis, y-axis and the whole graph\n",
    "plt.xlabel(\"Index\")\n",
    "plt.ylabel(\"$C$\")\n",
    "plt.title(\"Wave Directions(When the angle is $45^{\\circ}$)\")\n",
    "  \n",
    "# Adding legend, which helps us recognize the curve according to it's color\n",
    "plt.legend()\n",
    "  \n",
    "# To load the display window\n",
    "plt.show()"
   ]
  },
  {
   "cell_type": "markdown",
   "metadata": {},
   "source": [
    "## Question 3"
   ]
  },
  {
   "cell_type": "markdown",
   "metadata": {},
   "source": [
    "1. 입사파의 각도가 $60^{\\circ}$인 경우"
   ]
  },
  {
   "cell_type": "code",
   "execution_count": 528,
   "metadata": {},
   "outputs": [],
   "source": [
    "init_angle = 60"
   ]
  },
  {
   "cell_type": "code",
   "execution_count": 529,
   "metadata": {},
   "outputs": [],
   "source": [
    "def f(x, sqr_omega):\n",
    "    return g * (x / sqr_omega) * np.tanh([x * h1]) - 1"
   ]
  },
  {
   "cell_type": "code",
   "execution_count": 530,
   "metadata": {},
   "outputs": [],
   "source": [
    "def bisection_method(k_init, sqr_omega):\n",
    "    error=0.5 * 10**(-6)\n",
    "\n",
    "    a = -100 + k_init\n",
    "    b = 100 + k_init\n",
    "    \n",
    "    while (b - a) / 2 > error:\n",
    "        c = (b + a) / 2\n",
    "        if f(c, sqr_omega) == 0:\n",
    "            break\n",
    "        elif f(a, sqr_omega) * f(c, sqr_omega) > 0:\n",
    "            a = c\n",
    "        else:\n",
    "            b = c\n",
    "    c = (b + a) / 2\n",
    "\n",
    "    return c"
   ]
  },
  {
   "cell_type": "code",
   "execution_count": 531,
   "metadata": {},
   "outputs": [],
   "source": [
    "angle = []\n",
    "tanv = []"
   ]
  },
  {
   "cell_type": "code",
   "execution_count": 532,
   "metadata": {},
   "outputs": [],
   "source": [
    "h1 = 10 - (1/10)*(0+1)\n",
    "k_init = sqr_sigma / (g * math.sqrt(np.tanh([sqr_sigma / g * h1])))\n",
    "k2 = abs(bisection_method(k_init, sqr_sigma))\n",
    "a1 = np.arcsin(k1 / k2 * np.sin([init_angle * np.pi / 180]))\n",
    "angle.append(a1)\n",
    "tanv.append(np.tan([a1]))"
   ]
  },
  {
   "cell_type": "code",
   "execution_count": 533,
   "metadata": {},
   "outputs": [
    {
     "data": {
      "text/plain": [
       "[array([[1.04719755]])]"
      ]
     },
     "execution_count": 533,
     "metadata": {},
     "output_type": "execute_result"
    }
   ],
   "source": [
    "angle"
   ]
  },
  {
   "cell_type": "code",
   "execution_count": 534,
   "metadata": {},
   "outputs": [],
   "source": [
    "k1 = k2"
   ]
  },
  {
   "cell_type": "markdown",
   "metadata": {},
   "source": [
    "기본적으로 np.arcsin의 경우 Radians값을 반환함. np.sin의 경우 그 인자로 Angles이 아닌, Radians 값을 대입함."
   ]
  },
  {
   "cell_type": "code",
   "execution_count": 535,
   "metadata": {},
   "outputs": [],
   "source": [
    "for i in range(1, 99):\n",
    "    h1 = 10 - (1/10)*(i+1)\n",
    "    k_init = sqr_sigma / (g * math.sqrt(np.tanh(sqr_sigma / g * h1)))\n",
    "    k2 = abs(bisection_method(k_init, sqr_sigma))\n",
    "    a1 = np.arcsin(k1 / k2 * np.sin([init_angle * np.pi / 180]))\n",
    "    angle.append(a1)\n",
    "    tanv.append(np.tan(a1))"
   ]
  },
  {
   "cell_type": "code",
   "execution_count": 536,
   "metadata": {},
   "outputs": [
    {
     "data": {
      "text/plain": [
       "[array([[1.04719755]]),\n",
       " array([1.04676392]),\n",
       " array([1.04630046]),\n",
       " array([1.04581232]),\n",
       " array([1.04529244]),\n",
       " array([1.04474206]),\n",
       " array([1.04416246]),\n",
       " array([1.04354281]),\n",
       " array([1.04288868]),\n",
       " array([1.04219354]),\n",
       " array([1.04145911]),\n",
       " array([1.04067914]),\n",
       " array([1.03985558]),\n",
       " array([1.03898249]),\n",
       " array([1.03805811]),\n",
       " array([1.03708084]),\n",
       " array([1.03604928]),\n",
       " array([1.03495823]),\n",
       " array([1.03380273]),\n",
       " array([1.03258597]),\n",
       " array([1.03129558]),\n",
       " array([1.02993527]),\n",
       " array([1.02850111]),\n",
       " array([1.02698949]),\n",
       " array([1.02539331]),\n",
       " array([1.02370968]),\n",
       " array([1.02193613]),\n",
       " array([1.02006674]),\n",
       " array([1.01809989]),\n",
       " array([1.0160306]),\n",
       " array([1.01385445]),\n",
       " array([1.01156753]),\n",
       " array([1.00916288]),\n",
       " array([1.00663422]),\n",
       " array([1.00398325]),\n",
       " array([1.00120143]),\n",
       " array([0.99828112]),\n",
       " array([0.99522268]),\n",
       " array([0.9920202]),\n",
       " array([0.98866178]),\n",
       " array([0.98515062]),\n",
       " array([0.98147705]),\n",
       " array([0.97763951]),\n",
       " array([0.97362758]),\n",
       " array([0.96943898]),\n",
       " array([0.96506626]),\n",
       " array([0.96050685]),\n",
       " array([0.95575335]),\n",
       " array([0.95080025]),\n",
       " array([0.94564397]),\n",
       " array([0.94027679]),\n",
       " array([0.93469332]),\n",
       " array([0.92889052]),\n",
       " array([0.92285617]),\n",
       " array([0.91659255]),\n",
       " array([0.91009041]),\n",
       " array([0.90334387]),\n",
       " array([0.89634512]),\n",
       " array([0.88909278]),\n",
       " array([0.88157622]),\n",
       " array([0.8737895]),\n",
       " array([0.86572885]),\n",
       " array([0.85738577]),\n",
       " array([0.84875509]),\n",
       " array([0.83982387]),\n",
       " array([0.83059079]),\n",
       " array([0.82104607]),\n",
       " array([0.81117766]),\n",
       " array([0.80098072]),\n",
       " array([0.79044201]),\n",
       " array([0.77955395]),\n",
       " array([0.76830234]),\n",
       " array([0.75667637]),\n",
       " array([0.74466156]),\n",
       " array([0.73224451]),\n",
       " array([0.71940761]),\n",
       " array([0.70613171]),\n",
       " array([0.69239909]),\n",
       " array([0.67818408]),\n",
       " array([0.66346335]),\n",
       " array([0.64820624]),\n",
       " array([0.63238058]),\n",
       " array([0.61594839]),\n",
       " array([0.59886543]),\n",
       " array([0.58108177]),\n",
       " array([0.5625359]),\n",
       " array([0.5431583]),\n",
       " array([0.52286203]),\n",
       " array([0.50154352]),\n",
       " array([0.47907443]),\n",
       " array([0.45529224]),\n",
       " array([0.4299872]),\n",
       " array([0.40288128]),\n",
       " array([0.37359209]),\n",
       " array([0.34156853]),\n",
       " array([0.30596479]),\n",
       " array([0.26535577]),\n",
       " array([0.21696393]),\n",
       " array([0.153623])]"
      ]
     },
     "execution_count": 536,
     "metadata": {},
     "output_type": "execute_result"
    }
   ],
   "source": [
    "angle"
   ]
  },
  {
   "cell_type": "code",
   "execution_count": 537,
   "metadata": {},
   "outputs": [
    {
     "data": {
      "text/plain": [
       "[array([[[1.73205081]]]),\n",
       " array([1.7303176]),\n",
       " array([1.728468]),\n",
       " array([1.72652312]),\n",
       " array([1.72445542]),\n",
       " array([1.72227041]),\n",
       " array([1.71997388]),\n",
       " array([1.71752372]),\n",
       " array([1.71494288]),\n",
       " array([1.7122066]),\n",
       " array([1.70932271]),\n",
       " array([1.70626789]),\n",
       " array([1.70305119]),\n",
       " array([1.69965084]),\n",
       " array([1.69606173]),\n",
       " array([1.69227952]),\n",
       " array([1.68830071]),\n",
       " array([1.6841075]),\n",
       " array([1.67968335]),\n",
       " array([1.67504317]),\n",
       " array([1.67014286]),\n",
       " array([1.66499979]),\n",
       " array([1.65960269]),\n",
       " array([1.65394186]),\n",
       " array([1.64799496]),\n",
       " array([1.64175611]),\n",
       " array([1.6352212]),\n",
       " array([1.62837411]),\n",
       " array([1.62121487]),\n",
       " array([1.61373189]),\n",
       " array([1.60591616]),\n",
       " array([1.59776131]),\n",
       " array([1.58925066]),\n",
       " array([1.58037096]),\n",
       " array([1.57113767]),\n",
       " array([1.56153097]),\n",
       " array([1.55153538]),\n",
       " array([1.54116367]),\n",
       " array([1.53040773]),\n",
       " array([1.51924077]),\n",
       " array([1.5076871]),\n",
       " array([1.49572923]),\n",
       " array([1.48337718]),\n",
       " array([1.47061325]),\n",
       " array([1.45744698]),\n",
       " array([1.44387238]),\n",
       " array([1.42989954]),\n",
       " array([1.41552457]),\n",
       " array([1.40075037]),\n",
       " array([1.38558633]),\n",
       " array([1.3700305]),\n",
       " array([1.35408873]),\n",
       " array([1.33777418]),\n",
       " array([1.32107512]),\n",
       " array([1.30402088]),\n",
       " array([1.28660942]),\n",
       " array([1.2688488]),\n",
       " array([1.25074271]),\n",
       " array([1.23231197]),\n",
       " array([1.21355422]),\n",
       " array([1.19447975]),\n",
       " array([1.17510445]),\n",
       " array([1.15543305]),\n",
       " array([1.13547868]),\n",
       " array([1.11523707]),\n",
       " array([1.09473089]),\n",
       " array([1.07396381]),\n",
       " array([1.05293537]),\n",
       " array([1.03166103]),\n",
       " array([1.01013893]),\n",
       " array([0.98837935]),\n",
       " array([0.96637984]),\n",
       " array([0.94414529]),\n",
       " array([0.9216742]),\n",
       " array([0.89896777]),\n",
       " array([0.87602036]),\n",
       " array([0.85282479]),\n",
       " array([0.82937741]),\n",
       " array([0.80566237]),\n",
       " array([0.78166936]),\n",
       " array([0.75737786]),\n",
       " array([0.73276719]),\n",
       " array([0.70781004]),\n",
       " array([0.6824725]),\n",
       " array([0.65671567]),\n",
       " array([0.63048785]),\n",
       " array([0.6037309]),\n",
       " array([0.57636836]),\n",
       " array([0.54830837]),\n",
       " array([0.51943498]),\n",
       " array([0.489599]),\n",
       " array([0.45860553]),\n",
       " array([0.42619369]),\n",
       " array([0.39200142]),\n",
       " array([0.35550266]),\n",
       " array([0.31588397]),\n",
       " array([0.27176457]),\n",
       " array([0.22043369]),\n",
       " array([0.15484302])]"
      ]
     },
     "execution_count": 537,
     "metadata": {},
     "output_type": "execute_result"
    }
   ],
   "source": [
    "tanv"
   ]
  },
  {
   "cell_type": "code",
   "execution_count": 538,
   "metadata": {},
   "outputs": [],
   "source": [
    "X = [round(10 - (1 / 10) * (i + 1), 1) for i in range(0, 99)]"
   ]
  },
  {
   "cell_type": "code",
   "execution_count": 539,
   "metadata": {},
   "outputs": [
    {
     "data": {
      "text/plain": [
       "[9.9,\n",
       " 9.8,\n",
       " 9.7,\n",
       " 9.6,\n",
       " 9.5,\n",
       " 9.4,\n",
       " 9.3,\n",
       " 9.2,\n",
       " 9.1,\n",
       " 9.0,\n",
       " 8.9,\n",
       " 8.8,\n",
       " 8.7,\n",
       " 8.6,\n",
       " 8.5,\n",
       " 8.4,\n",
       " 8.3,\n",
       " 8.2,\n",
       " 8.1,\n",
       " 8.0,\n",
       " 7.9,\n",
       " 7.8,\n",
       " 7.7,\n",
       " 7.6,\n",
       " 7.5,\n",
       " 7.4,\n",
       " 7.3,\n",
       " 7.2,\n",
       " 7.1,\n",
       " 7.0,\n",
       " 6.9,\n",
       " 6.8,\n",
       " 6.7,\n",
       " 6.6,\n",
       " 6.5,\n",
       " 6.4,\n",
       " 6.3,\n",
       " 6.2,\n",
       " 6.1,\n",
       " 6.0,\n",
       " 5.9,\n",
       " 5.8,\n",
       " 5.7,\n",
       " 5.6,\n",
       " 5.5,\n",
       " 5.4,\n",
       " 5.3,\n",
       " 5.2,\n",
       " 5.1,\n",
       " 5.0,\n",
       " 4.9,\n",
       " 4.8,\n",
       " 4.7,\n",
       " 4.6,\n",
       " 4.5,\n",
       " 4.4,\n",
       " 4.3,\n",
       " 4.2,\n",
       " 4.1,\n",
       " 4.0,\n",
       " 3.9,\n",
       " 3.8,\n",
       " 3.7,\n",
       " 3.6,\n",
       " 3.5,\n",
       " 3.4,\n",
       " 3.3,\n",
       " 3.2,\n",
       " 3.1,\n",
       " 3.0,\n",
       " 2.9,\n",
       " 2.8,\n",
       " 2.7,\n",
       " 2.6,\n",
       " 2.5,\n",
       " 2.4,\n",
       " 2.3,\n",
       " 2.2,\n",
       " 2.1,\n",
       " 2.0,\n",
       " 1.9,\n",
       " 1.8,\n",
       " 1.7,\n",
       " 1.6,\n",
       " 1.5,\n",
       " 1.4,\n",
       " 1.3,\n",
       " 1.2,\n",
       " 1.1,\n",
       " 1.0,\n",
       " 0.9,\n",
       " 0.8,\n",
       " 0.7,\n",
       " 0.6,\n",
       " 0.5,\n",
       " 0.4,\n",
       " 0.3,\n",
       " 0.2,\n",
       " 0.1]"
      ]
     },
     "execution_count": 539,
     "metadata": {},
     "output_type": "execute_result"
    }
   ],
   "source": [
    "X"
   ]
  },
  {
   "cell_type": "code",
   "execution_count": 540,
   "metadata": {},
   "outputs": [
    {
     "data": {
      "text/plain": [
       "99"
      ]
     },
     "execution_count": 540,
     "metadata": {},
     "output_type": "execute_result"
    }
   ],
   "source": [
    "len(X)"
   ]
  },
  {
   "cell_type": "code",
   "execution_count": 541,
   "metadata": {},
   "outputs": [],
   "source": [
    "DeltaX = round(abs(X[0] - X[1]), 1)"
   ]
  },
  {
   "cell_type": "code",
   "execution_count": 542,
   "metadata": {},
   "outputs": [
    {
     "data": {
      "text/plain": [
       "0.1"
      ]
     },
     "execution_count": 542,
     "metadata": {},
     "output_type": "execute_result"
    }
   ],
   "source": [
    "DeltaX"
   ]
  },
  {
   "cell_type": "code",
   "execution_count": 543,
   "metadata": {},
   "outputs": [],
   "source": [
    "Y = []"
   ]
  },
  {
   "cell_type": "code",
   "execution_count": 544,
   "metadata": {},
   "outputs": [],
   "source": [
    "for i in range(0, len(X)):\n",
    "    Y.append(tanv[i] * DeltaX)"
   ]
  },
  {
   "cell_type": "code",
   "execution_count": 545,
   "metadata": {},
   "outputs": [
    {
     "data": {
      "text/plain": [
       "[array([[[0.17320508]]]),\n",
       " array([0.17303176]),\n",
       " array([0.1728468]),\n",
       " array([0.17265231]),\n",
       " array([0.17244554]),\n",
       " array([0.17222704]),\n",
       " array([0.17199739]),\n",
       " array([0.17175237]),\n",
       " array([0.17149429]),\n",
       " array([0.17122066]),\n",
       " array([0.17093227]),\n",
       " array([0.17062679]),\n",
       " array([0.17030512]),\n",
       " array([0.16996508]),\n",
       " array([0.16960617]),\n",
       " array([0.16922795]),\n",
       " array([0.16883007]),\n",
       " array([0.16841075]),\n",
       " array([0.16796834]),\n",
       " array([0.16750432]),\n",
       " array([0.16701429]),\n",
       " array([0.16649998]),\n",
       " array([0.16596027]),\n",
       " array([0.16539419]),\n",
       " array([0.1647995]),\n",
       " array([0.16417561]),\n",
       " array([0.16352212]),\n",
       " array([0.16283741]),\n",
       " array([0.16212149]),\n",
       " array([0.16137319]),\n",
       " array([0.16059162]),\n",
       " array([0.15977613]),\n",
       " array([0.15892507]),\n",
       " array([0.1580371]),\n",
       " array([0.15711377]),\n",
       " array([0.1561531]),\n",
       " array([0.15515354]),\n",
       " array([0.15411637]),\n",
       " array([0.15304077]),\n",
       " array([0.15192408]),\n",
       " array([0.15076871]),\n",
       " array([0.14957292]),\n",
       " array([0.14833772]),\n",
       " array([0.14706132]),\n",
       " array([0.1457447]),\n",
       " array([0.14438724]),\n",
       " array([0.14298995]),\n",
       " array([0.14155246]),\n",
       " array([0.14007504]),\n",
       " array([0.13855863]),\n",
       " array([0.13700305]),\n",
       " array([0.13540887]),\n",
       " array([0.13377742]),\n",
       " array([0.13210751]),\n",
       " array([0.13040209]),\n",
       " array([0.12866094]),\n",
       " array([0.12688488]),\n",
       " array([0.12507427]),\n",
       " array([0.1232312]),\n",
       " array([0.12135542]),\n",
       " array([0.11944798]),\n",
       " array([0.11751045]),\n",
       " array([0.1155433]),\n",
       " array([0.11354787]),\n",
       " array([0.11152371]),\n",
       " array([0.10947309]),\n",
       " array([0.10739638]),\n",
       " array([0.10529354]),\n",
       " array([0.1031661]),\n",
       " array([0.10101389]),\n",
       " array([0.09883794]),\n",
       " array([0.09663798]),\n",
       " array([0.09441453]),\n",
       " array([0.09216742]),\n",
       " array([0.08989678]),\n",
       " array([0.08760204]),\n",
       " array([0.08528248]),\n",
       " array([0.08293774]),\n",
       " array([0.08056624]),\n",
       " array([0.07816694]),\n",
       " array([0.07573779]),\n",
       " array([0.07327672]),\n",
       " array([0.070781]),\n",
       " array([0.06824725]),\n",
       " array([0.06567157]),\n",
       " array([0.06304878]),\n",
       " array([0.06037309]),\n",
       " array([0.05763684]),\n",
       " array([0.05483084]),\n",
       " array([0.0519435]),\n",
       " array([0.0489599]),\n",
       " array([0.04586055]),\n",
       " array([0.04261937]),\n",
       " array([0.03920014]),\n",
       " array([0.03555027]),\n",
       " array([0.0315884]),\n",
       " array([0.02717646]),\n",
       " array([0.02204337]),\n",
       " array([0.0154843])]"
      ]
     },
     "execution_count": 545,
     "metadata": {},
     "output_type": "execute_result"
    }
   ],
   "source": [
    "Y"
   ]
  },
  {
   "cell_type": "code",
   "execution_count": 546,
   "metadata": {},
   "outputs": [
    {
     "data": {
      "text/plain": [
       "99"
      ]
     },
     "execution_count": 546,
     "metadata": {},
     "output_type": "execute_result"
    }
   ],
   "source": [
    "len(X)"
   ]
  },
  {
   "cell_type": "code",
   "execution_count": 547,
   "metadata": {},
   "outputs": [
    {
     "data": {
      "text/plain": [
       "99"
      ]
     },
     "execution_count": 547,
     "metadata": {},
     "output_type": "execute_result"
    }
   ],
   "source": [
    "len(Y)"
   ]
  },
  {
   "cell_type": "code",
   "execution_count": 548,
   "metadata": {},
   "outputs": [
    {
     "data": {
      "image/png": "[encoded data removed]",
      "text/plain": [
       "<Figure size 432x288 with 1 Axes>"
      ]
     },
     "metadata": {
      "needs_background": "light"
     },
     "output_type": "display_data"
    }
   ],
   "source": [
    "import matplotlib.pyplot as plt\n",
    "import numpy as np\n",
    "import math\n",
    "  \n",
    "# Plotting both the curves simultaneously\n",
    "plt.plot(X, Y, color='r', label='Wave Direction')\n",
    "  \n",
    "# Naming the x-axis, y-axis and the whole graph\n",
    "plt.xlabel(\"Index\")\n",
    "plt.ylabel(\"$C$\")\n",
    "plt.title(\"Wave Directions(When the angle is $60^{\\circ}$)\")\n",
    "  \n",
    "# Adding legend, which helps us recognize the curve according to it's color\n",
    "plt.legend()\n",
    "  \n",
    "# To load the display window\n",
    "plt.show()"
   ]
  }
 ],
 "metadata": {
  "kernelspec": {
   "display_name": "Python 3.9.12 (conda)",
   "language": "python",
   "name": "python3"
  },
  "language_info": {
   "codemirror_mode": {
    "name": "ipython",
    "version": 3
   },
   "file_extension": ".py",
   "mimetype": "text/x-python",
   "name": "python",
   "nbconvert_exporter": "python",
   "pygments_lexer": "ipython3",
   "version": "3.9.12"
  },
  "orig_nbformat": 4,
  "vscode": {
   "interpreter": {
    "hash": "fef535234a3287ccf56ef531aff330e4640a816492ee584538bd7585ec97e353"
   }
  }
 },
 "nbformat": 4,
 "nbformat_minor": 2
}

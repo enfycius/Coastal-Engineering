{
 "cells": [
  {
   "cell_type": "markdown",
   "metadata": {},
   "source": [
    "# Question"
   ]
  },
  {
   "cell_type": "markdown",
   "metadata": {},
   "source": [
    "수심 $h_{0} = 10m$에서 $kh=\\pi$를 만족하는 파가 입사하고 있다. 입사파의 각도가 $30^{\\circ}$, $45^{\\circ}$, $60^{\\circ}$인 경우에 대하여 파의 진행경로를 예측하시오."
   ]
  },
  {
   "cell_type": "markdown",
   "metadata": {},
   "source": [
    "## 공통"
   ]
  },
  {
   "cell_type": "code",
   "execution_count": 1,
   "metadata": {},
   "outputs": [],
   "source": [
    "import math\n",
    "import numpy as np"
   ]
  },
  {
   "cell_type": "code",
   "execution_count": 2,
   "metadata": {},
   "outputs": [],
   "source": [
    "h0 = 10\n",
    "g = 9.81"
   ]
  },
  {
   "cell_type": "code",
   "execution_count": 3,
   "metadata": {},
   "outputs": [],
   "source": [
    "kh = math.pi\n",
    "\n",
    "k = kh / h0"
   ]
  },
  {
   "cell_type": "code",
   "execution_count": 4,
   "metadata": {},
   "outputs": [],
   "source": [
    "k0 = k"
   ]
  },
  {
   "cell_type": "code",
   "execution_count": 5,
   "metadata": {},
   "outputs": [],
   "source": [
    "sqr_sigma = g * k * np.tanh([kh])"
   ]
  },
  {
   "cell_type": "code",
   "execution_count": 6,
   "metadata": {},
   "outputs": [
    {
     "data": {
      "text/plain": [
       "array([3.0704133])"
      ]
     },
     "execution_count": 6,
     "metadata": {},
     "output_type": "execute_result"
    }
   ],
   "source": [
    "sqr_sigma"
   ]
  },
  {
   "cell_type": "code",
   "execution_count": 7,
   "metadata": {},
   "outputs": [],
   "source": [
    "sigma = math.sqrt(sqr_sigma)"
   ]
  },
  {
   "cell_type": "code",
   "execution_count": 8,
   "metadata": {},
   "outputs": [
    {
     "data": {
      "text/plain": [
       "1.7522594830545946"
      ]
     },
     "execution_count": 8,
     "metadata": {},
     "output_type": "execute_result"
    }
   ],
   "source": [
    "sigma"
   ]
  },
  {
   "cell_type": "code",
   "execution_count": 9,
   "metadata": {},
   "outputs": [],
   "source": [
    "T0 = 2 * math.pi / sigma"
   ]
  },
  {
   "cell_type": "code",
   "execution_count": 10,
   "metadata": {},
   "outputs": [
    {
     "data": {
      "text/plain": [
       "3.5857619079490086"
      ]
     },
     "execution_count": 10,
     "metadata": {},
     "output_type": "execute_result"
    }
   ],
   "source": [
    "T0"
   ]
  },
  {
   "cell_type": "code",
   "execution_count": 11,
   "metadata": {},
   "outputs": [
    {
     "data": {
      "text/plain": [
       "0.3141592653589793"
      ]
     },
     "execution_count": 11,
     "metadata": {},
     "output_type": "execute_result"
    }
   ],
   "source": [
    "k0"
   ]
  },
  {
   "cell_type": "code",
   "execution_count": 12,
   "metadata": {},
   "outputs": [],
   "source": [
    "L0 = 2 * math.pi / k0"
   ]
  },
  {
   "cell_type": "code",
   "execution_count": 13,
   "metadata": {},
   "outputs": [
    {
     "data": {
      "text/plain": [
       "20.0"
      ]
     },
     "execution_count": 13,
     "metadata": {},
     "output_type": "execute_result"
    }
   ],
   "source": [
    "L0"
   ]
  },
  {
   "cell_type": "markdown",
   "metadata": {},
   "source": [
    "위의 주기 $T0$는 변하지 않는 값임."
   ]
  },
  {
   "cell_type": "markdown",
   "metadata": {},
   "source": [
    "## Question 1"
   ]
  },
  {
   "cell_type": "markdown",
   "metadata": {},
   "source": [
    "1. 입사파의 각도가 $30^{\\circ}$인 경우"
   ]
  },
  {
   "cell_type": "code",
   "execution_count": 14,
   "metadata": {},
   "outputs": [],
   "source": [
    "init_angle = 30"
   ]
  },
  {
   "cell_type": "code",
   "execution_count": 15,
   "metadata": {},
   "outputs": [],
   "source": [
    "C1 = sigma / k0"
   ]
  },
  {
   "cell_type": "code",
   "execution_count": 16,
   "metadata": {},
   "outputs": [
    {
     "data": {
      "text/plain": [
       "5.577615166155759"
      ]
     },
     "execution_count": 16,
     "metadata": {},
     "output_type": "execute_result"
    }
   ],
   "source": [
    "C1"
   ]
  },
  {
   "cell_type": "code",
   "execution_count": 17,
   "metadata": {},
   "outputs": [],
   "source": [
    "angle_bisection = []\n",
    "angle_eckart = []\n",
    "angle_hunt = []\n",
    "degree_angle = []\n",
    "tanv_bisection = []\n",
    "tanv_hunt = []\n",
    "tanv_eckart = []\n",
    "\n",
    "h = []\n",
    "bisection_k = []\n",
    "eckart_k = []\n",
    "hunt_k = []\n",
    "hunt_y_30 = []"
   ]
  },
  {
   "cell_type": "code",
   "execution_count": 18,
   "metadata": {},
   "outputs": [],
   "source": [
    "a1 = init_angle * np.pi / 180"
   ]
  },
  {
   "cell_type": "code",
   "execution_count": 19,
   "metadata": {},
   "outputs": [],
   "source": [
    "h.append(h0)\n",
    "angle_bisection.append(a1)\n",
    "angle_eckart.append(a1)\n",
    "angle_hunt.append(a1)\n",
    "degree_angle.append(a1 * 180 / math.pi)\n",
    "tanv_bisection.append(np.tan(a1))\n",
    "tanv_eckart.append(np.tan(a1))\n",
    "tanv_hunt.append(np.tan(a1))\n",
    "bisection_k.append(k0)\n",
    "eckart_k.append(k0)\n",
    "hunt_k.append(k0)"
   ]
  },
  {
   "cell_type": "code",
   "execution_count": 20,
   "metadata": {},
   "outputs": [],
   "source": [
    "d = [0.6666666666, 0.3555555555, 0.1608465608, 0.0632098765, 0.0217540484, 0.0076507983]"
   ]
  },
  {
   "cell_type": "code",
   "execution_count": 21,
   "metadata": {},
   "outputs": [],
   "source": [
    "def f(x, sqr_omega, h1):\n",
    "    return g * (x / sqr_omega) * np.tanh([x*h1]) - 1"
   ]
  },
  {
   "cell_type": "code",
   "execution_count": 22,
   "metadata": {},
   "outputs": [],
   "source": [
    "def bisection_method(k_init, sqr_omega, h1):\n",
    "    error=0.5 * 10**(-6)\n",
    "\n",
    "    a = -0.01 + k_init\n",
    "    b = 0.01 + k_init\n",
    "    \n",
    "    while (b - a) / 2 > error:\n",
    "        c = (b + a) / 2\n",
    "        if f(c, sqr_omega, h1) == 0:\n",
    "            break\n",
    "        elif f(a, sqr_omega, h1)*f(c, sqr_omega, h1) > 0:\n",
    "            a = c\n",
    "        else:\n",
    "            b = c\n",
    "    c = (b + a) / 2\n",
    "\n",
    "    return c"
   ]
  },
  {
   "cell_type": "code",
   "execution_count": 23,
   "metadata": {},
   "outputs": [],
   "source": [
    "hunt_y_30.append(sqr_sigma*h0/g)"
   ]
  },
  {
   "cell_type": "markdown",
   "metadata": {},
   "source": [
    "기본적으로 np.arcsin의 경우 Radians값을 반환함. np.sin의 경우 그 인자로 Angles이 아닌, Radians 값을 대입함."
   ]
  },
  {
   "cell_type": "code",
   "execution_count": 24,
   "metadata": {},
   "outputs": [],
   "source": [
    "for i in range(0, 99):\n",
    "    h1 = round(10 - (1/10)*(i+1), 2)\n",
    "    k_init = sqr_sigma / (g * math.sqrt(np.tanh(sqr_sigma / g * h1)))\n",
    "    k2 = abs(bisection_method(k_init, sqr_sigma, h1))\n",
    "    C2 = sigma / k2\n",
    "    a2_bisection = np.arcsin(C2 / C1 * np.sin([init_angle * np.pi / 180]))\n",
    "    y = sqr_sigma*h1/g\n",
    "    hunt_y_30.append(y)\n",
    "    \n",
    "    dny = 0\n",
    "    \n",
    "    for j in range(0, len(d)):\n",
    "        dny += d[j] * (y ** (j+1))\n",
    "\n",
    "    k1 = math.sqrt(((y) ** 2 + ((y) / (1 + dny))) / (h1 ** 2))\n",
    "    C2_Hunt = sigma / k1\n",
    "    C2_Eckart = sigma / k_init\n",
    "    a2_hunt = np.arcsin(C2_Hunt / C1 * np.sin([init_angle * np.pi / 180]))\n",
    "    a2_eckart = np.arcsin(C2_Eckart / C1 * np.sin([init_angle * np.pi / 180]))\n",
    "    \n",
    "    hunt_k.append(k1)\n",
    "    eckart_k.append(k_init)\n",
    "    bisection_k.append(k2)\n",
    "    h.append(h1)\n",
    "    angle_bisection.append(a2_bisection)\n",
    "    angle_eckart.append(a2_eckart)\n",
    "    angle_hunt.append(a2_hunt)\n",
    "\n",
    "    tanv_bisection.append(np.tan(a2_bisection))\n",
    "    tanv_eckart.append(np.tan(a2_eckart))\n",
    "    tanv_hunt.append(np.tan(a2_hunt))"
   ]
  },
  {
   "cell_type": "code",
   "execution_count": 25,
   "metadata": {},
   "outputs": [
    {
     "data": {
      "text/plain": [
       "array([0.0607605])"
      ]
     },
     "execution_count": 25,
     "metadata": {},
     "output_type": "execute_result"
    }
   ],
   "source": [
    "abs(eckart_k[1] - bisection_k[1])*100"
   ]
  },
  {
   "cell_type": "code",
   "execution_count": 26,
   "metadata": {},
   "outputs": [
    {
     "data": {
      "text/plain": [
       "100"
      ]
     },
     "execution_count": 26,
     "metadata": {},
     "output_type": "execute_result"
    }
   ],
   "source": [
    "len(h)"
   ]
  },
  {
   "cell_type": "code",
   "execution_count": 27,
   "metadata": {},
   "outputs": [],
   "source": [
    "X = np.arange(0, 100)"
   ]
  },
  {
   "cell_type": "code",
   "execution_count": 28,
   "metadata": {},
   "outputs": [],
   "source": [
    "DeltaX = round(abs(X[0] - X[1]), 1)"
   ]
  },
  {
   "cell_type": "code",
   "execution_count": 29,
   "metadata": {},
   "outputs": [
    {
     "data": {
      "text/plain": [
       "1"
      ]
     },
     "execution_count": 29,
     "metadata": {},
     "output_type": "execute_result"
    }
   ],
   "source": [
    "DeltaX"
   ]
  },
  {
   "cell_type": "code",
   "execution_count": 30,
   "metadata": {},
   "outputs": [],
   "source": [
    "Deltah = round(abs(h[0] - h[1]), 1)"
   ]
  },
  {
   "cell_type": "code",
   "execution_count": 31,
   "metadata": {},
   "outputs": [
    {
     "data": {
      "text/plain": [
       "0.1"
      ]
     },
     "execution_count": 31,
     "metadata": {},
     "output_type": "execute_result"
    }
   ],
   "source": [
    "Deltah "
   ]
  },
  {
   "cell_type": "code",
   "execution_count": 32,
   "metadata": {},
   "outputs": [],
   "source": [
    "Y_30 = []\n",
    "x_Y_30 = []"
   ]
  },
  {
   "cell_type": "code",
   "execution_count": 33,
   "metadata": {},
   "outputs": [],
   "source": [
    "added_x_Y_b_30 = []\n",
    "added_x_Y_e_30 = []\n",
    "added_x_Y_h_30 = []"
   ]
  },
  {
   "cell_type": "code",
   "execution_count": 34,
   "metadata": {},
   "outputs": [],
   "source": [
    "added_h_Y_b_30 = []\n",
    "added_h_Y_e_30 = []\n",
    "added_h_Y_h_30 = []"
   ]
  },
  {
   "cell_type": "code",
   "execution_count": 35,
   "metadata": {},
   "outputs": [],
   "source": [
    "added_x_Y_b_v_30 = 0\n",
    "added_x_Y_e_v_30 = 0\n",
    "added_x_Y_h_v_30 = 0"
   ]
  },
  {
   "cell_type": "code",
   "execution_count": 36,
   "metadata": {},
   "outputs": [],
   "source": [
    "added_h_Y_b_v_30 = 0\n",
    "added_h_Y_e_v_30 = 0\n",
    "added_h_Y_h_v_30 = 0"
   ]
  },
  {
   "cell_type": "code",
   "execution_count": 37,
   "metadata": {},
   "outputs": [
    {
     "data": {
      "text/plain": [
       "100"
      ]
     },
     "execution_count": 37,
     "metadata": {},
     "output_type": "execute_result"
    }
   ],
   "source": [
    "len(tanv_bisection)"
   ]
  },
  {
   "cell_type": "code",
   "execution_count": 38,
   "metadata": {},
   "outputs": [],
   "source": [
    "for i in range(0, len(tanv_bisection)):\n",
    "    added_x_Y_b_v_30 += (tanv_bisection[i] * DeltaX).item()\n",
    "    added_x_Y_e_v_30 += (tanv_eckart[i] * DeltaX).item()\n",
    "    added_x_Y_h_v_30 += (tanv_hunt[i] * DeltaX).item()\n",
    "    added_x_Y_b_30.append(added_x_Y_b_v_30)\n",
    "    added_x_Y_e_30.append(added_x_Y_e_v_30)\n",
    "    added_x_Y_h_30.append(added_x_Y_h_v_30)"
   ]
  },
  {
   "cell_type": "code",
   "execution_count": 39,
   "metadata": {},
   "outputs": [],
   "source": [
    "for i in range(0, len(tanv_bisection)):\n",
    "    added_h_Y_b_v_30 += (tanv_bisection[i] * Deltah).item()\n",
    "    added_h_Y_e_v_30 += (tanv_eckart[i] * Deltah).item()\n",
    "    added_h_Y_h_v_30 += (tanv_hunt[i] * Deltah).item()\n",
    "    added_h_Y_b_30.append(added_h_Y_b_v_30)\n",
    "    added_h_Y_e_30.append(added_h_Y_e_v_30)\n",
    "    added_h_Y_h_30.append(added_h_Y_h_v_30)"
   ]
  },
  {
   "cell_type": "code",
   "execution_count": 40,
   "metadata": {},
   "outputs": [
    {
     "data": {
      "text/plain": [
       "[0.057735026918962574,\n",
       " 0.11534696051269228,\n",
       " 0.1729380560043448,\n",
       " 0.23050717700303222,\n",
       " 0.28805312277787426,\n",
       " 0.3455746246585638,\n",
       " 0.40307034225405003,\n",
       " 0.4605388594830542,\n",
       " 0.5179786804102964,\n",
       " 0.5753882248825335,\n",
       " 0.6327658239587977,\n",
       " 0.6901097151295832,\n",
       " 0.7474180373201704,\n",
       " 0.8046888256737951,\n",
       " 0.8619200061109871,\n",
       " 0.9191093896621101,\n",
       " 0.9762546665709451,\n",
       " 1.0333534001680766,\n",
       " 1.0904030205138666,\n",
       " 1.147400817811937,\n",
       " 1.2043439355953343,\n",
       " 1.2612293636889074,\n",
       " 1.3180539309529038,\n",
       " 1.3748142978143598,\n",
       " 1.43150694859453,\n",
       " 1.4881281836423508,\n",
       " 1.5446741112857572,\n",
       " 1.6011406396145365,\n",
       " 1.6575234681103033,\n",
       " 1.7138180791410738,\n",
       " 1.7700197293397804,\n",
       " 1.8261234408878615,\n",
       " 1.8821239927267432,\n",
       " 1.93801591172155,\n",
       " 1.9937934638027015,\n",
       " 2.049450645112097,\n",
       " 2.1049811731813204,\n",
       " 2.160378478169639,\n",
       " 2.215635694189462,\n",
       " 2.2707456507463055,\n",
       " 2.3257008643191086,\n",
       " 2.3804935301049075,\n",
       " 2.435115513949322,\n",
       " 2.4895583444810065,\n",
       " 2.5438132054640983,\n",
       " 2.5978709283777186,\n",
       " 2.6517219852257163,\n",
       " 2.7053564815730464,\n",
       " 2.758764149797442,\n",
       " 2.8119343425363494,\n",
       " 2.8648560262994396,\n",
       " 2.9175177752063948,\n",
       " 2.9699077647981076,\n",
       " 3.022013765856891,\n",
       " 3.073823138157818,\n",
       " 3.125322824058834,\n",
       " 3.17649934182181,\n",
       " 3.2273387785401124,\n",
       " 3.2778267825305165,\n",
       " 3.3279485550281387,\n",
       " 3.3776888410023376,\n",
       " 3.4270319188888783,\n",
       " 3.4759615890086324,\n",
       " 3.524461160415141,\n",
       " 3.572513435881721,\n",
       " 3.6201006947025363,\n",
       " 3.667204672939889,\n",
       " 3.713806540700456,\n",
       " 3.759886875964216,\n",
       " 3.805425634418981,\n",
       " 3.8504021146674954,\n",
       " 3.8947949180689525,\n",
       " 3.9385819023471904,\n",
       " 3.9817401279369493,\n",
       " 4.0242457958384,\n",
       " 4.066074175496774,\n",
       " 4.107199520902452,\n",
       " 4.147594972695691,\n",
       " 4.187232443529724,\n",
       " 4.22608248325522,\n",
       " 4.264114119580042,\n",
       " 4.3012946686482625,\n",
       " 4.337589508350934,\n",
       " 4.372961804950209,\n",
       " 4.407372180499096,\n",
       " 4.440778304157216,\n",
       " 4.473134384184126,\n",
       " 4.504390528075888,\n",
       " 4.534491924226375,\n",
       " 4.563377776582281,\n",
       " 4.590979888522154,\n",
       " 4.617220733292784,\n",
       " 4.642010745304485,\n",
       " 4.665244376188323,\n",
       " 4.686794083159573,\n",
       " 4.706500607305033,\n",
       " 4.724155951408772,\n",
       " 4.739470004896213,\n",
       " 4.751992485639027,\n",
       " 4.760859635790838]"
      ]
     },
     "execution_count": 40,
     "metadata": {},
     "output_type": "execute_result"
    }
   ],
   "source": [
    "added_h_Y_h_30"
   ]
  },
  {
   "cell_type": "code",
   "execution_count": 41,
   "metadata": {},
   "outputs": [
    {
     "data": {
      "image/png": "[encoded data removed]",
      "text/plain": [
       "<Figure size 432x288 with 1 Axes>"
      ]
     },
     "metadata": {
      "needs_background": "light"
     },
     "output_type": "display_data"
    }
   ],
   "source": [
    "import matplotlib.pyplot as plt\n",
    "import numpy as np\n",
    "import math\n",
    "  \n",
    "# Plotting both the curves simultaneously\n",
    "plt.plot(h, added_h_Y_b_30, color='r', label=\"$y$(m)\")\n",
    "  \n",
    "# Naming the x-axis, y-axis and the whole graph\n",
    "plt.xlabel(\"Depth($h(m)$)\")\n",
    "plt.ylabel(\"Distance $y$(m)\")\n",
    "\n",
    "plt.axis([max(h),min(h),min(added_h_Y_b_30),max(added_h_Y_b_30)])\n",
    "\n",
    "plt.ylim(0, 13)\n",
    "  \n",
    "# To load the display window\n",
    "plt.show()"
   ]
  },
  {
   "cell_type": "code",
   "execution_count": 42,
   "metadata": {},
   "outputs": [
    {
     "data": {
      "image/png": "[encoded data removed]",
      "text/plain": [
       "<Figure size 432x288 with 1 Axes>"
      ]
     },
     "metadata": {
      "needs_background": "light"
     },
     "output_type": "display_data"
    }
   ],
   "source": [
    "import matplotlib.pyplot as plt\n",
    "import numpy as np\n",
    "import math\n",
    "  \n",
    "# Plotting both the curves simultaneously\n",
    "plt.plot(X, added_x_Y_b_30, color='r', label=\"$y$(m)\")\n",
    "  \n",
    "# Naming the x-axis, y-axis and the whole graph\n",
    "plt.xlabel(\"Distance($x(m)$)\")\n",
    "plt.ylabel(\"Distance $y$(m)\")\n",
    "\n",
    "plt.axis([min(X),max(X),min(added_x_Y_b_30),max(added_x_Y_b_30)])\n",
    "\n",
    "plt.ylim(0, 130)\n",
    "  \n",
    "# To load the display window\n",
    "plt.show()"
   ]
  },
  {
   "cell_type": "code",
   "execution_count": 43,
   "metadata": {},
   "outputs": [
    {
     "data": {
      "image/png": "[encoded data removed]",
      "text/plain": [
       "<Figure size 432x288 with 1 Axes>"
      ]
     },
     "metadata": {
      "needs_background": "light"
     },
     "output_type": "display_data"
    }
   ],
   "source": [
    "import matplotlib.pyplot as plt\n",
    "import numpy as np\n",
    "import math\n",
    "  \n",
    "# Plotting both the curves simultaneously\n",
    "plt.plot(X, added_x_Y_b_30, color='r', label=\"$y$(m)\")\n",
    "\n",
    "plt.axis([min(X),max(X),min(added_x_Y_b_30),max(added_x_Y_b_30)])\n",
    "\n",
    "plt.ylim(0, 130)\n",
    "  \n",
    "# To load the display window\n",
    "plt.show()"
   ]
  },
  {
   "cell_type": "code",
   "execution_count": 44,
   "metadata": {},
   "outputs": [],
   "source": [
    "# abs_Eckart_H = 0\n",
    "# abs_Hunt_H = 0 "
   ]
  },
  {
   "cell_type": "code",
   "execution_count": 45,
   "metadata": {},
   "outputs": [],
   "source": [
    "# for i in range(0, len(Bisection_H)):\n",
    "#     abs_Eckart_H += abs(Bisection_H[i] - Eckart_H[i])\n",
    "#     abs_Hunt_H += abs(Bisection_H[i] - Hunt_H[i])\n",
    "    "
   ]
  },
  {
   "cell_type": "code",
   "execution_count": 46,
   "metadata": {},
   "outputs": [],
   "source": [
    "# mean_abs_Eckart_H = abs_Eckart_H / len(Bisection_H)\n",
    "# mean_abs_Hunt_H = abs_Hunt_H / len(Bisection_H)"
   ]
  },
  {
   "cell_type": "code",
   "execution_count": 47,
   "metadata": {},
   "outputs": [],
   "source": [
    "# mean_abs_Eckart_H * 100"
   ]
  },
  {
   "cell_type": "code",
   "execution_count": 48,
   "metadata": {},
   "outputs": [],
   "source": [
    "# mean_abs_Hunt_H * 100"
   ]
  },
  {
   "cell_type": "code",
   "execution_count": 49,
   "metadata": {},
   "outputs": [],
   "source": [
    "# len(hunt_k)"
   ]
  },
  {
   "cell_type": "code",
   "execution_count": 50,
   "metadata": {},
   "outputs": [],
   "source": [
    "# len(k)"
   ]
  },
  {
   "cell_type": "code",
   "execution_count": 51,
   "metadata": {},
   "outputs": [
    {
     "data": {
      "text/plain": [
       "[10,\n",
       " 9.9,\n",
       " 9.8,\n",
       " 9.7,\n",
       " 9.6,\n",
       " 9.5,\n",
       " 9.4,\n",
       " 9.3,\n",
       " 9.2,\n",
       " 9.1,\n",
       " 9.0,\n",
       " 8.9,\n",
       " 8.8,\n",
       " 8.7,\n",
       " 8.6,\n",
       " 8.5,\n",
       " 8.4,\n",
       " 8.3,\n",
       " 8.2,\n",
       " 8.1,\n",
       " 8.0,\n",
       " 7.9,\n",
       " 7.8,\n",
       " 7.7,\n",
       " 7.6,\n",
       " 7.5,\n",
       " 7.4,\n",
       " 7.3,\n",
       " 7.2,\n",
       " 7.1,\n",
       " 7.0,\n",
       " 6.9,\n",
       " 6.8,\n",
       " 6.7,\n",
       " 6.6,\n",
       " 6.5,\n",
       " 6.4,\n",
       " 6.3,\n",
       " 6.2,\n",
       " 6.1,\n",
       " 6.0,\n",
       " 5.9,\n",
       " 5.8,\n",
       " 5.7,\n",
       " 5.6,\n",
       " 5.5,\n",
       " 5.4,\n",
       " 5.3,\n",
       " 5.2,\n",
       " 5.1,\n",
       " 5.0,\n",
       " 4.9,\n",
       " 4.8,\n",
       " 4.7,\n",
       " 4.6,\n",
       " 4.5,\n",
       " 4.4,\n",
       " 4.3,\n",
       " 4.2,\n",
       " 4.1,\n",
       " 4.0,\n",
       " 3.9,\n",
       " 3.8,\n",
       " 3.7,\n",
       " 3.6,\n",
       " 3.5,\n",
       " 3.4,\n",
       " 3.3,\n",
       " 3.2,\n",
       " 3.1,\n",
       " 3.0,\n",
       " 2.9,\n",
       " 2.8,\n",
       " 2.7,\n",
       " 2.6,\n",
       " 2.5,\n",
       " 2.4,\n",
       " 2.3,\n",
       " 2.2,\n",
       " 2.1,\n",
       " 2.0,\n",
       " 1.9,\n",
       " 1.8,\n",
       " 1.7,\n",
       " 1.6,\n",
       " 1.5,\n",
       " 1.4,\n",
       " 1.3,\n",
       " 1.2,\n",
       " 1.1,\n",
       " 1.0,\n",
       " 0.9,\n",
       " 0.8,\n",
       " 0.7,\n",
       " 0.6,\n",
       " 0.5,\n",
       " 0.4,\n",
       " 0.3,\n",
       " 0.2,\n",
       " 0.1]"
      ]
     },
     "execution_count": 51,
     "metadata": {},
     "output_type": "execute_result"
    }
   ],
   "source": [
    "h"
   ]
  },
  {
   "cell_type": "code",
   "execution_count": 52,
   "metadata": {},
   "outputs": [
    {
     "name": "stderr",
     "output_type": "stream",
     "text": [
      "/home/hexk0131/anaconda3/lib/python3.9/site-packages/numpy/core/shape_base.py:65: VisibleDeprecationWarning: Creating an ndarray from ragged nested sequences (which is a list-or-tuple of lists-or-tuples-or ndarrays with different lengths or shapes) is deprecated. If you meant to do this, you must specify 'dtype=object' when creating the ndarray.\n",
      "  ary = asanyarray(ary)\n"
     ]
    },
    {
     "data": {
      "image/png": "[encoded data removed]",
      "text/plain": [
       "<Figure size 432x288 with 1 Axes>"
      ]
     },
     "metadata": {
      "needs_background": "light"
     },
     "output_type": "display_data"
    }
   ],
   "source": [
    "import matplotlib.pyplot as plt\n",
    "import numpy as np\n",
    "import math\n",
    "  \n",
    "# Plotting both the curves simultaneously\n",
    "plt.plot(h, bisection_k, color='r', label='Bisection Method')\n",
    "plt.plot(h, eckart_k, color='b', label='Eckart')\n",
    "plt.plot(h, hunt_k, color='g', label='Hunt')\n",
    "  \n",
    "# Naming the x-axis, y-axis and the whole graph\n",
    "plt.xlabel(\"Depth($h$)\")\n",
    "plt.ylabel(\"Wave Number($k$)\")\n",
    "plt.title(\"Wave Number($k$) vs. Depth($h$)\")\n",
    "  \n",
    "# Adding legend, which helps us recognize the curve according to it's color\n",
    "plt.legend()\n",
    "plt.xlim(0, 1)\n",
    "  \n",
    "# To load the display window\n",
    "plt.show()"
   ]
  },
  {
   "cell_type": "code",
   "execution_count": 53,
   "metadata": {},
   "outputs": [],
   "source": [
    "abs_Hunt_k = 0\n",
    "abs_Eckart_k = 0"
   ]
  },
  {
   "cell_type": "code",
   "execution_count": 54,
   "metadata": {},
   "outputs": [],
   "source": [
    "for i in range(0, len(hunt_k)):\n",
    "    abs_Hunt_k += abs(hunt_k[i] - bisection_k[i])\n",
    "    abs_Eckart_k += abs(eckart_k[i] - bisection_k[i])\n"
   ]
  },
  {
   "cell_type": "code",
   "execution_count": 55,
   "metadata": {},
   "outputs": [],
   "source": [
    "mean_abs_Hunt_k = abs_Hunt_k / len(bisection_k)\n",
    "mean_abs_Eckart_k = abs_Eckart_k / len(bisection_k)"
   ]
  },
  {
   "cell_type": "code",
   "execution_count": 56,
   "metadata": {},
   "outputs": [
    {
     "data": {
      "text/plain": [
       "array([0.37930637])"
      ]
     },
     "execution_count": 56,
     "metadata": {},
     "output_type": "execute_result"
    }
   ],
   "source": [
    "mean_abs_Hunt_k * 100"
   ]
  },
  {
   "cell_type": "code",
   "execution_count": 57,
   "metadata": {},
   "outputs": [
    {
     "data": {
      "text/plain": [
       "array([0.64951202])"
      ]
     },
     "execution_count": 57,
     "metadata": {},
     "output_type": "execute_result"
    }
   ],
   "source": [
    "mean_abs_Eckart_k * 100"
   ]
  },
  {
   "cell_type": "code",
   "execution_count": 58,
   "metadata": {},
   "outputs": [],
   "source": [
    "Bisection_C = []\n",
    "Eckart_C = []\n",
    "Hunt_C = []"
   ]
  },
  {
   "cell_type": "code",
   "execution_count": 59,
   "metadata": {},
   "outputs": [],
   "source": [
    "for i in range(0, len(bisection_k)):\n",
    "    Bisection_C.append((2 * math.pi / bisection_k[i])/T0)"
   ]
  },
  {
   "cell_type": "code",
   "execution_count": 60,
   "metadata": {},
   "outputs": [],
   "source": [
    "for i in range(0, len(eckart_k)):\n",
    "    Eckart_C.append((2 * math.pi / eckart_k[i])/T0)"
   ]
  },
  {
   "cell_type": "code",
   "execution_count": 61,
   "metadata": {},
   "outputs": [],
   "source": [
    "for i in range(0, len(hunt_k)):\n",
    "    Hunt_C.append((2 * math.pi / hunt_k[i])/T0)"
   ]
  },
  {
   "cell_type": "code",
   "execution_count": 62,
   "metadata": {},
   "outputs": [
    {
     "data": {
      "image/png": "[encoded data removed]",
      "text/plain": [
       "<Figure size 432x288 with 1 Axes>"
      ]
     },
     "metadata": {
      "needs_background": "light"
     },
     "output_type": "display_data"
    }
   ],
   "source": [
    "import matplotlib.pyplot as plt\n",
    "import numpy as np\n",
    "import math\n",
    "  \n",
    "# Plotting both the curves simultaneously\n",
    "plt.plot(h, Bisection_C, color='r', label='Bisection Method')\n",
    "plt.plot(h, Eckart_C, color='g', label='Eckart')\n",
    "plt.plot(h, Hunt_C, color='b', label='Hunt')\n",
    "  \n",
    "# Naming the x-axis, y-axis and the whole graph\n",
    "plt.xlabel(\"Depth($h$)\")\n",
    "plt.ylabel(\"$C$\")\n",
    "plt.title(\"Wave Velocities($C$) vs. Depth($h$)\")\n",
    "  \n",
    "# Adding legend, which helps us recognize the curve according to it's color\n",
    "plt.legend()\n",
    "  \n",
    "# To load the display window\n",
    "plt.show()"
   ]
  },
  {
   "cell_type": "code",
   "execution_count": 63,
   "metadata": {},
   "outputs": [],
   "source": [
    "abs_Eckart_C = 0\n",
    "abs_Hunt_C = 0"
   ]
  },
  {
   "cell_type": "code",
   "execution_count": 64,
   "metadata": {},
   "outputs": [],
   "source": [
    "for i in range(0, len(Bisection_C)):\n",
    "    abs_Eckart_C += abs(Bisection_C[i] - Eckart_C[i])\n",
    "    abs_Hunt_C += abs(Bisection_C[i] - Hunt_C[i])"
   ]
  },
  {
   "cell_type": "code",
   "execution_count": 65,
   "metadata": {},
   "outputs": [],
   "source": [
    "mean_abs_Eckart_C = abs_Eckart_C / len(Eckart_C)\n",
    "mean_abs_Hunt_C = abs_Hunt_C / len(Hunt_C)"
   ]
  },
  {
   "cell_type": "code",
   "execution_count": 66,
   "metadata": {},
   "outputs": [
    {
     "data": {
      "text/plain": [
       "array([7.72149906])"
      ]
     },
     "execution_count": 66,
     "metadata": {},
     "output_type": "execute_result"
    }
   ],
   "source": [
    "mean_abs_Eckart_C * 100"
   ]
  },
  {
   "cell_type": "code",
   "execution_count": 67,
   "metadata": {},
   "outputs": [
    {
     "data": {
      "text/plain": [
       "array([3.43992334])"
      ]
     },
     "execution_count": 67,
     "metadata": {},
     "output_type": "execute_result"
    }
   ],
   "source": [
    "mean_abs_Hunt_C * 100"
   ]
  },
  {
   "cell_type": "code",
   "execution_count": 68,
   "metadata": {},
   "outputs": [
    {
     "data": {
      "image/png": "[encoded data removed]",
      "text/plain": [
       "<Figure size 432x288 with 1 Axes>"
      ]
     },
     "metadata": {
      "needs_background": "light"
     },
     "output_type": "display_data"
    }
   ],
   "source": [
    "import matplotlib.pyplot as plt\n",
    "import numpy as np\n",
    "import math\n",
    "  \n",
    "# Plotting both the curves simultaneously\n",
    "plt.plot(h, added_h_Y_e_30, color='r', label=\"$y$(m)\")\n",
    "  \n",
    "# Naming the x-axis, y-axis and the whole graph\n",
    "plt.xlabel(\"Depth($h(m)$)\")\n",
    "plt.ylabel(\"Distance $y$(m)\")\n",
    "\n",
    "plt.axis([max(h),min(h),min(added_h_Y_e_30),max(added_h_Y_e_30)])\n",
    "\n",
    "plt.ylim(0, 13)\n",
    "  \n",
    "# To load the display window\n",
    "plt.show()"
   ]
  },
  {
   "cell_type": "code",
   "execution_count": 69,
   "metadata": {},
   "outputs": [
    {
     "data": {
      "image/png": "[encoded data removed]",
      "text/plain": [
       "<Figure size 432x288 with 1 Axes>"
      ]
     },
     "metadata": {
      "needs_background": "light"
     },
     "output_type": "display_data"
    }
   ],
   "source": [
    "import matplotlib.pyplot as plt\n",
    "import numpy as np\n",
    "import math\n",
    "  \n",
    "# Plotting both the curves simultaneously\n",
    "plt.plot(h, added_h_Y_h_30, color='r', label=\"$y$(m)\")\n",
    "\n",
    "  \n",
    "# Naming the x-axis, y-axis and the whole graph\n",
    "plt.xlabel(\"Depth($h(m)$)\")\n",
    "plt.ylabel(\"Distance $y$(m)\")\n",
    "\n",
    "plt.axis([max(h),min(h),min(added_h_Y_h_30),max(added_h_Y_h_30)])\n",
    "\n",
    "plt.ylim(0, 13)\n",
    "  \n",
    "# To load the display window\n",
    "plt.show()"
   ]
  },
  {
   "cell_type": "code",
   "execution_count": 175,
   "metadata": {},
   "outputs": [
    {
     "data": {
      "image/png": "[encoded data removed]",
      "text/plain": [
       "<Figure size 432x288 with 1 Axes>"
      ]
     },
     "metadata": {
      "needs_background": "light"
     },
     "output_type": "display_data"
    }
   ],
   "source": [
    "import matplotlib.pyplot as plt\n",
    "import numpy as np\n",
    "import math\n",
    "  \n",
    "# Plotting both the curves simultaneously\n",
    "plt.plot(h, added_h_Y_b_30, color='r', label=\"Bisection Method\")\n",
    "plt.plot(h, added_h_Y_e_30, color='g', label=\"Eckart's Method\")\n",
    "plt.plot(h, added_h_Y_h_30, color='b', label=\"Hunt's Method\")\n",
    "  \n",
    "# Naming the x-axis, y-axis and the whole graph\n",
    "plt.xlabel(\"Depth($h(m)$)\")\n",
    "plt.ylabel(\"Distance $y$(m)\")\n",
    "\n",
    "plt.axis([max(h),min(h),min(added_h_Y_h_30),max(added_h_Y_h_30)])\n",
    "\n",
    "plt.ylim(0, 13)\n",
    "\n",
    "plt.legend()\n",
    "  \n",
    "# To load the display window\n",
    "plt.show()"
   ]
  },
  {
   "cell_type": "code",
   "execution_count": 70,
   "metadata": {},
   "outputs": [],
   "source": [
    "abs_Eckart_angle = 0\n",
    "abs_Hunt_angle = 0"
   ]
  },
  {
   "cell_type": "code",
   "execution_count": 71,
   "metadata": {},
   "outputs": [
    {
     "data": {
      "text/plain": [
       "100"
      ]
     },
     "execution_count": 71,
     "metadata": {},
     "output_type": "execute_result"
    }
   ],
   "source": [
    "len(angle_bisection)"
   ]
  },
  {
   "cell_type": "code",
   "execution_count": 72,
   "metadata": {},
   "outputs": [
    {
     "data": {
      "text/plain": [
       "100"
      ]
     },
     "execution_count": 72,
     "metadata": {},
     "output_type": "execute_result"
    }
   ],
   "source": [
    "len(angle_eckart)"
   ]
  },
  {
   "cell_type": "code",
   "execution_count": 73,
   "metadata": {},
   "outputs": [
    {
     "data": {
      "text/plain": [
       "100"
      ]
     },
     "execution_count": 73,
     "metadata": {},
     "output_type": "execute_result"
    }
   ],
   "source": [
    "len(angle_hunt)"
   ]
  },
  {
   "cell_type": "code",
   "execution_count": 74,
   "metadata": {},
   "outputs": [
    {
     "data": {
      "text/plain": [
       "[0.5235987755982988,\n",
       " array([0.52346266]),\n",
       " array([0.52331746]),\n",
       " array([0.52316409]),\n",
       " array([0.523]),\n",
       " array([0.52282712]),\n",
       " array([0.52264288]),\n",
       " array([0.52244802]),\n",
       " array([0.52224105]),\n",
       " array([0.52202158]),\n",
       " array([0.52178805]),\n",
       " array([0.52154113]),\n",
       " array([0.52127922]),\n",
       " array([0.52100181]),\n",
       " array([0.52070726]),\n",
       " array([0.52039611]),\n",
       " array([0.52006553]),\n",
       " array([0.51971598]),\n",
       " array([0.5193457]),\n",
       " array([0.51895286]),\n",
       " array([0.5185378]),\n",
       " array([0.51809863]),\n",
       " array([0.51763451]),\n",
       " array([0.51714343]),\n",
       " array([0.51662337]),\n",
       " array([0.51607443]),\n",
       " array([0.51549446]),\n",
       " array([0.51488235]),\n",
       " array([0.51423477]),\n",
       " array([0.51355157]),\n",
       " array([0.51283038]),\n",
       " array([0.51206981]),\n",
       " array([0.51126737]),\n",
       " array([0.51042153]),\n",
       " array([0.50953069]),\n",
       " array([0.50859106]),\n",
       " array([0.50760192]),\n",
       " array([0.50656036]),\n",
       " array([0.50546442]),\n",
       " array([0.50431102]),\n",
       " array([0.50309799]),\n",
       " array([0.50182307]),\n",
       " array([0.50048286]),\n",
       " array([0.49907587]),\n",
       " array([0.49759746]),\n",
       " array([0.49604589]),\n",
       " array([0.49441827]),\n",
       " array([0.49271157]),\n",
       " array([0.49092162]),\n",
       " array([0.48904511]),\n",
       " array([0.4870805]),\n",
       " array([0.48502218]),\n",
       " array([0.48286729]),\n",
       " array([0.48061275]),\n",
       " array([0.47858552]),\n",
       " array([0.47675626]),\n",
       " array([0.47481672]),\n",
       " array([0.47276072]),\n",
       " array([0.47058178]),\n",
       " array([0.46827311]),\n",
       " array([0.46582761]),\n",
       " array([0.46323786]),\n",
       " array([0.46049608]),\n",
       " array([0.45759418]),\n",
       " array([0.45452369]),\n",
       " array([0.45127578]),\n",
       " array([0.44784126]),\n",
       " array([0.44421052]),\n",
       " array([0.44037358]),\n",
       " array([0.43631999]),\n",
       " array([0.43203891]),\n",
       " array([0.42751899]),\n",
       " array([0.42274842]),\n",
       " array([0.41771481]),\n",
       " array([0.41240522]),\n",
       " array([0.40680607]),\n",
       " array([0.40090306]),\n",
       " array([0.39468107]),\n",
       " array([0.38812408]),\n",
       " array([0.38121499]),\n",
       " array([0.37393541]),\n",
       " array([0.36626548]),\n",
       " array([0.3581835]),\n",
       " array([0.34966551]),\n",
       " array([0.34068483]),\n",
       " array([0.3312113]),\n",
       " array([0.32121036]),\n",
       " array([0.31064183]),\n",
       " array([0.29945817]),\n",
       " array([0.28760209]),\n",
       " array([0.27500316]),\n",
       " array([0.26157274]),\n",
       " array([0.24719635]),\n",
       " array([0.2317215]),\n",
       " array([0.21493724]),\n",
       " array([0.19653741]),\n",
       " array([0.17604833]),\n",
       " array([0.15266629]),\n",
       " array([0.12481313]),\n",
       " array([0.08844018])]"
      ]
     },
     "execution_count": 74,
     "metadata": {},
     "output_type": "execute_result"
    }
   ],
   "source": [
    "angle_bisection"
   ]
  },
  {
   "cell_type": "code",
   "execution_count": 75,
   "metadata": {},
   "outputs": [
    {
     "data": {
      "text/plain": [
       "[0.5235987755982988,\n",
       " array([0.52458121]),\n",
       " array([0.52450514]),\n",
       " array([0.52442417]),\n",
       " array([0.52433798]),\n",
       " array([0.52424625]),\n",
       " array([0.52414861]),\n",
       " array([0.52404469]),\n",
       " array([0.52393409]),\n",
       " array([0.52381637]),\n",
       " array([0.52369108]),\n",
       " array([0.52355774]),\n",
       " array([0.52341583]),\n",
       " array([0.5232648]),\n",
       " array([0.52310407]),\n",
       " array([0.52293302]),\n",
       " array([0.522751]),\n",
       " array([0.52255731]),\n",
       " array([0.5223512]),\n",
       " array([0.52213188]),\n",
       " array([0.52189851]),\n",
       " array([0.5216502]),\n",
       " array([0.52138601]),\n",
       " array([0.52110493]),\n",
       " array([0.52080589]),\n",
       " array([0.52048776]),\n",
       " array([0.52014933]),\n",
       " array([0.51978933]),\n",
       " array([0.51940639]),\n",
       " array([0.51899909]),\n",
       " array([0.51856589]),\n",
       " array([0.51810517]),\n",
       " array([0.51761523]),\n",
       " array([0.51709423]),\n",
       " array([0.51654026]),\n",
       " array([0.51595126]),\n",
       " array([0.51532508]),\n",
       " array([0.51465943]),\n",
       " array([0.51395188]),\n",
       " array([0.51319987]),\n",
       " array([0.51240067]),\n",
       " array([0.51155144]),\n",
       " array([0.51064912]),\n",
       " array([0.50969053]),\n",
       " array([0.50867228]),\n",
       " array([0.5075908]),\n",
       " array([0.50644233]),\n",
       " array([0.5052229]),\n",
       " array([0.50392834]),\n",
       " array([0.50255423]),\n",
       " array([0.50109594]),\n",
       " array([0.49954861]),\n",
       " array([0.49790712]),\n",
       " array([0.49616607]),\n",
       " array([0.49431984]),\n",
       " array([0.4923625]),\n",
       " array([0.49028784]),\n",
       " array([0.48808938]),\n",
       " array([0.4857603]),\n",
       " array([0.48329352]),\n",
       " array([0.4806816]),\n",
       " array([0.4779168]),\n",
       " array([0.47499103]),\n",
       " array([0.47189587]),\n",
       " array([0.46862255]),\n",
       " array([0.46516195]),\n",
       " array([0.46150455]),\n",
       " array([0.45764049]),\n",
       " array([0.45355951]),\n",
       " array([0.44925092]),\n",
       " array([0.44470364]),\n",
       " array([0.43990613]),\n",
       " array([0.43484639]),\n",
       " array([0.42951191]),\n",
       " array([0.42388964]),\n",
       " array([0.41796591]),\n",
       " array([0.41172641]),\n",
       " array([0.40515603]),\n",
       " array([0.39823882]),\n",
       " array([0.39095779]),\n",
       " array([0.38329473]),\n",
       " array([0.37522998]),\n",
       " array([0.36674214]),\n",
       " array([0.35780759]),\n",
       " array([0.34840004]),\n",
       " array([0.33848977]),\n",
       " array([0.32804276]),\n",
       " array([0.31701938]),\n",
       " array([0.30537272]),\n",
       " array([0.29304616]),\n",
       " array([0.27996998]),\n",
       " array([0.26605632]),\n",
       " array([0.25119149]),\n",
       " array([0.23522381]),\n",
       " array([0.21794319]),\n",
       " array([0.19904434]),\n",
       " array([0.17805443]),\n",
       " array([0.15417059]),\n",
       " array([0.12581545]),\n",
       " array([0.08889087])]"
      ]
     },
     "execution_count": 75,
     "metadata": {},
     "output_type": "execute_result"
    }
   ],
   "source": [
    "angle_eckart"
   ]
  },
  {
   "cell_type": "code",
   "execution_count": 76,
   "metadata": {},
   "outputs": [],
   "source": [
    "for i in range(0, len(angle_bisection)):\n",
    "    abs_Eckart_angle += abs(angle_bisection[i] - angle_eckart[i])\n",
    "    abs_Hunt_angle += abs(angle_bisection[i] - angle_hunt[i])"
   ]
  },
  {
   "cell_type": "code",
   "execution_count": 77,
   "metadata": {},
   "outputs": [],
   "source": [
    "mean_abs_Eckart_angle = abs_Eckart_angle / len(angle_eckart)\n",
    "mean_abs_Hunt_angle = abs_Hunt_angle / len(angle_hunt)"
   ]
  },
  {
   "cell_type": "code",
   "execution_count": 78,
   "metadata": {},
   "outputs": [
    {
     "data": {
      "text/plain": [
       "array([0.77287975])"
      ]
     },
     "execution_count": 78,
     "metadata": {},
     "output_type": "execute_result"
    }
   ],
   "source": [
    "mean_abs_Eckart_angle * 100"
   ]
  },
  {
   "cell_type": "code",
   "execution_count": 79,
   "metadata": {},
   "outputs": [
    {
     "data": {
      "text/plain": [
       "array([0.33519741])"
      ]
     },
     "execution_count": 79,
     "metadata": {},
     "output_type": "execute_result"
    }
   ],
   "source": [
    "mean_abs_Hunt_angle * 100"
   ]
  },
  {
   "cell_type": "code",
   "execution_count": null,
   "metadata": {},
   "outputs": [],
   "source": []
  },
  {
   "cell_type": "markdown",
   "metadata": {},
   "source": [
    "## Question 2"
   ]
  },
  {
   "cell_type": "markdown",
   "metadata": {},
   "source": [
    "1. 입사파의 각도가 $45^{\\circ}$인 경우"
   ]
  },
  {
   "cell_type": "code",
   "execution_count": 80,
   "metadata": {},
   "outputs": [],
   "source": [
    "init_angle = 45"
   ]
  },
  {
   "cell_type": "code",
   "execution_count": 81,
   "metadata": {},
   "outputs": [],
   "source": [
    "C1 = sigma / k0"
   ]
  },
  {
   "cell_type": "code",
   "execution_count": 82,
   "metadata": {},
   "outputs": [
    {
     "data": {
      "text/plain": [
       "5.577615166155759"
      ]
     },
     "execution_count": 82,
     "metadata": {},
     "output_type": "execute_result"
    }
   ],
   "source": [
    "C1"
   ]
  },
  {
   "cell_type": "code",
   "execution_count": 83,
   "metadata": {},
   "outputs": [],
   "source": [
    "angle_bisection = []\n",
    "angle_eckart = []\n",
    "angle_hunt = []\n",
    "degree_angle = []\n",
    "tanv_bisection = []\n",
    "tanv_hunt = []\n",
    "tanv_eckart = []\n",
    "\n",
    "h = []\n",
    "bisection_k = []\n",
    "eckart_k = []\n",
    "hunt_k = []\n",
    "hunt_y_45 = []"
   ]
  },
  {
   "cell_type": "code",
   "execution_count": 84,
   "metadata": {},
   "outputs": [],
   "source": [
    "a1 = init_angle * np.pi / 180"
   ]
  },
  {
   "cell_type": "code",
   "execution_count": 85,
   "metadata": {},
   "outputs": [],
   "source": [
    "h.append(h0)\n",
    "angle_bisection.append(a1)\n",
    "angle_eckart.append(a1)\n",
    "angle_hunt.append(a1)\n",
    "degree_angle.append(a1 * 180 / math.pi)\n",
    "tanv_bisection.append(np.tan(a1))\n",
    "tanv_eckart.append(np.tan(a1))\n",
    "tanv_hunt.append(np.tan(a1))\n",
    "bisection_k.append(k0)\n",
    "eckart_k.append(k0)\n",
    "hunt_k.append(k0)"
   ]
  },
  {
   "cell_type": "code",
   "execution_count": 86,
   "metadata": {},
   "outputs": [],
   "source": [
    "d = [0.6666666666, 0.3555555555, 0.1608465608, 0.0632098765, 0.0217540484, 0.0076507983]"
   ]
  },
  {
   "cell_type": "code",
   "execution_count": 87,
   "metadata": {},
   "outputs": [],
   "source": [
    "def f(x, sqr_omega, h1):\n",
    "    return g * (x / sqr_omega) * np.tanh([x*h1]) - 1"
   ]
  },
  {
   "cell_type": "code",
   "execution_count": 88,
   "metadata": {},
   "outputs": [],
   "source": [
    "def bisection_method(k_init, sqr_omega, h1):\n",
    "    error=0.5 * 10**(-6)\n",
    "\n",
    "    a = -0.01 + k_init\n",
    "    b = 0.01 + k_init\n",
    "    \n",
    "    while (b - a) / 2 > error:\n",
    "        c = (b + a) / 2\n",
    "        if f(c, sqr_omega, h1) == 0:\n",
    "            break\n",
    "        elif f(a, sqr_omega, h1)*f(c, sqr_omega, h1) > 0:\n",
    "            a = c\n",
    "        else:\n",
    "            b = c\n",
    "    c = (b + a) / 2\n",
    "\n",
    "    return c"
   ]
  },
  {
   "cell_type": "code",
   "execution_count": 89,
   "metadata": {},
   "outputs": [],
   "source": [
    "hunt_y_45.append(sqr_sigma*h0/g)"
   ]
  },
  {
   "cell_type": "markdown",
   "metadata": {},
   "source": [
    "기본적으로 np.arcsin의 경우 Radians값을 반환함. np.sin의 경우 그 인자로 Angles이 아닌, Radians 값을 대입함."
   ]
  },
  {
   "cell_type": "code",
   "execution_count": 90,
   "metadata": {},
   "outputs": [],
   "source": [
    "for i in range(0, 99):\n",
    "    h1 = round(10 - (1/10)*(i+1), 2)\n",
    "    k_init = sqr_sigma / (g * math.sqrt(np.tanh(sqr_sigma / g * h1)))\n",
    "    k2 = abs(bisection_method(k_init, sqr_sigma, h1))\n",
    "    C2 = sigma / k2\n",
    "    a2_bisection = np.arcsin(C2 / C1 * np.sin([init_angle * np.pi / 180]))\n",
    "    y = sqr_sigma*h1/g\n",
    "    hunt_y_45.append(y)\n",
    "    \n",
    "    dny = 0\n",
    "    \n",
    "    for j in range(0, len(d)):\n",
    "        dny += d[j] * (y ** (j+1))\n",
    "\n",
    "    k1 = math.sqrt(((y) ** 2 + ((y) / (1 + dny))) / (h1 ** 2))\n",
    "    C2_Hunt = sigma / k1\n",
    "    C2_Eckart = sigma / k_init\n",
    "    a2_hunt = np.arcsin(C2_Hunt / C1 * np.sin([init_angle * np.pi / 180]))\n",
    "    a2_eckart = np.arcsin(C2_Eckart / C1 * np.sin([init_angle * np.pi / 180]))\n",
    "    \n",
    "    hunt_k.append(k1)\n",
    "    eckart_k.append(k_init)\n",
    "    bisection_k.append(k2)\n",
    "    h.append(h1)\n",
    "    angle_bisection.append(a2_bisection)\n",
    "    angle_eckart.append(a2_eckart)\n",
    "    angle_hunt.append(a2_hunt)\n",
    "\n",
    "    tanv_bisection.append(np.tan(a2_bisection))\n",
    "    tanv_eckart.append(np.tan(a2_eckart))\n",
    "    tanv_hunt.append(np.tan(a2_hunt))"
   ]
  },
  {
   "cell_type": "code",
   "execution_count": 91,
   "metadata": {},
   "outputs": [
    {
     "data": {
      "text/plain": [
       "array([0.0607605])"
      ]
     },
     "execution_count": 91,
     "metadata": {},
     "output_type": "execute_result"
    }
   ],
   "source": [
    "abs(eckart_k[1] - bisection_k[1])*100"
   ]
  },
  {
   "cell_type": "code",
   "execution_count": 92,
   "metadata": {},
   "outputs": [
    {
     "data": {
      "text/plain": [
       "[0.7853981633974483,\n",
       " array([0.78516243]),\n",
       " array([0.78491099]),\n",
       " array([0.78464545]),\n",
       " array([0.78436141]),\n",
       " array([0.78406222]),\n",
       " array([0.78374341]),\n",
       " array([0.78340631]),\n",
       " array([0.78304836]),\n",
       " array([0.78266885]),\n",
       " array([0.78226516]),\n",
       " array([0.78183843]),\n",
       " array([0.78138592]),\n",
       " array([0.7809068]),\n",
       " array([0.78039823]),\n",
       " array([0.77986116]),\n",
       " array([0.77929078]),\n",
       " array([0.77868791]),\n",
       " array([0.77804953]),\n",
       " array([0.77737255]),\n",
       " array([0.77665762]),\n",
       " array([0.77590151]),\n",
       " array([0.77510283]),\n",
       " array([0.77425823]),\n",
       " array([0.77336429]),\n",
       " array([0.77242126]),\n",
       " array([0.77142555]),\n",
       " array([0.77037535]),\n",
       " array([0.76926506]),\n",
       " array([0.76809456]),\n",
       " array([0.7668599]),\n",
       " array([0.76555889]),\n",
       " array([0.7641874]),\n",
       " array([0.76274303]),\n",
       " array([0.76122322]),\n",
       " array([0.75962173]),\n",
       " array([0.75793759]),\n",
       " array([0.75616609]),\n",
       " array([0.75430421]),\n",
       " array([0.75234698]),\n",
       " array([0.75029109]),\n",
       " array([0.74813308]),\n",
       " array([0.74586757]),\n",
       " array([0.74349249]),\n",
       " array([0.74100046]),\n",
       " array([0.73838906]),\n",
       " array([0.73565397]),\n",
       " array([0.73279068]),\n",
       " array([0.72979282]),\n",
       " array([0.72665553]),\n",
       " array([0.72337694]),\n",
       " array([0.71994847]),\n",
       " array([0.7163662]),\n",
       " array([0.71262587]),\n",
       " array([0.70926922]),\n",
       " array([0.7062456]),\n",
       " array([0.7030451]),\n",
       " array([0.6996584]),\n",
       " array([0.69607583]),\n",
       " array([0.69228731]),\n",
       " array([0.68828238]),\n",
       " array([0.6840502]),\n",
       " array([0.6795795]),\n",
       " array([0.67485863]),\n",
       " array([0.66987553]),\n",
       " array([0.66461773]),\n",
       " array([0.65907233]),\n",
       " array([0.65322601]),\n",
       " array([0.64706503]),\n",
       " array([0.64057517]),\n",
       " array([0.63374177]),\n",
       " array([0.62654964]),\n",
       " array([0.61898309]),\n",
       " array([0.61102584]),\n",
       " array([0.60266097]),\n",
       " array([0.59387087]),\n",
       " array([0.58463708]),\n",
       " array([0.57494023]),\n",
       " array([0.5647598]),\n",
       " array([0.55407398]),\n",
       " array([0.54285933]),\n",
       " array([0.53109046]),\n",
       " array([0.51873958]),\n",
       " array([0.5057759]),\n",
       " array([0.49216486]),\n",
       " array([0.47786716]),\n",
       " array([0.46283741]),\n",
       " array([0.44702234]),\n",
       " array([0.43035843]),\n",
       " array([0.41276845]),\n",
       " array([0.39415666]),\n",
       " array([0.37440174]),\n",
       " array([0.35334594]),\n",
       " array([0.33077794]),\n",
       " array([0.30640403]),\n",
       " array([0.27979639]),\n",
       " array([0.25029097]),\n",
       " array([0.21675843]),\n",
       " array([0.17697688]),\n",
       " array([0.12523745])]"
      ]
     },
     "execution_count": 92,
     "metadata": {},
     "output_type": "execute_result"
    }
   ],
   "source": [
    "angle_bisection"
   ]
  },
  {
   "cell_type": "code",
   "execution_count": 93,
   "metadata": {},
   "outputs": [
    {
     "data": {
      "text/plain": [
       "array([44.98649347])"
      ]
     },
     "execution_count": 93,
     "metadata": {},
     "output_type": "execute_result"
    }
   ],
   "source": [
    "angle_bisection[1] * 180 / math.pi"
   ]
  },
  {
   "cell_type": "code",
   "execution_count": 94,
   "metadata": {},
   "outputs": [
    {
     "data": {
      "text/plain": [
       "array([0.99952864])"
      ]
     },
     "execution_count": 94,
     "metadata": {},
     "output_type": "execute_result"
    }
   ],
   "source": [
    "tanv_bisection[1]"
   ]
  },
  {
   "cell_type": "code",
   "execution_count": 95,
   "metadata": {},
   "outputs": [
    {
     "data": {
      "text/plain": [
       "100"
      ]
     },
     "execution_count": 95,
     "metadata": {},
     "output_type": "execute_result"
    }
   ],
   "source": [
    "len(h)"
   ]
  },
  {
   "cell_type": "code",
   "execution_count": 96,
   "metadata": {},
   "outputs": [],
   "source": [
    "X = np.arange(0, 100)"
   ]
  },
  {
   "cell_type": "code",
   "execution_count": 97,
   "metadata": {},
   "outputs": [],
   "source": [
    "DeltaX = round(abs(X[0] - X[1]), 1)"
   ]
  },
  {
   "cell_type": "code",
   "execution_count": 98,
   "metadata": {},
   "outputs": [
    {
     "data": {
      "text/plain": [
       "1"
      ]
     },
     "execution_count": 98,
     "metadata": {},
     "output_type": "execute_result"
    }
   ],
   "source": [
    "DeltaX"
   ]
  },
  {
   "cell_type": "code",
   "execution_count": 99,
   "metadata": {},
   "outputs": [],
   "source": [
    "Deltah = round(abs(h[0] - h[1]), 1)"
   ]
  },
  {
   "cell_type": "code",
   "execution_count": 100,
   "metadata": {},
   "outputs": [
    {
     "data": {
      "text/plain": [
       "0.1"
      ]
     },
     "execution_count": 100,
     "metadata": {},
     "output_type": "execute_result"
    }
   ],
   "source": [
    "Deltah "
   ]
  },
  {
   "cell_type": "code",
   "execution_count": 101,
   "metadata": {},
   "outputs": [],
   "source": [
    "Y_45 = []\n",
    "x_Y_45 = []"
   ]
  },
  {
   "cell_type": "code",
   "execution_count": 102,
   "metadata": {},
   "outputs": [],
   "source": [
    "added_x_Y_b_45 = []\n",
    "added_x_Y_e_45 = []\n",
    "added_x_Y_h_45 = []"
   ]
  },
  {
   "cell_type": "code",
   "execution_count": 103,
   "metadata": {},
   "outputs": [],
   "source": [
    "added_h_Y_b_45 = []\n",
    "added_h_Y_e_45 = []\n",
    "added_h_Y_h_45 = []"
   ]
  },
  {
   "cell_type": "code",
   "execution_count": 104,
   "metadata": {},
   "outputs": [],
   "source": [
    "added_x_Y_b_v_45 = 0\n",
    "added_x_Y_e_v_45 = 0\n",
    "added_x_Y_h_v_45 = 0"
   ]
  },
  {
   "cell_type": "code",
   "execution_count": 105,
   "metadata": {},
   "outputs": [],
   "source": [
    "added_h_Y_b_v_45 = 0\n",
    "added_h_Y_e_v_45 = 0\n",
    "added_h_Y_h_v_45 = 0"
   ]
  },
  {
   "cell_type": "code",
   "execution_count": 106,
   "metadata": {},
   "outputs": [
    {
     "data": {
      "text/plain": [
       "100"
      ]
     },
     "execution_count": 106,
     "metadata": {},
     "output_type": "execute_result"
    }
   ],
   "source": [
    "len(tanv_bisection)"
   ]
  },
  {
   "cell_type": "code",
   "execution_count": 107,
   "metadata": {},
   "outputs": [],
   "source": [
    "for i in range(0, len(tanv_bisection)):\n",
    "    added_x_Y_b_v_45 += (tanv_bisection[i] * DeltaX).item()\n",
    "    added_x_Y_e_v_45 += (tanv_eckart[i] * DeltaX).item()\n",
    "    added_x_Y_h_v_45 += (tanv_hunt[i] * DeltaX).item()\n",
    "    added_x_Y_b_45.append(added_x_Y_b_v_45)\n",
    "    added_x_Y_e_45.append(added_x_Y_e_v_45)\n",
    "    added_x_Y_h_45.append(added_x_Y_h_v_45)"
   ]
  },
  {
   "cell_type": "code",
   "execution_count": 108,
   "metadata": {},
   "outputs": [],
   "source": [
    "for i in range(0, len(tanv_bisection)):\n",
    "    added_h_Y_b_v_45 += (tanv_bisection[i] * Deltah).item()\n",
    "    added_h_Y_e_v_45 += (tanv_eckart[i] * Deltah).item()\n",
    "    added_h_Y_h_v_45 += (tanv_hunt[i] * Deltah).item()\n",
    "    added_h_Y_b_45.append(added_h_Y_b_v_45)\n",
    "    added_h_Y_e_45.append(added_h_Y_e_v_45)\n",
    "    added_h_Y_h_45.append(added_h_Y_h_v_45)"
   ]
  },
  {
   "cell_type": "code",
   "execution_count": 109,
   "metadata": {},
   "outputs": [
    {
     "data": {
      "text/plain": [
       "[0.09999999999999999,\n",
       " 0.1996807042699594,\n",
       " 0.29930745659857927,\n",
       " 0.3988773462309304,\n",
       " 0.4983873010347343,\n",
       " 0.5978340788630517,\n",
       " 0.6972142585277168,\n",
       " 0.7965242303763529,\n",
       " 0.895760186467154,\n",
       " 0.994918110337184,\n",
       " 1.0939937663617714,\n",
       " 1.1929826887046668,\n",
       " 1.2918801698610067,\n",
       " 1.3906812487978082,\n",
       " 1.489380698699719,\n",
       " 1.587973014331079,\n",
       " 1.6864523990290288,\n",
       " 1.7848127513464183,\n",
       " 1.8830476513676606,\n",
       " 1.9811503467253924,\n",
       " 2.079113738350876,\n",
       " 2.176930365996469,\n",
       " 2.2745923935741685,\n",
       " 2.3720915943601852,\n",
       " 2.4694193361216596,\n",
       " 2.5665665662279378,\n",
       " 2.6635237968152135,\n",
       " 2.7602810900797214,\n",
       " 2.8568280437809292,\n",
       " 2.953153777042224,\n",
       " 3.0492469165422538,\n",
       " 3.1450955831952725,\n",
       " 3.240687379423316,\n",
       " 3.3360093771267234,\n",
       " 3.4310481064621308,\n",
       " 3.5257895455385015,\n",
       " 3.6202191111417603,\n",
       " 3.714321650597016,\n",
       " 3.8080814348739764,\n",
       " 3.9014821530358184,\n",
       " 3.9945069081243054,\n",
       " 4.087138214564228,\n",
       " 4.1793579971581405,\n",
       " 4.271147591727846,\n",
       " 4.362487747442108,\n",
       " 4.4533586308506115,\n",
       " 4.543739831622427,\n",
       " 4.633610369963159,\n",
       " 4.722948705658837,\n",
       " 4.8117327486666515,\n",
       " 4.8999398711430455,\n",
       " 4.987546920768865,\n",
       " 5.074530235199488,\n",
       " 5.160865657435476,\n",
       " 5.246528551876671,\n",
       " 5.3314938207900715,\n",
       " 5.415735920889588,\n",
       " 5.499228879694058,\n",
       " 5.581946311298761,\n",
       " 5.663861431165219,\n",
       " 5.74494706950388,\n",
       " 5.825175682794271,\n",
       " 5.904519362956494,\n",
       " 5.982949843655885,\n",
       " 6.060438503187927,\n",
       " 6.136956363351717,\n",
       " 6.212474083675353,\n",
       " 6.2869619503032075,\n",
       " 6.360389858790005,\n",
       " 6.432727289966208,\n",
       " 6.50394327793858,\n",
       " 6.574006369162949,\n",
       " 6.642884571365531,\n",
       " 6.710545290884881,\n",
       " 6.776955256745882,\n",
       " 6.842080429443599,\n",
       " 6.905885891985916,\n",
       " 6.968335720189821,\n",
       " 7.029392828505802,\n",
       " 7.089018786701165,\n",
       " 7.14717360148585,\n",
       " 7.203815455498502,\n",
       " 7.25890039381901,\n",
       " 7.31238194508868,\n",
       " 7.364210660026544,\n",
       " 7.414333544052863,\n",
       " 7.462693351956492,\n",
       " 7.509227699591903,\n",
       " 7.553867927990763,\n",
       " 7.596537624744722,\n",
       " 7.637150658370193,\n",
       " 7.67560849913755,\n",
       " 7.711796455847225,\n",
       " 7.745578191643326,\n",
       " 7.776787354809084,\n",
       " 7.80521402481499,\n",
       " 7.830580939340573,\n",
       " 7.85249679165703,\n",
       " 7.870346761712641,\n",
       " 7.8829363972449515]"
      ]
     },
     "execution_count": 109,
     "metadata": {},
     "output_type": "execute_result"
    }
   ],
   "source": [
    "added_h_Y_h_45"
   ]
  },
  {
   "cell_type": "code",
   "execution_count": 110,
   "metadata": {},
   "outputs": [
    {
     "data": {
      "image/png": "[encoded data removed]",
      "text/plain": [
       "<Figure size 432x288 with 1 Axes>"
      ]
     },
     "metadata": {
      "needs_background": "light"
     },
     "output_type": "display_data"
    }
   ],
   "source": [
    "import matplotlib.pyplot as plt\n",
    "import numpy as np\n",
    "import math\n",
    "  \n",
    "# Plotting both the curves simultaneously\n",
    "plt.plot(h, added_h_Y_b_45, color='r', label=\"$y$(m)\")\n",
    "  \n",
    "# Naming the x-axis, y-axis and the whole graph\n",
    "plt.xlabel(\"Depth($h(m)$)\")\n",
    "plt.ylabel(\"Distance $y$(m)\")\n",
    "\n",
    "plt.axis([max(h),min(h),min(added_h_Y_b_45),max(added_h_Y_b_45)])\n",
    "\n",
    "plt.ylim(0, 13)\n",
    "  \n",
    "# To load the display window\n",
    "plt.show()"
   ]
  },
  {
   "cell_type": "code",
   "execution_count": 111,
   "metadata": {},
   "outputs": [
    {
     "data": {
      "image/png": "[encoded data removed]",
      "text/plain": [
       "<Figure size 432x288 with 1 Axes>"
      ]
     },
     "metadata": {
      "needs_background": "light"
     },
     "output_type": "display_data"
    }
   ],
   "source": [
    "import matplotlib.pyplot as plt\n",
    "import numpy as np\n",
    "import math\n",
    "  \n",
    "# Plotting both the curves simultaneously\n",
    "plt.plot(X, added_x_Y_b_45, color='r', label=\"$y$(m)\")\n",
    "  \n",
    "# Naming the x-axis, y-axis and the whole graph\n",
    "plt.xlabel(\"Distance($x(m)$)\")\n",
    "plt.ylabel(\"Distance $y$(m)\")\n",
    "\n",
    "plt.axis([min(X),max(X),min(added_x_Y_b_45),max(added_x_Y_b_45)])\n",
    "\n",
    "plt.ylim(0, 130)\n",
    "  \n",
    "# To load the display window\n",
    "plt.show()"
   ]
  },
  {
   "cell_type": "code",
   "execution_count": 112,
   "metadata": {},
   "outputs": [
    {
     "data": {
      "image/png": "[encoded data removed]",
      "text/plain": [
       "<Figure size 432x288 with 1 Axes>"
      ]
     },
     "metadata": {
      "needs_background": "light"
     },
     "output_type": "display_data"
    }
   ],
   "source": [
    "import matplotlib.pyplot as plt\n",
    "import numpy as np\n",
    "import math\n",
    "  \n",
    "# Plotting both the curves simultaneously\n",
    "plt.plot(X, added_x_Y_b_45, color='r', label=\"$y$(m)\")\n",
    "\n",
    "plt.axis([min(X),max(X),min(added_x_Y_b_45),max(added_x_Y_b_45)])\n",
    "\n",
    "plt.ylim(0, 130)\n",
    "  \n",
    "# To load the display window\n",
    "plt.show()"
   ]
  },
  {
   "cell_type": "code",
   "execution_count": 113,
   "metadata": {},
   "outputs": [
    {
     "data": {
      "text/plain": [
       "[10,\n",
       " 9.9,\n",
       " 9.8,\n",
       " 9.7,\n",
       " 9.6,\n",
       " 9.5,\n",
       " 9.4,\n",
       " 9.3,\n",
       " 9.2,\n",
       " 9.1,\n",
       " 9.0,\n",
       " 8.9,\n",
       " 8.8,\n",
       " 8.7,\n",
       " 8.6,\n",
       " 8.5,\n",
       " 8.4,\n",
       " 8.3,\n",
       " 8.2,\n",
       " 8.1,\n",
       " 8.0,\n",
       " 7.9,\n",
       " 7.8,\n",
       " 7.7,\n",
       " 7.6,\n",
       " 7.5,\n",
       " 7.4,\n",
       " 7.3,\n",
       " 7.2,\n",
       " 7.1,\n",
       " 7.0,\n",
       " 6.9,\n",
       " 6.8,\n",
       " 6.7,\n",
       " 6.6,\n",
       " 6.5,\n",
       " 6.4,\n",
       " 6.3,\n",
       " 6.2,\n",
       " 6.1,\n",
       " 6.0,\n",
       " 5.9,\n",
       " 5.8,\n",
       " 5.7,\n",
       " 5.6,\n",
       " 5.5,\n",
       " 5.4,\n",
       " 5.3,\n",
       " 5.2,\n",
       " 5.1,\n",
       " 5.0,\n",
       " 4.9,\n",
       " 4.8,\n",
       " 4.7,\n",
       " 4.6,\n",
       " 4.5,\n",
       " 4.4,\n",
       " 4.3,\n",
       " 4.2,\n",
       " 4.1,\n",
       " 4.0,\n",
       " 3.9,\n",
       " 3.8,\n",
       " 3.7,\n",
       " 3.6,\n",
       " 3.5,\n",
       " 3.4,\n",
       " 3.3,\n",
       " 3.2,\n",
       " 3.1,\n",
       " 3.0,\n",
       " 2.9,\n",
       " 2.8,\n",
       " 2.7,\n",
       " 2.6,\n",
       " 2.5,\n",
       " 2.4,\n",
       " 2.3,\n",
       " 2.2,\n",
       " 2.1,\n",
       " 2.0,\n",
       " 1.9,\n",
       " 1.8,\n",
       " 1.7,\n",
       " 1.6,\n",
       " 1.5,\n",
       " 1.4,\n",
       " 1.3,\n",
       " 1.2,\n",
       " 1.1,\n",
       " 1.0,\n",
       " 0.9,\n",
       " 0.8,\n",
       " 0.7,\n",
       " 0.6,\n",
       " 0.5,\n",
       " 0.4,\n",
       " 0.3,\n",
       " 0.2,\n",
       " 0.1]"
      ]
     },
     "execution_count": 113,
     "metadata": {},
     "output_type": "execute_result"
    }
   ],
   "source": [
    "h"
   ]
  },
  {
   "cell_type": "code",
   "execution_count": 114,
   "metadata": {},
   "outputs": [
    {
     "data": {
      "image/png": "[encoded data removed]",
      "text/plain": [
       "<Figure size 432x288 with 1 Axes>"
      ]
     },
     "metadata": {
      "needs_background": "light"
     },
     "output_type": "display_data"
    }
   ],
   "source": [
    "import matplotlib.pyplot as plt\n",
    "import numpy as np\n",
    "import math\n",
    "  \n",
    "# Plotting both the curves simultaneously\n",
    "plt.plot(h, added_h_Y_e_45, color='r', label=\"$y$(m)\")\n",
    "  \n",
    "# Naming the x-axis, y-axis and the whole graph\n",
    "plt.xlabel(\"Depth($h(m)$)\")\n",
    "plt.ylabel(\"Distance $y$(m)\")\n",
    "\n",
    "plt.axis([max(h),min(h),min(added_h_Y_e_45),max(added_h_Y_e_45)])\n",
    "\n",
    "plt.ylim(0, 13)\n",
    "  \n",
    "# To load the display window\n",
    "plt.show()"
   ]
  },
  {
   "cell_type": "code",
   "execution_count": 115,
   "metadata": {},
   "outputs": [
    {
     "data": {
      "image/png": "[encoded data removed]",
      "text/plain": [
       "<Figure size 432x288 with 1 Axes>"
      ]
     },
     "metadata": {
      "needs_background": "light"
     },
     "output_type": "display_data"
    }
   ],
   "source": [
    "import matplotlib.pyplot as plt\n",
    "import numpy as np\n",
    "import math\n",
    "  \n",
    "# Plotting both the curves simultaneously\n",
    "plt.plot(h, added_h_Y_h_45, color='r', label=\"$y$(m)\")\n",
    "\n",
    "  \n",
    "# Naming the x-axis, y-axis and the whole graph\n",
    "plt.xlabel(\"Depth($h(m)$)\")\n",
    "plt.ylabel(\"Distance $y$(m)\")\n",
    "\n",
    "plt.axis([max(h),min(h),min(added_h_Y_h_45),max(added_h_Y_h_45)])\n",
    "\n",
    "plt.ylim(0, 13)\n",
    "  \n",
    "# To load the display window\n",
    "plt.show()"
   ]
  },
  {
   "cell_type": "code",
   "execution_count": 174,
   "metadata": {},
   "outputs": [
    {
     "data": {
      "image/png": "[encoded data removed]",
      "text/plain": [
       "<Figure size 432x288 with 1 Axes>"
      ]
     },
     "metadata": {
      "needs_background": "light"
     },
     "output_type": "display_data"
    }
   ],
   "source": [
    "import matplotlib.pyplot as plt\n",
    "import numpy as np\n",
    "import math\n",
    "  \n",
    "# Plotting both the curves simultaneously\n",
    "plt.plot(h, added_h_Y_b_45, color='r', label=\"Bisection Method\")\n",
    "plt.plot(h, added_h_Y_e_45, color='g', label=\"Eckart's Method\")\n",
    "plt.plot(h, added_h_Y_h_45, color='b', label=\"Hunt's Method\")\n",
    "  \n",
    "# Naming the x-axis, y-axis and the whole graph\n",
    "plt.xlabel(\"Depth($h(m)$)\")\n",
    "plt.ylabel(\"Distance $y$(m)\")\n",
    "\n",
    "plt.axis([max(h),min(h),min(added_h_Y_h_45),max(added_h_Y_h_45)])\n",
    "\n",
    "plt.ylim(0, 13)\n",
    "\n",
    "plt.legend()\n",
    "  \n",
    "# To load the display window\n",
    "plt.show()"
   ]
  },
  {
   "cell_type": "code",
   "execution_count": 116,
   "metadata": {},
   "outputs": [],
   "source": [
    "abs_Eckart_angle = 0\n",
    "abs_Hunt_angle = 0"
   ]
  },
  {
   "cell_type": "code",
   "execution_count": 117,
   "metadata": {},
   "outputs": [
    {
     "data": {
      "text/plain": [
       "100"
      ]
     },
     "execution_count": 117,
     "metadata": {},
     "output_type": "execute_result"
    }
   ],
   "source": [
    "len(angle_bisection)"
   ]
  },
  {
   "cell_type": "code",
   "execution_count": 118,
   "metadata": {},
   "outputs": [
    {
     "data": {
      "text/plain": [
       "100"
      ]
     },
     "execution_count": 118,
     "metadata": {},
     "output_type": "execute_result"
    }
   ],
   "source": [
    "len(angle_eckart)"
   ]
  },
  {
   "cell_type": "code",
   "execution_count": 119,
   "metadata": {},
   "outputs": [
    {
     "data": {
      "text/plain": [
       "100"
      ]
     },
     "execution_count": 119,
     "metadata": {},
     "output_type": "execute_result"
    }
   ],
   "source": [
    "len(angle_hunt)"
   ]
  },
  {
   "cell_type": "code",
   "execution_count": 120,
   "metadata": {},
   "outputs": [
    {
     "data": {
      "text/plain": [
       "[0.7853981633974483,\n",
       " array([0.78516243]),\n",
       " array([0.78491099]),\n",
       " array([0.78464545]),\n",
       " array([0.78436141]),\n",
       " array([0.78406222]),\n",
       " array([0.78374341]),\n",
       " array([0.78340631]),\n",
       " array([0.78304836]),\n",
       " array([0.78266885]),\n",
       " array([0.78226516]),\n",
       " array([0.78183843]),\n",
       " array([0.78138592]),\n",
       " array([0.7809068]),\n",
       " array([0.78039823]),\n",
       " array([0.77986116]),\n",
       " array([0.77929078]),\n",
       " array([0.77868791]),\n",
       " array([0.77804953]),\n",
       " array([0.77737255]),\n",
       " array([0.77665762]),\n",
       " array([0.77590151]),\n",
       " array([0.77510283]),\n",
       " array([0.77425823]),\n",
       " array([0.77336429]),\n",
       " array([0.77242126]),\n",
       " array([0.77142555]),\n",
       " array([0.77037535]),\n",
       " array([0.76926506]),\n",
       " array([0.76809456]),\n",
       " array([0.7668599]),\n",
       " array([0.76555889]),\n",
       " array([0.7641874]),\n",
       " array([0.76274303]),\n",
       " array([0.76122322]),\n",
       " array([0.75962173]),\n",
       " array([0.75793759]),\n",
       " array([0.75616609]),\n",
       " array([0.75430421]),\n",
       " array([0.75234698]),\n",
       " array([0.75029109]),\n",
       " array([0.74813308]),\n",
       " array([0.74586757]),\n",
       " array([0.74349249]),\n",
       " array([0.74100046]),\n",
       " array([0.73838906]),\n",
       " array([0.73565397]),\n",
       " array([0.73279068]),\n",
       " array([0.72979282]),\n",
       " array([0.72665553]),\n",
       " array([0.72337694]),\n",
       " array([0.71994847]),\n",
       " array([0.7163662]),\n",
       " array([0.71262587]),\n",
       " array([0.70926922]),\n",
       " array([0.7062456]),\n",
       " array([0.7030451]),\n",
       " array([0.6996584]),\n",
       " array([0.69607583]),\n",
       " array([0.69228731]),\n",
       " array([0.68828238]),\n",
       " array([0.6840502]),\n",
       " array([0.6795795]),\n",
       " array([0.67485863]),\n",
       " array([0.66987553]),\n",
       " array([0.66461773]),\n",
       " array([0.65907233]),\n",
       " array([0.65322601]),\n",
       " array([0.64706503]),\n",
       " array([0.64057517]),\n",
       " array([0.63374177]),\n",
       " array([0.62654964]),\n",
       " array([0.61898309]),\n",
       " array([0.61102584]),\n",
       " array([0.60266097]),\n",
       " array([0.59387087]),\n",
       " array([0.58463708]),\n",
       " array([0.57494023]),\n",
       " array([0.5647598]),\n",
       " array([0.55407398]),\n",
       " array([0.54285933]),\n",
       " array([0.53109046]),\n",
       " array([0.51873958]),\n",
       " array([0.5057759]),\n",
       " array([0.49216486]),\n",
       " array([0.47786716]),\n",
       " array([0.46283741]),\n",
       " array([0.44702234]),\n",
       " array([0.43035843]),\n",
       " array([0.41276845]),\n",
       " array([0.39415666]),\n",
       " array([0.37440174]),\n",
       " array([0.35334594]),\n",
       " array([0.33077794]),\n",
       " array([0.30640403]),\n",
       " array([0.27979639]),\n",
       " array([0.25029097]),\n",
       " array([0.21675843]),\n",
       " array([0.17697688]),\n",
       " array([0.12523745])]"
      ]
     },
     "execution_count": 120,
     "metadata": {},
     "output_type": "execute_result"
    }
   ],
   "source": [
    "angle_bisection"
   ]
  },
  {
   "cell_type": "code",
   "execution_count": 121,
   "metadata": {},
   "outputs": [
    {
     "data": {
      "text/plain": [
       "[0.7853981633974483,\n",
       " array([0.78710075]),\n",
       " array([0.78696885]),\n",
       " array([0.78682847]),\n",
       " array([0.78667906]),\n",
       " array([0.78652004]),\n",
       " array([0.78635082]),\n",
       " array([0.78617072]),\n",
       " array([0.78597906]),\n",
       " array([0.78577509]),\n",
       " array([0.78555805]),\n",
       " array([0.78532708]),\n",
       " array([0.78508132]),\n",
       " array([0.78481981]),\n",
       " array([0.78454155]),\n",
       " array([0.78424549]),\n",
       " array([0.7839305]),\n",
       " array([0.78359537]),\n",
       " array([0.78323885]),\n",
       " array([0.78285956]),\n",
       " array([0.7824561]),\n",
       " array([0.78202692]),\n",
       " array([0.78157042]),\n",
       " array([0.78108488]),\n",
       " array([0.7805685]),\n",
       " array([0.78001934]),\n",
       " array([0.77943535]),\n",
       " array([0.77881439]),\n",
       " array([0.77815415]),\n",
       " array([0.7774522]),\n",
       " array([0.77670598]),\n",
       " array([0.77591276]),\n",
       " array([0.77506967]),\n",
       " array([0.77417364]),\n",
       " array([0.77322147]),\n",
       " array([0.77220975]),\n",
       " array([0.77113488]),\n",
       " array([0.76999306]),\n",
       " array([0.76878029]),\n",
       " array([0.76749233]),\n",
       " array([0.76612472]),\n",
       " array([0.76467278]),\n",
       " array([0.76313154]),\n",
       " array([0.76149581]),\n",
       " array([0.75976011]),\n",
       " array([0.75791868]),\n",
       " array([0.75596548]),\n",
       " array([0.75389418]),\n",
       " array([0.75169812]),\n",
       " array([0.74937034]),\n",
       " array([0.74690355]),\n",
       " array([0.74429013]),\n",
       " array([0.74152211]),\n",
       " array([0.73859119]),\n",
       " array([0.73548871]),\n",
       " array([0.73220564]),\n",
       " array([0.72873259]),\n",
       " array([0.72505981]),\n",
       " array([0.72117718]),\n",
       " array([0.71707419]),\n",
       " array([0.71273998]),\n",
       " array([0.7081633]),\n",
       " array([0.70333251]),\n",
       " array([0.69823563]),\n",
       " array([0.69286027]),\n",
       " array([0.68719367]),\n",
       " array([0.68122272]),\n",
       " array([0.67493389]),\n",
       " array([0.66831328]),\n",
       " array([0.66134658]),\n",
       " array([0.65401909]),\n",
       " array([0.64631565]),\n",
       " array([0.63822065]),\n",
       " array([0.62971797]),\n",
       " array([0.62079091]),\n",
       " array([0.61142215]),\n",
       " array([0.60159363]),\n",
       " array([0.59128639]),\n",
       " array([0.58048048]),\n",
       " array([0.56915467]),\n",
       " array([0.5572862]),\n",
       " array([0.54485046]),\n",
       " array([0.53182047]),\n",
       " array([0.51816634]),\n",
       " array([0.50385449]),\n",
       " array([0.48884662]),\n",
       " array([0.47309843]),\n",
       " array([0.45655779]),\n",
       " array([0.43916233]),\n",
       " array([0.42083602]),\n",
       " array([0.40148437]),\n",
       " array([0.38098729]),\n",
       " array([0.35918827]),\n",
       " array([0.33587724]),\n",
       " array([0.31076175]),\n",
       " array([0.28341514]),\n",
       " array([0.25317455]),\n",
       " array([0.21891173]),\n",
       " array([0.17840576]),\n",
       " array([0.12587735])]"
      ]
     },
     "execution_count": 121,
     "metadata": {},
     "output_type": "execute_result"
    }
   ],
   "source": [
    "angle_eckart"
   ]
  },
  {
   "cell_type": "code",
   "execution_count": 122,
   "metadata": {},
   "outputs": [],
   "source": [
    "for i in range(0, len(angle_bisection)):\n",
    "    abs_Eckart_angle += abs(angle_bisection[i] - angle_eckart[i])\n",
    "    abs_Hunt_angle += abs(angle_bisection[i] - angle_hunt[i])"
   ]
  },
  {
   "cell_type": "code",
   "execution_count": 123,
   "metadata": {},
   "outputs": [],
   "source": [
    "mean_abs_Eckart_angle = abs_Eckart_angle / len(angle_eckart)\n",
    "mean_abs_Hunt_angle = abs_Hunt_angle / len(angle_hunt)"
   ]
  },
  {
   "cell_type": "code",
   "execution_count": 124,
   "metadata": {},
   "outputs": [
    {
     "data": {
      "text/plain": [
       "array([1.2659064])"
      ]
     },
     "execution_count": 124,
     "metadata": {},
     "output_type": "execute_result"
    }
   ],
   "source": [
    "mean_abs_Eckart_angle * 100"
   ]
  },
  {
   "cell_type": "code",
   "execution_count": 125,
   "metadata": {},
   "outputs": [
    {
     "data": {
      "text/plain": [
       "array([0.52660238])"
      ]
     },
     "execution_count": 125,
     "metadata": {},
     "output_type": "execute_result"
    }
   ],
   "source": [
    "mean_abs_Hunt_angle * 100"
   ]
  },
  {
   "cell_type": "markdown",
   "metadata": {},
   "source": [
    "## Question 3"
   ]
  },
  {
   "cell_type": "markdown",
   "metadata": {},
   "source": [
    "1. 입사파의 각도가 $60^{\\circ}$인 경우"
   ]
  },
  {
   "cell_type": "code",
   "execution_count": 126,
   "metadata": {},
   "outputs": [],
   "source": [
    "init_angle = 60"
   ]
  },
  {
   "cell_type": "code",
   "execution_count": 127,
   "metadata": {},
   "outputs": [],
   "source": [
    "C1 = sigma / k0"
   ]
  },
  {
   "cell_type": "code",
   "execution_count": 128,
   "metadata": {},
   "outputs": [
    {
     "data": {
      "text/plain": [
       "5.577615166155759"
      ]
     },
     "execution_count": 128,
     "metadata": {},
     "output_type": "execute_result"
    }
   ],
   "source": [
    "C1"
   ]
  },
  {
   "cell_type": "code",
   "execution_count": 129,
   "metadata": {},
   "outputs": [],
   "source": [
    "angle_bisection = []\n",
    "angle_eckart = []\n",
    "angle_hunt = []\n",
    "degree_angle = []\n",
    "tanv_bisection = []\n",
    "tanv_hunt = []\n",
    "tanv_eckart = []\n",
    "\n",
    "h = []\n",
    "bisection_k = []\n",
    "eckart_k = []\n",
    "hunt_k = []\n",
    "hunt_y_60 = []"
   ]
  },
  {
   "cell_type": "code",
   "execution_count": 130,
   "metadata": {},
   "outputs": [],
   "source": [
    "a1 = init_angle * np.pi / 180"
   ]
  },
  {
   "cell_type": "code",
   "execution_count": 131,
   "metadata": {},
   "outputs": [],
   "source": [
    "h.append(h0)\n",
    "angle_bisection.append(a1)\n",
    "angle_eckart.append(a1)\n",
    "angle_hunt.append(a1)\n",
    "degree_angle.append(a1 * 180 / math.pi)\n",
    "tanv_bisection.append(np.tan(a1))\n",
    "tanv_eckart.append(np.tan(a1))\n",
    "tanv_hunt.append(np.tan(a1))\n",
    "bisection_k.append(k0)\n",
    "eckart_k.append(k0)\n",
    "hunt_k.append(k0)"
   ]
  },
  {
   "cell_type": "code",
   "execution_count": 132,
   "metadata": {},
   "outputs": [],
   "source": [
    "d = [0.6666666666, 0.3555555555, 0.1608465608, 0.0632098765, 0.0217540484, 0.0076507983]"
   ]
  },
  {
   "cell_type": "code",
   "execution_count": 133,
   "metadata": {},
   "outputs": [],
   "source": [
    "def f(x, sqr_omega, h1):\n",
    "    return g * (x / sqr_omega) * np.tanh([x*h1]) - 1"
   ]
  },
  {
   "cell_type": "code",
   "execution_count": 134,
   "metadata": {},
   "outputs": [],
   "source": [
    "def bisection_method(k_init, sqr_omega, h1):\n",
    "    error=0.5 * 10**(-6)\n",
    "\n",
    "    a = -0.01 + k_init\n",
    "    b = 0.01 + k_init\n",
    "    \n",
    "    while (b - a) / 2 > error:\n",
    "        c = (b + a) / 2\n",
    "        if f(c, sqr_omega, h1) == 0:\n",
    "            break\n",
    "        elif f(a, sqr_omega, h1)*f(c, sqr_omega, h1) > 0:\n",
    "            a = c\n",
    "        else:\n",
    "            b = c\n",
    "    c = (b + a) / 2\n",
    "\n",
    "    return c"
   ]
  },
  {
   "cell_type": "code",
   "execution_count": 135,
   "metadata": {},
   "outputs": [],
   "source": [
    "hunt_y_60.append(sqr_sigma*h0/g)"
   ]
  },
  {
   "cell_type": "markdown",
   "metadata": {},
   "source": [
    "기본적으로 np.arcsin의 경우 Radians값을 반환함. np.sin의 경우 그 인자로 Angles이 아닌, Radians 값을 대입함."
   ]
  },
  {
   "cell_type": "code",
   "execution_count": 136,
   "metadata": {},
   "outputs": [
    {
     "name": "stdout",
     "output_type": "stream",
     "text": [
      "[5.57630018]\n",
      "[5.57489725]\n",
      "[5.57341524]\n",
      "[5.57182958]\n",
      "[5.57015879]\n",
      "[5.56837794]\n",
      "[5.56649434]\n",
      "[5.56449347]\n",
      "[5.56237138]\n",
      "[5.56011312]\n",
      "[5.55772502]\n",
      "[5.55519161]\n",
      "[5.55250789]\n",
      "[5.54965783]\n",
      "[5.54664657]\n",
      "[5.5434467]\n",
      "[5.54006266]\n",
      "[5.53647708]\n",
      "[5.53267223]\n",
      "[5.52865132]\n",
      "[5.52439577]\n",
      "[5.5198972]\n",
      "[5.51513614]\n",
      "[5.51009264]\n",
      "[5.5047674]\n",
      "[5.49913937]\n",
      "[5.49319747]\n",
      "[5.486909]\n",
      "[5.48027214]\n",
      "[5.47326338]\n",
      "[5.46586896]\n",
      "[5.45806394]\n",
      "[5.44983303]\n",
      "[5.44116002]\n",
      "[5.43200724]\n",
      "[5.42236705]\n",
      "[5.41221025]\n",
      "[5.40151688]\n",
      "[5.39025577]\n",
      "[5.37840479]\n",
      "[5.36594063]\n",
      "[5.35282871]\n",
      "[5.33905317]\n",
      "[5.32456691]\n",
      "[5.3093513]\n",
      "[5.29337617]\n",
      "[5.27660979]\n",
      "[5.25900911]\n",
      "[5.2405392]\n",
      "[5.22118229]\n",
      "[5.20088051]\n",
      "[5.17960261]\n",
      "[5.15731502]\n",
      "[5.13725219]\n",
      "[5.11913037]\n",
      "[5.09989741]\n",
      "[5.07948867]\n",
      "[5.05783614]\n",
      "[5.03486828]\n",
      "[5.01050989]\n",
      "[4.98468194]\n",
      "[4.95730145]\n",
      "[4.92828128]\n",
      "[4.89752998]\n",
      "[4.86495161]\n",
      "[4.83044554]\n",
      "[4.7939062]\n",
      "[4.7552229]\n",
      "[4.71427949]\n",
      "[4.67095412]\n",
      "[4.62511883]\n",
      "[4.57663915]\n",
      "[4.52537359]\n",
      "[4.47117307]\n",
      "[4.41388014]\n",
      "[4.35332812]\n",
      "[4.28933999]\n",
      "[4.22172696]\n",
      "[4.15028682]\n",
      "[4.07480167]\n",
      "[3.99503522]\n",
      "[3.91072918]\n",
      "[3.82159873]\n",
      "[3.72732659]\n",
      "[3.62755518]\n",
      "[3.52187629]\n",
      "[3.40981712]\n",
      "[3.29082116]\n",
      "[3.16422148]\n",
      "[3.0292025]\n",
      "[2.88474378]\n",
      "[2.72953428]\n",
      "[2.56183608]\n",
      "[2.37925568]\n",
      "[2.17833295]\n",
      "[1.95373107]\n",
      "[1.69641997]\n",
      "[1.38870705]\n",
      "[0.98528503]\n"
     ]
    }
   ],
   "source": [
    "for i in range(0, 99):\n",
    "    h1 = round(10 - (1/10)*(i+1), 2)\n",
    "    k_init = sqr_sigma / (g * math.sqrt(np.tanh(sqr_sigma / g * h1)))\n",
    "    k2 = abs(bisection_method(k_init, sqr_sigma, h1))\n",
    "    C2 = sigma / k2\n",
    "    print(C2)\n",
    "    a2_bisection = np.arcsin(C2 / C1 * np.sin([init_angle * np.pi / 180]))\n",
    "    y = sqr_sigma*h1/g\n",
    "    hunt_y_60.append(y)\n",
    "    \n",
    "    dny = 0\n",
    "    \n",
    "    for j in range(0, len(d)):\n",
    "        dny += d[j] * (y ** (j+1))\n",
    "\n",
    "    k1 = math.sqrt(((y) ** 2 + ((y) / (1 + dny))) / (h1 ** 2))\n",
    "    C2_Hunt = sigma / k1\n",
    "    C2_Eckart = sigma / k_init\n",
    "    a2_hunt = np.arcsin(C2_Hunt / C1 * np.sin([init_angle * np.pi / 180]))\n",
    "    a2_eckart = np.arcsin(C2_Eckart / C1 * np.sin([init_angle * np.pi / 180]))\n",
    "    \n",
    "    hunt_k.append(k1)\n",
    "    eckart_k.append(k_init)\n",
    "    bisection_k.append(k2)\n",
    "    h.append(h1)\n",
    "    angle_bisection.append(a2_bisection)\n",
    "    angle_eckart.append(a2_eckart)\n",
    "    angle_hunt.append(a2_hunt)\n",
    "\n",
    "    tanv_bisection.append(np.tan(a2_bisection))\n",
    "    tanv_eckart.append(np.tan(a2_eckart))\n",
    "    tanv_hunt.append(np.tan(a2_hunt))"
   ]
  },
  {
   "cell_type": "code",
   "execution_count": 137,
   "metadata": {},
   "outputs": [
    {
     "data": {
      "text/plain": [
       "[1.7320508075688767,\n",
       " array([1.73041914]),\n",
       " array([1.72868215]),\n",
       " array([1.7268515]),\n",
       " array([1.72489763]),\n",
       " array([1.72284423]),\n",
       " array([1.7206616]),\n",
       " array([1.71835977]),\n",
       " array([1.71592218]),\n",
       " array([1.71334535]),\n",
       " array([1.71061267]),\n",
       " array([1.70773345]),\n",
       " array([1.70469085]),\n",
       " array([1.70148089]),\n",
       " array([1.6980867]),\n",
       " array([1.69451686]),\n",
       " array([1.69074169]),\n",
       " array([1.68676952]),\n",
       " array([1.6825833]),\n",
       " array([1.6781662]),\n",
       " array([1.67352607]),\n",
       " array([1.66864595]),\n",
       " array([1.66352117]),\n",
       " array([1.658135]),\n",
       " array([1.65247097]),\n",
       " array([1.64653646]),\n",
       " array([1.64031505]),\n",
       " array([1.63380221]),\n",
       " array([1.62697066]),\n",
       " array([1.61982774]),\n",
       " array([1.61235812]),\n",
       " array([1.60455791]),\n",
       " array([1.59641252]),\n",
       " array([1.58791856]),\n",
       " array([1.57907275]),\n",
       " array([1.56985128]),\n",
       " array([1.56026214]),\n",
       " array([1.55029289]),\n",
       " array([1.53994172]),\n",
       " array([1.5291974]),\n",
       " array([1.51805904]),\n",
       " array([1.50652597]),\n",
       " array([1.49458876]),\n",
       " array([1.48225665]),\n",
       " array([1.46951251]),\n",
       " array([1.45636636]),\n",
       " array([1.4428195]),\n",
       " array([1.42887357]),\n",
       " array([1.41452272]),\n",
       " array([1.39976988]),\n",
       " array([1.38463302]),\n",
       " array([1.36910021]),\n",
       " array([1.35318232]),\n",
       " array([1.33688974]),\n",
       " array([1.32254315]),\n",
       " array([1.309835]),\n",
       " array([1.29659848]),\n",
       " array([1.2828253]),\n",
       " array([1.26850828]),\n",
       " array([1.25364138]),\n",
       " array([1.23821979]),\n",
       " array([1.22224003]),\n",
       " array([1.20569993]),\n",
       " array([1.18859871]),\n",
       " array([1.17093697]),\n",
       " array([1.1527167]),\n",
       " array([1.13394123]),\n",
       " array([1.11461524]),\n",
       " array([1.09474462]),\n",
       " array([1.07433641]),\n",
       " array([1.05339866]),\n",
       " array([1.03194031]),\n",
       " array([1.00997095]),\n",
       " array([0.98750066]),\n",
       " array([0.96453973]),\n",
       " array([0.94109838]),\n",
       " array([0.91718643]),\n",
       " array([0.89281297]),\n",
       " array([0.8679859]),\n",
       " array([0.84271146]),\n",
       " array([0.81699371]),\n",
       " array([0.79083386]),\n",
       " array([0.76422957]),\n",
       " array([0.73717399]),\n",
       " array([0.70965475]),\n",
       " array([0.68165256]),\n",
       " array([0.65313951]),\n",
       " array([0.62407682]),\n",
       " array([0.59441191]),\n",
       " array([0.56407426]),\n",
       " array([0.53296966]),\n",
       " array([0.50097176]),\n",
       " array([0.46790926]),\n",
       " array([0.43354545]),\n",
       " array([0.39754401]),\n",
       " array([0.35940712]),\n",
       " array([0.31835327]),\n",
       " array([0.2730418]),\n",
       " array([0.2208161]),\n",
       " array([0.15480553])]"
      ]
     },
     "execution_count": 137,
     "metadata": {},
     "output_type": "execute_result"
    }
   ],
   "source": [
    "tanv_bisection"
   ]
  },
  {
   "cell_type": "code",
   "execution_count": 138,
   "metadata": {},
   "outputs": [
    {
     "data": {
      "text/plain": [
       "[1.0471975511965976,\n",
       " array([1.04678935]),\n",
       " array([1.04635416]),\n",
       " array([1.04589479]),\n",
       " array([1.0454037]),\n",
       " array([1.0448867]),\n",
       " array([1.04433615]),\n",
       " array([1.04375439]),\n",
       " array([1.04313706]),\n",
       " array([1.04248304]),\n",
       " array([1.04178785]),\n",
       " array([1.0410536]),\n",
       " array([1.04027566]),\n",
       " array([1.0394527]),\n",
       " array([1.03858]),\n",
       " array([1.03765933]),\n",
       " array([1.03668257]),\n",
       " array([1.03565134]),\n",
       " array([1.03456065]),\n",
       " array([1.03340545]),\n",
       " array([1.03218707]),\n",
       " array([1.0309003]),\n",
       " array([1.02954304]),\n",
       " array([1.02810991]),\n",
       " array([1.02659548]),\n",
       " array([1.02500055]),\n",
       " array([1.02331947]),\n",
       " array([1.02154965]),\n",
       " array([1.01968217]),\n",
       " array([1.01771735]),\n",
       " array([1.0156492]),\n",
       " array([1.01347471]),\n",
       " array([1.01118766]),\n",
       " array([1.00878483]),\n",
       " array([1.00626283]),\n",
       " array([1.00361215]),\n",
       " array([1.0008322]),\n",
       " array([0.99791625]),\n",
       " array([0.99486044]),\n",
       " array([0.99165785]),\n",
       " array([0.98830436]),\n",
       " array([0.98479568]),\n",
       " array([0.98112456]),\n",
       " array([0.97728921]),\n",
       " array([0.97327936]),\n",
       " array([0.96909291]),\n",
       " array([0.96472478]),\n",
       " array([0.96016971]),\n",
       " array([0.95541966]),\n",
       " array([0.95046909]),\n",
       " array([0.94531733]),\n",
       " array([0.93995329]),\n",
       " array([0.9343733]),\n",
       " array([0.92857334]),\n",
       " array([0.92339055]),\n",
       " array([0.91873952]),\n",
       " array([0.91383411]),\n",
       " array([0.90866271]),\n",
       " array([0.90321338]),\n",
       " array([0.89747389]),\n",
       " array([0.89143169]),\n",
       " array([0.88507396]),\n",
       " array([0.87838755]),\n",
       " array([0.87135908]),\n",
       " array([0.86397484]),\n",
       " array([0.85622089]),\n",
       " array([0.848083]),\n",
       " array([0.83954664]),\n",
       " array([0.83059703]),\n",
       " array([0.82121907]),\n",
       " array([0.81139732]),\n",
       " array([0.80111599]),\n",
       " array([0.79035887]),\n",
       " array([0.77910927]),\n",
       " array([0.76734996]),\n",
       " array([0.75506299]),\n",
       " array([0.74222963]),\n",
       " array([0.72883015]),\n",
       " array([0.71484357]),\n",
       " array([0.70024744]),\n",
       " array([0.68501741]),\n",
       " array([0.66912679]),\n",
       " array([0.652546]),\n",
       " array([0.6352418]),\n",
       " array([0.61717632]),\n",
       " array([0.59830583]),\n",
       " array([0.57857909]),\n",
       " array([0.55793518]),\n",
       " array([0.53630048]),\n",
       " array([0.51358453]),\n",
       " array([0.48967415]),\n",
       " array([0.46442472]),\n",
       " array([0.43764705]),\n",
       " array([0.4090864]),\n",
       " array([0.37838735]),\n",
       " array([0.34503063]),\n",
       " array([0.30820846]),\n",
       " array([0.26654478]),\n",
       " array([0.21732859]),\n",
       " array([0.15358639])]"
      ]
     },
     "execution_count": 138,
     "metadata": {},
     "output_type": "execute_result"
    }
   ],
   "source": [
    "angle_bisection"
   ]
  },
  {
   "cell_type": "code",
   "execution_count": 139,
   "metadata": {},
   "outputs": [
    {
     "data": {
      "text/plain": [
       "[0.3141592653589793,\n",
       " array([0.31423335]),\n",
       " array([0.31431243]),\n",
       " array([0.314396]),\n",
       " array([0.31448548]),\n",
       " array([0.31457981]),\n",
       " array([0.31468042]),\n",
       " array([0.3147869]),\n",
       " array([0.31490009]),\n",
       " array([0.31502022]),\n",
       " array([0.31514817]),\n",
       " array([0.31528359]),\n",
       " array([0.31542737]),\n",
       " array([0.31557983]),\n",
       " array([0.3157419]),\n",
       " array([0.31591331]),\n",
       " array([0.31609567]),\n",
       " array([0.31628875]),\n",
       " array([0.31649359]),\n",
       " array([0.31671124]),\n",
       " array([0.31694158]),\n",
       " array([0.31718573]),\n",
       " array([0.31744422]),\n",
       " array([0.31771826]),\n",
       " array([0.31800908]),\n",
       " array([0.31831672]),\n",
       " array([0.31864249]),\n",
       " array([0.31898716]),\n",
       " array([0.31935275]),\n",
       " array([0.3197395]),\n",
       " array([0.32014894]),\n",
       " array([0.32058205]),\n",
       " array([0.32104048]),\n",
       " array([0.32152535]),\n",
       " array([0.32203785]),\n",
       " array([0.32258048]),\n",
       " array([0.32315398]),\n",
       " array([0.32376042]),\n",
       " array([0.32440137]),\n",
       " array([0.3250791]),\n",
       " array([0.32579539]),\n",
       " array([0.32655216]),\n",
       " array([0.32735206]),\n",
       " array([0.32819667]),\n",
       " array([0.32908958]),\n",
       " array([0.33003269]),\n",
       " array([0.33102871]),\n",
       " array([0.33208055]),\n",
       " array([0.33319195]),\n",
       " array([0.33436626]),\n",
       " array([0.33560588]),\n",
       " array([0.33691593]),\n",
       " array([0.33829998]),\n",
       " array([0.33976196]),\n",
       " array([0.34108886]),\n",
       " array([0.34229632]),\n",
       " array([0.3435872]),\n",
       " array([0.34496769]),\n",
       " array([0.34644449]),\n",
       " array([0.34802489]),\n",
       " array([0.3497168]),\n",
       " array([0.35152884]),\n",
       " array([0.35347043]),\n",
       " array([0.35555184]),\n",
       " array([0.35778433]),\n",
       " array([0.36018025]),\n",
       " array([0.36275318]),\n",
       " array([0.3655181]),\n",
       " array([0.36849156]),\n",
       " array([0.3716919]),\n",
       " array([0.37513952]),\n",
       " array([0.37885718]),\n",
       " array([0.38287036]),\n",
       " array([0.3872077]),\n",
       " array([0.39190151]),\n",
       " array([0.39698846]),\n",
       " array([0.40251032]),\n",
       " array([0.40851494]),\n",
       " array([0.41505751]),\n",
       " array([0.42220202]),\n",
       " array([0.43002326]),\n",
       " array([0.43860927]),\n",
       " array([0.44806465]),\n",
       " array([0.45851477]),\n",
       " array([0.4701116]),\n",
       " array([0.48304144]),\n",
       " array([0.49753578]),\n",
       " array([0.51388665]),\n",
       " array([0.53246877]),\n",
       " array([0.5537727]),\n",
       " array([0.57845571]),\n",
       " array([0.60742292]),\n",
       " array([0.6419628]),\n",
       " array([0.68398579]),\n",
       " array([0.7364738]),\n",
       " array([0.80440388]),\n",
       " array([0.89687855]),\n",
       " array([1.03291609]),\n",
       " array([1.26179202]),\n",
       " array([1.77842901])]"
      ]
     },
     "execution_count": 139,
     "metadata": {},
     "output_type": "execute_result"
    }
   ],
   "source": [
    "bisection_k"
   ]
  },
  {
   "cell_type": "code",
   "execution_count": 140,
   "metadata": {},
   "outputs": [
    {
     "data": {
      "text/plain": [
       "array([0.0607605])"
      ]
     },
     "execution_count": 140,
     "metadata": {},
     "output_type": "execute_result"
    }
   ],
   "source": [
    "abs(eckart_k[1] - bisection_k[1])*100"
   ]
  },
  {
   "cell_type": "code",
   "execution_count": 141,
   "metadata": {},
   "outputs": [
    {
     "data": {
      "text/plain": [
       "100"
      ]
     },
     "execution_count": 141,
     "metadata": {},
     "output_type": "execute_result"
    }
   ],
   "source": [
    "len(h)"
   ]
  },
  {
   "cell_type": "code",
   "execution_count": 142,
   "metadata": {},
   "outputs": [],
   "source": [
    "X = np.arange(0, 100)"
   ]
  },
  {
   "cell_type": "code",
   "execution_count": 143,
   "metadata": {},
   "outputs": [],
   "source": [
    "DeltaX = round(abs(X[0] - X[1]), 1)"
   ]
  },
  {
   "cell_type": "code",
   "execution_count": 144,
   "metadata": {},
   "outputs": [
    {
     "data": {
      "text/plain": [
       "1"
      ]
     },
     "execution_count": 144,
     "metadata": {},
     "output_type": "execute_result"
    }
   ],
   "source": [
    "DeltaX"
   ]
  },
  {
   "cell_type": "code",
   "execution_count": 145,
   "metadata": {},
   "outputs": [],
   "source": [
    "Deltah = round(abs(h[0] - h[1]), 1)"
   ]
  },
  {
   "cell_type": "code",
   "execution_count": 146,
   "metadata": {},
   "outputs": [
    {
     "data": {
      "text/plain": [
       "0.1"
      ]
     },
     "execution_count": 146,
     "metadata": {},
     "output_type": "execute_result"
    }
   ],
   "source": [
    "Deltah "
   ]
  },
  {
   "cell_type": "code",
   "execution_count": 147,
   "metadata": {},
   "outputs": [],
   "source": [
    "Y_60 = []\n",
    "x_Y_60 = []"
   ]
  },
  {
   "cell_type": "code",
   "execution_count": 148,
   "metadata": {},
   "outputs": [],
   "source": [
    "added_x_Y_b_60 = []\n",
    "added_x_Y_e_60 = []\n",
    "added_x_Y_h_60 = []"
   ]
  },
  {
   "cell_type": "code",
   "execution_count": 149,
   "metadata": {},
   "outputs": [],
   "source": [
    "added_h_Y_b_60 = []\n",
    "added_h_Y_e_60 = []\n",
    "added_h_Y_h_60 = []"
   ]
  },
  {
   "cell_type": "code",
   "execution_count": 150,
   "metadata": {},
   "outputs": [],
   "source": [
    "added_x_Y_b_v_60 = 0\n",
    "added_x_Y_e_v_60 = 0\n",
    "added_x_Y_h_v_60 = 0"
   ]
  },
  {
   "cell_type": "code",
   "execution_count": 151,
   "metadata": {},
   "outputs": [],
   "source": [
    "added_h_Y_b_v_60 = 0\n",
    "added_h_Y_e_v_60 = 0\n",
    "added_h_Y_h_v_60 = 0"
   ]
  },
  {
   "cell_type": "code",
   "execution_count": 152,
   "metadata": {},
   "outputs": [
    {
     "data": {
      "text/plain": [
       "100"
      ]
     },
     "execution_count": 152,
     "metadata": {},
     "output_type": "execute_result"
    }
   ],
   "source": [
    "len(tanv_bisection)"
   ]
  },
  {
   "cell_type": "code",
   "execution_count": 153,
   "metadata": {},
   "outputs": [],
   "source": [
    "for i in range(0, len(tanv_bisection)):\n",
    "    added_x_Y_b_v_60 += (tanv_bisection[i] * DeltaX).item()\n",
    "    added_x_Y_e_v_60 += (tanv_eckart[i] * DeltaX).item()\n",
    "    added_x_Y_h_v_60 += (tanv_hunt[i] * DeltaX).item()\n",
    "    added_x_Y_b_60.append(added_x_Y_b_v_60)\n",
    "    added_x_Y_e_60.append(added_x_Y_e_v_60)\n",
    "    added_x_Y_h_60.append(added_x_Y_h_v_60)"
   ]
  },
  {
   "cell_type": "code",
   "execution_count": 154,
   "metadata": {},
   "outputs": [],
   "source": [
    "for i in range(0, len(tanv_bisection)):\n",
    "    added_h_Y_b_v_60 += (tanv_bisection[i] * Deltah).item()\n",
    "    added_h_Y_e_v_60 += (tanv_eckart[i] * Deltah).item()\n",
    "    added_h_Y_h_v_60 += (tanv_hunt[i] * Deltah).item()\n",
    "    added_h_Y_b_60.append(added_h_Y_b_v_60)\n",
    "    added_h_Y_e_60.append(added_h_Y_e_v_60)\n",
    "    added_h_Y_h_60.append(added_h_Y_h_v_60)"
   ]
  },
  {
   "cell_type": "code",
   "execution_count": 155,
   "metadata": {},
   "outputs": [
    {
     "data": {
      "text/plain": [
       "[0.17320508075688767,\n",
       " 0.34530935251905737,\n",
       " 0.5172286507516752,\n",
       " 0.688953316152151,\n",
       " 0.8604731877542114,\n",
       " 1.0317775798104718,\n",
       " 1.2028552580688059,\n",
       " 1.373694415490396,\n",
       " 1.5442826474677043,\n",
       " 1.7146069266119444,\n",
       " 1.884653577191978,\n",
       " 2.0544082493198927,\n",
       " 2.223855892992853,\n",
       " 2.3929807321160856,\n",
       " 2.561766238648031,\n",
       " 2.7301951070256414,\n",
       " 2.898249229045459,\n",
       " 3.065909669394247,\n",
       " 3.2331566420414193,\n",
       " 3.3999694877240474,\n",
       " 3.566326652773554,\n",
       " 3.7322056695509356,\n",
       " 3.8975831387741726,\n",
       " 4.062434714036867,\n",
       " 4.226735088830655,\n",
       " 4.390457986395003,\n",
       " 4.553576152726019,\n",
       " 4.716061353080371,\n",
       " 4.877884372310478,\n",
       " 5.039015019362444,\n",
       " 5.199422136257858,\n",
       " 5.359073611864185,\n",
       " 5.517936400735352,\n",
       " 5.675976547273889,\n",
       " 5.8331592154282745,\n",
       " 5.989448724093704,\n",
       " 6.144808588331324,\n",
       " 6.299201566460204,\n",
       " 6.452589713008318,\n",
       " 6.604934437434133,\n",
       " 6.756196568449957,\n",
       " 6.906336423693021,\n",
       " 7.055313884401755,\n",
       " 7.20308847466437,\n",
       " 7.349619444716461,\n",
       " 7.494865857675879,\n",
       " 7.638786679018505,\n",
       " 7.781340868019932,\n",
       " 7.922487470317439,\n",
       " 8.062185710685956,\n",
       " 8.200395085072646,\n",
       " 8.337075450898846,\n",
       " 8.47218711461638,\n",
       " 8.60569091549854,\n",
       " 8.737548304654407,\n",
       " 8.867721418278506,\n",
       " 8.996173144185196,\n",
       " 9.122867180727308,\n",
       " 9.247768087259654,\n",
       " 9.370841325377642,\n",
       " 9.49205329023668,\n",
       " 9.61137133133618,\n",
       " 9.728763762229224,\n",
       " 9.844199858691725,\n",
       " 9.9576498449491,\n",
       " 10.069084867610048,\n",
       " 10.178476956991538,\n",
       " 10.285798975532146,\n",
       " 10.391024552977296,\n",
       " 10.49412800797474,\n",
       " 10.595084255635356,\n",
       " 10.693868700486158,\n",
       " 10.790457114060535,\n",
       " 10.884825496124222,\n",
       " 10.976949918210297,\n",
       " 11.066806347713845,\n",
       " 11.154370450251582,\n",
       " 11.239617367289332,\n",
       " 11.3225214651329,\n",
       " 11.403056050198606,\n",
       " 11.48119304393347,\n",
       " 11.556902608704343,\n",
       " 11.630152713220246,\n",
       " 11.70090862229455,\n",
       " 11.76913229054315,\n",
       " 11.83478163225455,\n",
       " 11.897809629056184,\n",
       " 11.958163221348775,\n",
       " 12.015781905793764,\n",
       " 12.070595924236795,\n",
       " 12.122523870012007,\n",
       " 12.17146943805202,\n",
       " 12.217316870802975,\n",
       " 12.259924328974444,\n",
       " 12.299113776436874,\n",
       " 12.33465458900731,\n",
       " 12.366234771587528,\n",
       " 12.39340432338973,\n",
       " 12.415442231187962,\n",
       " 12.43092278603611]"
      ]
     },
     "execution_count": 155,
     "metadata": {},
     "output_type": "execute_result"
    }
   ],
   "source": [
    "added_h_Y_h_60"
   ]
  },
  {
   "cell_type": "code",
   "execution_count": 156,
   "metadata": {},
   "outputs": [
    {
     "data": {
      "image/png": "[encoded data removed]",
      "text/plain": [
       "<Figure size 432x288 with 1 Axes>"
      ]
     },
     "metadata": {
      "needs_background": "light"
     },
     "output_type": "display_data"
    }
   ],
   "source": [
    "import matplotlib.pyplot as plt\n",
    "import numpy as np\n",
    "import math\n",
    "  \n",
    "# Plotting both the curves simultaneously\n",
    "plt.plot(h, added_h_Y_b_60, color='r', label=\"$y$(m)\")\n",
    "  \n",
    "# Naming the x-axis, y-axis and the whole graph\n",
    "plt.xlabel(\"Depth($h(m)$)\")\n",
    "plt.ylabel(\"Distance $y$(m)\")\n",
    "\n",
    "plt.axis([max(h),min(h),min(added_h_Y_b_60),max(added_h_Y_b_60)])\n",
    "\n",
    "plt.ylim(0, 13)\n",
    "  \n",
    "# To load the display window\n",
    "plt.show()"
   ]
  },
  {
   "cell_type": "code",
   "execution_count": 157,
   "metadata": {},
   "outputs": [
    {
     "data": {
      "image/png": "[encoded data removed]",
      "text/plain": [
       "<Figure size 432x288 with 1 Axes>"
      ]
     },
     "metadata": {
      "needs_background": "light"
     },
     "output_type": "display_data"
    }
   ],
   "source": [
    "import matplotlib.pyplot as plt\n",
    "import numpy as np\n",
    "import math\n",
    "  \n",
    "# Plotting both the curves simultaneously\n",
    "plt.plot(X, added_x_Y_b_60, color='r', label=\"$y$(m)\")\n",
    "  \n",
    "# Naming the x-axis, y-axis and the whole graph\n",
    "plt.xlabel(\"Distance($x(m)$)\")\n",
    "plt.ylabel(\"Distance $y$(m)\")\n",
    "\n",
    "plt.axis([min(X),max(X),min(added_x_Y_b_60),max(added_x_Y_b_60)])\n",
    "\n",
    "plt.ylim(0, 130)\n",
    "  \n",
    "# To load the display window\n",
    "plt.show()"
   ]
  },
  {
   "cell_type": "code",
   "execution_count": 158,
   "metadata": {},
   "outputs": [
    {
     "data": {
      "image/png": "[encoded data removed]",
      "text/plain": [
       "<Figure size 432x288 with 1 Axes>"
      ]
     },
     "metadata": {
      "needs_background": "light"
     },
     "output_type": "display_data"
    }
   ],
   "source": [
    "import matplotlib.pyplot as plt\n",
    "import numpy as np\n",
    "import math\n",
    "  \n",
    "# Plotting both the curves simultaneously\n",
    "plt.plot(X, added_x_Y_b_60, color='r', label=\"$y$(m)\")\n",
    "\n",
    "plt.axis([min(X),max(X),min(added_x_Y_b_60),max(added_x_Y_b_60)])\n",
    "\n",
    "plt.ylim(0, 130)\n",
    "  \n",
    "# To load the display window\n",
    "plt.show()"
   ]
  },
  {
   "cell_type": "code",
   "execution_count": 159,
   "metadata": {},
   "outputs": [
    {
     "data": {
      "text/plain": [
       "[10,\n",
       " 9.9,\n",
       " 9.8,\n",
       " 9.7,\n",
       " 9.6,\n",
       " 9.5,\n",
       " 9.4,\n",
       " 9.3,\n",
       " 9.2,\n",
       " 9.1,\n",
       " 9.0,\n",
       " 8.9,\n",
       " 8.8,\n",
       " 8.7,\n",
       " 8.6,\n",
       " 8.5,\n",
       " 8.4,\n",
       " 8.3,\n",
       " 8.2,\n",
       " 8.1,\n",
       " 8.0,\n",
       " 7.9,\n",
       " 7.8,\n",
       " 7.7,\n",
       " 7.6,\n",
       " 7.5,\n",
       " 7.4,\n",
       " 7.3,\n",
       " 7.2,\n",
       " 7.1,\n",
       " 7.0,\n",
       " 6.9,\n",
       " 6.8,\n",
       " 6.7,\n",
       " 6.6,\n",
       " 6.5,\n",
       " 6.4,\n",
       " 6.3,\n",
       " 6.2,\n",
       " 6.1,\n",
       " 6.0,\n",
       " 5.9,\n",
       " 5.8,\n",
       " 5.7,\n",
       " 5.6,\n",
       " 5.5,\n",
       " 5.4,\n",
       " 5.3,\n",
       " 5.2,\n",
       " 5.1,\n",
       " 5.0,\n",
       " 4.9,\n",
       " 4.8,\n",
       " 4.7,\n",
       " 4.6,\n",
       " 4.5,\n",
       " 4.4,\n",
       " 4.3,\n",
       " 4.2,\n",
       " 4.1,\n",
       " 4.0,\n",
       " 3.9,\n",
       " 3.8,\n",
       " 3.7,\n",
       " 3.6,\n",
       " 3.5,\n",
       " 3.4,\n",
       " 3.3,\n",
       " 3.2,\n",
       " 3.1,\n",
       " 3.0,\n",
       " 2.9,\n",
       " 2.8,\n",
       " 2.7,\n",
       " 2.6,\n",
       " 2.5,\n",
       " 2.4,\n",
       " 2.3,\n",
       " 2.2,\n",
       " 2.1,\n",
       " 2.0,\n",
       " 1.9,\n",
       " 1.8,\n",
       " 1.7,\n",
       " 1.6,\n",
       " 1.5,\n",
       " 1.4,\n",
       " 1.3,\n",
       " 1.2,\n",
       " 1.1,\n",
       " 1.0,\n",
       " 0.9,\n",
       " 0.8,\n",
       " 0.7,\n",
       " 0.6,\n",
       " 0.5,\n",
       " 0.4,\n",
       " 0.3,\n",
       " 0.2,\n",
       " 0.1]"
      ]
     },
     "execution_count": 159,
     "metadata": {},
     "output_type": "execute_result"
    }
   ],
   "source": [
    "h"
   ]
  },
  {
   "cell_type": "code",
   "execution_count": 160,
   "metadata": {},
   "outputs": [
    {
     "data": {
      "image/png": "[encoded data removed]",
      "text/plain": [
       "<Figure size 432x288 with 1 Axes>"
      ]
     },
     "metadata": {
      "needs_background": "light"
     },
     "output_type": "display_data"
    }
   ],
   "source": [
    "import matplotlib.pyplot as plt\n",
    "import numpy as np\n",
    "import math\n",
    "  \n",
    "# Plotting both the curves simultaneously\n",
    "plt.plot(h, added_h_Y_e_60, color='r', label=\"$y$(m)\")\n",
    "  \n",
    "# Naming the x-axis, y-axis and the whole graph\n",
    "plt.xlabel(\"Depth($h(m)$)\")\n",
    "plt.ylabel(\"Distance $y$(m)\")\n",
    "\n",
    "plt.axis([max(h),min(h),min(added_h_Y_e_60),max(added_h_Y_e_60)])\n",
    "\n",
    "plt.ylim(0, 13)\n",
    "  \n",
    "# To load the display window\n",
    "plt.show()"
   ]
  },
  {
   "cell_type": "code",
   "execution_count": 161,
   "metadata": {},
   "outputs": [
    {
     "data": {
      "image/png": "[encoded data removed]",
      "text/plain": [
       "<Figure size 432x288 with 1 Axes>"
      ]
     },
     "metadata": {
      "needs_background": "light"
     },
     "output_type": "display_data"
    }
   ],
   "source": [
    "import matplotlib.pyplot as plt\n",
    "import numpy as np\n",
    "import math\n",
    "  \n",
    "# Plotting both the curves simultaneously\n",
    "plt.plot(h, added_h_Y_h_60, color='r', label=\"$y$(m)\")\n",
    "\n",
    "  \n",
    "# Naming the x-axis, y-axis and the whole graph\n",
    "plt.xlabel(\"Depth($h(m)$)\")\n",
    "plt.ylabel(\"Distance $y$(m)\")\n",
    "\n",
    "plt.axis([max(h),min(h),min(added_h_Y_h_60),max(added_h_Y_h_60)])\n",
    "\n",
    "plt.ylim(0, 13)\n",
    "  \n",
    "# To load the display window\n",
    "plt.show()"
   ]
  },
  {
   "cell_type": "code",
   "execution_count": 173,
   "metadata": {},
   "outputs": [
    {
     "data": {
      "image/png": "[encoded data removed]",
      "text/plain": [
       "<Figure size 432x288 with 1 Axes>"
      ]
     },
     "metadata": {
      "needs_background": "light"
     },
     "output_type": "display_data"
    }
   ],
   "source": [
    "import matplotlib.pyplot as plt\n",
    "import numpy as np\n",
    "import math\n",
    "  \n",
    "# Plotting both the curves simultaneously\n",
    "plt.plot(h, added_h_Y_b_60, color='r', label=\"Bisection Method\")\n",
    "plt.plot(h, added_h_Y_e_60, color='g', label=\"Eckart's Method\")\n",
    "plt.plot(h, added_h_Y_h_60, color='b', label=\"Hunt's Method\")\n",
    "  \n",
    "# Naming the x-axis, y-axis and the whole graph\n",
    "plt.xlabel(\"Depth($h(m)$)\")\n",
    "plt.ylabel(\"Distance $y$(m)\")\n",
    "\n",
    "plt.axis([max(h),min(h),min(added_h_Y_h_60),max(added_h_Y_h_60)])\n",
    "\n",
    "plt.ylim(0, 13)\n",
    "\n",
    "plt.legend()\n",
    "  \n",
    "# To load the display window\n",
    "plt.show()"
   ]
  },
  {
   "cell_type": "code",
   "execution_count": 176,
   "metadata": {},
   "outputs": [
    {
     "data": {
      "image/png": "[encoded data removed]",
      "text/plain": [
       "<Figure size 432x288 with 1 Axes>"
      ]
     },
     "metadata": {
      "needs_background": "light"
     },
     "output_type": "display_data"
    }
   ],
   "source": [
    "import matplotlib.pyplot as plt\n",
    "import numpy as np\n",
    "import math\n",
    "  \n",
    "# Plotting both the curves simultaneously\n",
    "plt.plot(h, added_h_Y_b_30, color='r', label=\"The angle of the incoming wave is $30^{\\circ}$\")\n",
    "plt.plot(h, added_h_Y_b_45, color='g', label=\"The angle of the incoming wave is $45^{\\circ}$\")\n",
    "plt.plot(h, added_h_Y_b_60, color='b', label=\"The angle of the incoming wave is $60^{\\circ}$\")\n",
    "  \n",
    "# Naming the x-axis, y-axis and the whole graph\n",
    "plt.xlabel(\"Depth($h(m)$)\")\n",
    "plt.ylabel(\"Distance $y$(m)\")\n",
    "\n",
    "plt.axis([max(h),min(h),min(added_h_Y_h_60),max(added_h_Y_h_60)])\n",
    "\n",
    "plt.ylim(0, 13)\n",
    "\n",
    "plt.legend()\n",
    "  \n",
    "# To load the display window\n",
    "plt.show()"
   ]
  },
  {
   "cell_type": "code",
   "execution_count": 179,
   "metadata": {},
   "outputs": [
    {
     "data": {
      "image/png": "[encoded data removed]",
      "text/plain": [
       "<Figure size 432x288 with 1 Axes>"
      ]
     },
     "metadata": {
      "needs_background": "light"
     },
     "output_type": "display_data"
    }
   ],
   "source": [
    "import matplotlib.pyplot as plt\n",
    "import numpy as np\n",
    "import math\n",
    "  \n",
    "# Plotting both the curves simultaneously\n",
    "plt.plot(X, added_x_Y_b_30, color='r', label=\"The angle of the incoming wave is $30^{\\circ}$\")\n",
    "plt.plot(X, added_x_Y_b_45, color='g', label=\"The angle of the incoming wave is $45^{\\circ}$\")\n",
    "plt.plot(X, added_x_Y_b_60, color='b', label=\"The angle of the incoming wave is $60^{\\circ}$\")\n",
    "  \n",
    "# Naming the x-axis, y-axis and the whole graph\n",
    "plt.xlabel(\"Depth($h(m)$)\")\n",
    "plt.ylabel(\"Distance $y$(m)\")\n",
    "\n",
    "plt.axis([min(X),max(X),min(added_x_Y_h_60),max(added_x_Y_h_60)])\n",
    "\n",
    "plt.ylim(0, 130)\n",
    "\n",
    "plt.legend()\n",
    "  \n",
    "# To load the display window\n",
    "plt.show()"
   ]
  },
  {
   "cell_type": "code",
   "execution_count": null,
   "metadata": {},
   "outputs": [],
   "source": []
  },
  {
   "cell_type": "code",
   "execution_count": 163,
   "metadata": {},
   "outputs": [],
   "source": [
    "abs_Eckart_angle = 0\n",
    "abs_Hunt_angle = 0"
   ]
  },
  {
   "cell_type": "code",
   "execution_count": 164,
   "metadata": {},
   "outputs": [
    {
     "data": {
      "text/plain": [
       "100"
      ]
     },
     "execution_count": 164,
     "metadata": {},
     "output_type": "execute_result"
    }
   ],
   "source": [
    "len(angle_bisection)"
   ]
  },
  {
   "cell_type": "code",
   "execution_count": 165,
   "metadata": {},
   "outputs": [
    {
     "data": {
      "text/plain": [
       "100"
      ]
     },
     "execution_count": 165,
     "metadata": {},
     "output_type": "execute_result"
    }
   ],
   "source": [
    "len(angle_eckart)"
   ]
  },
  {
   "cell_type": "code",
   "execution_count": 166,
   "metadata": {},
   "outputs": [
    {
     "data": {
      "text/plain": [
       "100"
      ]
     },
     "execution_count": 166,
     "metadata": {},
     "output_type": "execute_result"
    }
   ],
   "source": [
    "len(angle_hunt)"
   ]
  },
  {
   "cell_type": "code",
   "execution_count": 167,
   "metadata": {},
   "outputs": [
    {
     "data": {
      "text/plain": [
       "[1.0471975511965976,\n",
       " array([1.04678935]),\n",
       " array([1.04635416]),\n",
       " array([1.04589479]),\n",
       " array([1.0454037]),\n",
       " array([1.0448867]),\n",
       " array([1.04433615]),\n",
       " array([1.04375439]),\n",
       " array([1.04313706]),\n",
       " array([1.04248304]),\n",
       " array([1.04178785]),\n",
       " array([1.0410536]),\n",
       " array([1.04027566]),\n",
       " array([1.0394527]),\n",
       " array([1.03858]),\n",
       " array([1.03765933]),\n",
       " array([1.03668257]),\n",
       " array([1.03565134]),\n",
       " array([1.03456065]),\n",
       " array([1.03340545]),\n",
       " array([1.03218707]),\n",
       " array([1.0309003]),\n",
       " array([1.02954304]),\n",
       " array([1.02810991]),\n",
       " array([1.02659548]),\n",
       " array([1.02500055]),\n",
       " array([1.02331947]),\n",
       " array([1.02154965]),\n",
       " array([1.01968217]),\n",
       " array([1.01771735]),\n",
       " array([1.0156492]),\n",
       " array([1.01347471]),\n",
       " array([1.01118766]),\n",
       " array([1.00878483]),\n",
       " array([1.00626283]),\n",
       " array([1.00361215]),\n",
       " array([1.0008322]),\n",
       " array([0.99791625]),\n",
       " array([0.99486044]),\n",
       " array([0.99165785]),\n",
       " array([0.98830436]),\n",
       " array([0.98479568]),\n",
       " array([0.98112456]),\n",
       " array([0.97728921]),\n",
       " array([0.97327936]),\n",
       " array([0.96909291]),\n",
       " array([0.96472478]),\n",
       " array([0.96016971]),\n",
       " array([0.95541966]),\n",
       " array([0.95046909]),\n",
       " array([0.94531733]),\n",
       " array([0.93995329]),\n",
       " array([0.9343733]),\n",
       " array([0.92857334]),\n",
       " array([0.92339055]),\n",
       " array([0.91873952]),\n",
       " array([0.91383411]),\n",
       " array([0.90866271]),\n",
       " array([0.90321338]),\n",
       " array([0.89747389]),\n",
       " array([0.89143169]),\n",
       " array([0.88507396]),\n",
       " array([0.87838755]),\n",
       " array([0.87135908]),\n",
       " array([0.86397484]),\n",
       " array([0.85622089]),\n",
       " array([0.848083]),\n",
       " array([0.83954664]),\n",
       " array([0.83059703]),\n",
       " array([0.82121907]),\n",
       " array([0.81139732]),\n",
       " array([0.80111599]),\n",
       " array([0.79035887]),\n",
       " array([0.77910927]),\n",
       " array([0.76734996]),\n",
       " array([0.75506299]),\n",
       " array([0.74222963]),\n",
       " array([0.72883015]),\n",
       " array([0.71484357]),\n",
       " array([0.70024744]),\n",
       " array([0.68501741]),\n",
       " array([0.66912679]),\n",
       " array([0.652546]),\n",
       " array([0.6352418]),\n",
       " array([0.61717632]),\n",
       " array([0.59830583]),\n",
       " array([0.57857909]),\n",
       " array([0.55793518]),\n",
       " array([0.53630048]),\n",
       " array([0.51358453]),\n",
       " array([0.48967415]),\n",
       " array([0.46442472]),\n",
       " array([0.43764705]),\n",
       " array([0.4090864]),\n",
       " array([0.37838735]),\n",
       " array([0.34503063]),\n",
       " array([0.30820846]),\n",
       " array([0.26654478]),\n",
       " array([0.21732859]),\n",
       " array([0.15358639])]"
      ]
     },
     "execution_count": 167,
     "metadata": {},
     "output_type": "execute_result"
    }
   ],
   "source": [
    "angle_bisection"
   ]
  },
  {
   "cell_type": "code",
   "execution_count": 168,
   "metadata": {},
   "outputs": [
    {
     "data": {
      "text/plain": [
       "[1.0471975511965976,\n",
       " array([1.05015157]),\n",
       " array([1.04992236]),\n",
       " array([1.04967847]),\n",
       " array([1.04941898]),\n",
       " array([1.04914289]),\n",
       " array([1.04884917]),\n",
       " array([1.04853669]),\n",
       " array([1.04820427]),\n",
       " array([1.04785066]),\n",
       " array([1.04747452]),\n",
       " array([1.04707445]),\n",
       " array([1.04664893]),\n",
       " array([1.04619639]),\n",
       " array([1.04571512]),\n",
       " array([1.04520336]),\n",
       " array([1.04465919]),\n",
       " array([1.04408062]),\n",
       " array([1.04346552]),\n",
       " array([1.04281164]),\n",
       " array([1.04211659]),\n",
       " array([1.04137785]),\n",
       " array([1.04059276]),\n",
       " array([1.0397585]),\n",
       " array([1.03887209]),\n",
       " array([1.03793038]),\n",
       " array([1.03693005]),\n",
       " array([1.03586759]),\n",
       " array([1.0347393]),\n",
       " array([1.03354129]),\n",
       " array([1.03226944]),\n",
       " array([1.03091944]),\n",
       " array([1.02948672]),\n",
       " array([1.0279665]),\n",
       " array([1.02635376]),\n",
       " array([1.0246432]),\n",
       " array([1.0228293]),\n",
       " array([1.02090624]),\n",
       " array([1.01886793]),\n",
       " array([1.01670802]),\n",
       " array([1.01441984]),\n",
       " array([1.01199645]),\n",
       " array([1.00943058]),\n",
       " array([1.00671469]),\n",
       " array([1.0038409]),\n",
       " array([1.00080102]),\n",
       " array([0.99758656]),\n",
       " array([0.9941887]),\n",
       " array([0.9905983]),\n",
       " array([0.9868059]),\n",
       " array([0.98280175]),\n",
       " array([0.97857576]),\n",
       " array([0.97411754]),\n",
       " array([0.96941641]),\n",
       " array([0.96446139]),\n",
       " array([0.95924121]),\n",
       " array([0.95374433]),\n",
       " array([0.94795894]),\n",
       " array([0.94187298]),\n",
       " array([0.93547415]),\n",
       " array([0.9287499]),\n",
       " array([0.92168747]),\n",
       " array([0.9142739]),\n",
       " array([0.90649599]),\n",
       " array([0.8983404]),\n",
       " array([0.88979354]),\n",
       " array([0.88084168]),\n",
       " array([0.87147087]),\n",
       " array([0.86166696]),\n",
       " array([0.85141558]),\n",
       " array([0.8407021]),\n",
       " array([0.82951162]),\n",
       " array([0.8178289]),\n",
       " array([0.80563827]),\n",
       " array([0.79292359]),\n",
       " array([0.77966808]),\n",
       " array([0.76585423]),\n",
       " array([0.75146355]),\n",
       " array([0.73647639]),\n",
       " array([0.72087162]),\n",
       " array([0.70462627]),\n",
       " array([0.68771507]),\n",
       " array([0.67010983]),\n",
       " array([0.65177873]),\n",
       " array([0.63268534]),\n",
       " array([0.61278735]),\n",
       " array([0.59203496]),\n",
       " array([0.57036862]),\n",
       " array([0.54771609]),\n",
       " array([0.52398827]),\n",
       " array([0.49907328]),\n",
       " array([0.47282779]),\n",
       " array([0.44506382]),\n",
       " array([0.4155278]),\n",
       " array([0.38386542]),\n",
       " array([0.34955842]),\n",
       " array([0.3118]),\n",
       " array([0.26921492]),\n",
       " array([0.21909288]),\n",
       " array([0.15437324])]"
      ]
     },
     "execution_count": 168,
     "metadata": {},
     "output_type": "execute_result"
    }
   ],
   "source": [
    "angle_eckart"
   ]
  },
  {
   "cell_type": "code",
   "execution_count": 169,
   "metadata": {},
   "outputs": [],
   "source": [
    "for i in range(0, len(angle_bisection)):\n",
    "    abs_Eckart_angle += abs(angle_bisection[i] - angle_eckart[i])\n",
    "    abs_Hunt_angle += abs(angle_bisection[i] - angle_hunt[i])"
   ]
  },
  {
   "cell_type": "code",
   "execution_count": 170,
   "metadata": {},
   "outputs": [],
   "source": [
    "mean_abs_Eckart_angle = abs_Eckart_angle / len(angle_eckart)\n",
    "mean_abs_Hunt_angle = abs_Hunt_angle / len(angle_hunt)"
   ]
  },
  {
   "cell_type": "code",
   "execution_count": 171,
   "metadata": {},
   "outputs": [
    {
     "data": {
      "text/plain": [
       "array([1.94232869])"
      ]
     },
     "execution_count": 171,
     "metadata": {},
     "output_type": "execute_result"
    }
   ],
   "source": [
    "mean_abs_Eckart_angle * 100"
   ]
  },
  {
   "cell_type": "code",
   "execution_count": 172,
   "metadata": {},
   "outputs": [
    {
     "data": {
      "text/plain": [
       "array([0.74774457])"
      ]
     },
     "execution_count": 172,
     "metadata": {},
     "output_type": "execute_result"
    }
   ],
   "source": [
    "mean_abs_Hunt_angle * 100"
   ]
  },
  {
   "cell_type": "code",
   "execution_count": 187,
   "metadata": {},
   "outputs": [
    {
     "data": {
      "image/png": "[encoded data removed]",
      "text/plain": [
       "<Figure size 432x288 with 1 Axes>"
      ]
     },
     "metadata": {
      "needs_background": "light"
     },
     "output_type": "display_data"
    }
   ],
   "source": [
    "import matplotlib.pyplot as plt\n",
    "import numpy as np\n",
    "import math\n",
    "  \n",
    "# Plotting both the curves simultaneously\n",
    "plt.plot(h, hunt_y_30, color='r', label='The y value of the Hunt method.')\n",
    "  \n",
    "# Naming the x-axis, y-axis and the whole graph\n",
    "plt.xlabel(\"Index\")\n",
    "plt.ylabel(\"$y$\")\n",
    "plt.title(\"y value\")\n",
    "\n",
    "ymax = max(hunt_y_30)\n",
    "\n",
    "s = 'The maximum value of y= ' + str(ymax) + ' '\n",
    "\n",
    "plt.annotate(s, (3, 0))\n",
    "  \n",
    "# Adding legend, which helps us recognize the curve according to it's color\n",
    "plt.legend()\n",
    "  \n",
    "# To load the display window\n",
    "plt.show()"
   ]
  },
  {
   "cell_type": "code",
   "execution_count": null,
   "metadata": {},
   "outputs": [],
   "source": []
  }
 ],
 "metadata": {
  "kernelspec": {
   "display_name": "Python 3.9.12 (conda)",
   "language": "python",
   "name": "python3"
  },
  "language_info": {
   "codemirror_mode": {
    "name": "ipython",
    "version": 3
   },
   "file_extension": ".py",
   "mimetype": "text/x-python",
   "name": "python",
   "nbconvert_exporter": "python",
   "pygments_lexer": "ipython3",
   "version": "3.9.12"
  },
  "orig_nbformat": 4,
  "vscode": {
   "interpreter": {
    "hash": "fef535234a3287ccf56ef531aff330e4640a816492ee584538bd7585ec97e353"
   }
  }
 },
 "nbformat": 4,
 "nbformat_minor": 2
}

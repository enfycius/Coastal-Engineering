{
 "cells": [
  {
   "cell_type": "code",
   "execution_count": 1170,
   "metadata": {},
   "outputs": [],
   "source": [
    "import math\n",
    "import numpy as np"
   ]
  },
  {
   "cell_type": "markdown",
   "metadata": {},
   "source": [
    "# Questions"
   ]
  },
  {
   "cell_type": "markdown",
   "metadata": {},
   "source": [
    "**과제1**: 수심 $1.0m$인 수조에서 다음의 문제를 해결하시오. 파 속도는 음해법을 이용하여 소수점 둘째자리가 변하지 않을 때까지 구하시오."
   ]
  },
  {
   "cell_type": "markdown",
   "metadata": {},
   "source": [
    "# Question #1"
   ]
  },
  {
   "cell_type": "markdown",
   "metadata": {},
   "source": [
    "$kh = \\pi/10$ 및 $\\pi$를 만족하는 주기 $T_{1}$과 $T_{2}$를 구하시오."
   ]
  },
  {
   "cell_type": "markdown",
   "metadata": {},
   "source": [
    "## Requirements"
   ]
  },
  {
   "cell_type": "code",
   "execution_count": 1171,
   "metadata": {},
   "outputs": [],
   "source": [
    "h = 1.0\n",
    "g = 9.81"
   ]
  },
  {
   "cell_type": "markdown",
   "metadata": {},
   "source": [
    "## Condition #1"
   ]
  },
  {
   "cell_type": "code",
   "execution_count": 1172,
   "metadata": {},
   "outputs": [],
   "source": [
    "kh = math.pi/10"
   ]
  },
  {
   "cell_type": "markdown",
   "metadata": {},
   "source": [
    "## Calculations #1"
   ]
  },
  {
   "cell_type": "code",
   "execution_count": 1173,
   "metadata": {},
   "outputs": [],
   "source": [
    "k = kh / h\n",
    "\n",
    "sqr_sigma = g * k * np.tanh([kh])\n",
    "\n",
    "sigma = math.sqrt(sqr_sigma)\n",
    "\n",
    "T1 = 2 * math.pi / sigma"
   ]
  },
  {
   "cell_type": "code",
   "execution_count": 1174,
   "metadata": {},
   "outputs": [
    {
     "name": "stdout",
     "output_type": "stream",
     "text": [
      "kh가 PI/10인 경우:  6.489022272321439\n"
     ]
    }
   ],
   "source": [
    "print(\"kh가 PI/10인 경우: \", T1)"
   ]
  },
  {
   "cell_type": "markdown",
   "metadata": {},
   "source": [
    "## Condition #2"
   ]
  },
  {
   "cell_type": "code",
   "execution_count": 1175,
   "metadata": {},
   "outputs": [],
   "source": [
    "kh = math.pi"
   ]
  },
  {
   "cell_type": "markdown",
   "metadata": {},
   "source": [
    "## Calculations #2"
   ]
  },
  {
   "cell_type": "code",
   "execution_count": 1176,
   "metadata": {},
   "outputs": [],
   "source": [
    "k = kh / h\n",
    "\n",
    "sqr_sigma = g * k * np.tanh([kh])\n",
    "\n",
    "sigma = math.sqrt(sqr_sigma)\n",
    "\n",
    "T2 = 2 * math.pi / sigma"
   ]
  },
  {
   "cell_type": "code",
   "execution_count": 1177,
   "metadata": {},
   "outputs": [
    {
     "name": "stdout",
     "output_type": "stream",
     "text": [
      "kh가 PI인 경우:  1.1339174776189893\n"
     ]
    }
   ],
   "source": [
    "print(\"kh가 PI인 경우: \", T2)"
   ]
  },
  {
   "cell_type": "markdown",
   "metadata": {},
   "source": [
    "# Question #2"
   ]
  },
  {
   "cell_type": "markdown",
   "metadata": {},
   "source": [
    "$T_{1}$보다 긴 주기를 갖는 파 5개를 임의로 선택하여 파 속도를 구하시오."
   ]
  },
  {
   "cell_type": "code",
   "execution_count": 1178,
   "metadata": {},
   "outputs": [],
   "source": [
    "periods = np.arange(0.001, 100, 0.001)"
   ]
  },
  {
   "cell_type": "markdown",
   "metadata": {},
   "source": [
    "T1보다 긴 주기를 갖는 파 5개를 임의로 생성"
   ]
  },
  {
   "cell_type": "code",
   "execution_count": 1179,
   "metadata": {},
   "outputs": [],
   "source": [
    "long_T1 = [float(format(item, '.3f')) for i, item in enumerate(periods) if item > T1][:5]"
   ]
  },
  {
   "cell_type": "code",
   "execution_count": 1180,
   "metadata": {},
   "outputs": [
    {
     "data": {
      "text/plain": [
       "[6.49, 6.491, 6.492, 6.493, 6.494]"
      ]
     },
     "execution_count": 1180,
     "metadata": {},
     "output_type": "execute_result"
    }
   ],
   "source": [
    "long_T1"
   ]
  },
  {
   "cell_type": "code",
   "execution_count": 1181,
   "metadata": {},
   "outputs": [],
   "source": [
    "long_sigma = [2 * math.pi / i for i in long_T1]"
   ]
  },
  {
   "cell_type": "code",
   "execution_count": 1182,
   "metadata": {},
   "outputs": [],
   "source": [
    "long_sqr_sigma = [i * i for i in long_sigma]"
   ]
  },
  {
   "cell_type": "code",
   "execution_count": 1183,
   "metadata": {},
   "outputs": [
    {
     "name": "stdout",
     "output_type": "stream",
     "text": [
      "[0.9372821433082408, 0.936993371179227, 0.9367047324836179, 0.9364162271392181, 0.9361278550638967]\n"
     ]
    }
   ],
   "source": [
    "print(long_sqr_sigma)"
   ]
  },
  {
   "cell_type": "markdown",
   "metadata": {},
   "source": [
    "Eckart 식을 이용하여 초깃값 산정"
   ]
  },
  {
   "cell_type": "code",
   "execution_count": 1184,
   "metadata": {},
   "outputs": [],
   "source": [
    "k_init = []"
   ]
  },
  {
   "cell_type": "code",
   "execution_count": 1185,
   "metadata": {},
   "outputs": [],
   "source": [
    "for i in long_sqr_sigma:\n",
    "    k_init.append(i / (g * math.sqrt(np.tanh([(i / g) * h]))))"
   ]
  },
  {
   "cell_type": "code",
   "execution_count": 1186,
   "metadata": {},
   "outputs": [
    {
     "data": {
      "text/plain": [
       "[0.3095708159665305,\n",
       " 0.30952283475267234,\n",
       " 0.30947486854239015,\n",
       " 0.3094269173285474,\n",
       " 0.3093789811040123]"
      ]
     },
     "execution_count": 1186,
     "metadata": {},
     "output_type": "execute_result"
    }
   ],
   "source": [
    "k_init"
   ]
  },
  {
   "cell_type": "markdown",
   "metadata": {},
   "source": [
    "Bisection Method를 활용하여 k 값 산정"
   ]
  },
  {
   "cell_type": "code",
   "execution_count": 1187,
   "metadata": {},
   "outputs": [],
   "source": [
    "def f(x, sqr_sigma):\n",
    "    return g * (x / sqr_sigma) * np.tanh([x*h]) - 1"
   ]
  },
  {
   "cell_type": "code",
   "execution_count": 1188,
   "metadata": {},
   "outputs": [],
   "source": [
    "k = []"
   ]
  },
  {
   "cell_type": "code",
   "execution_count": 1189,
   "metadata": {},
   "outputs": [
    {
     "name": "stdout",
     "output_type": "stream",
     "text": [
      "k initial:  0.3095708159665305\n",
      "k: 0.3141106871823509\n",
      "\n",
      "k initial:  0.30952283475267234\n",
      "k: 0.31406041715013333\n",
      "\n",
      "k initial:  0.30947486854239015\n",
      "k: 0.3140101621214917\n",
      "\n",
      "k initial:  0.3094269173285474\n",
      "k: 0.31396068502874275\n",
      "\n",
      "k initial:  0.3093789811040123\n",
      "k: 0.3139104599858482\n",
      "\n"
     ]
    }
   ],
   "source": [
    "error = 0.5 * 10**(-6)\n",
    "\n",
    "for i, sqr_sigma in enumerate(long_sqr_sigma):\n",
    "    a = -0.1 + k_init[i]\n",
    "    b = 0.1 + k_init[i]\n",
    "    \n",
    "    while (b - a) / 2 > error:\n",
    "        c = (b + a) / 2\n",
    "        if f(c, sqr_sigma) == 0:\n",
    "            break\n",
    "        elif f(a, sqr_sigma)*f(c, sqr_sigma) > 0:\n",
    "            a = c\n",
    "        else:\n",
    "            b = c\n",
    "    c = (b + a) / 2\n",
    "    \n",
    "    k.append(c)\n",
    "\n",
    "    # solution.append(f(c, sqr_sigma))\n",
    "    print(\"k initial: \", k_init[i])\n",
    "    print(\"k:\", c)\n",
    "    print(\"\")"
   ]
  },
  {
   "cell_type": "code",
   "execution_count": 1190,
   "metadata": {},
   "outputs": [],
   "source": [
    "abs_val = 0"
   ]
  },
  {
   "cell_type": "code",
   "execution_count": 1191,
   "metadata": {},
   "outputs": [],
   "source": [
    "for i in range(0, len(k)):\n",
    "    abs_val = abs(k[i] - k_init[i])"
   ]
  },
  {
   "cell_type": "code",
   "execution_count": 1192,
   "metadata": {},
   "outputs": [
    {
     "data": {
      "text/plain": [
       "'0.0906295776367183%'"
      ]
     },
     "execution_count": 1192,
     "metadata": {},
     "output_type": "execute_result"
    }
   ],
   "source": [
    "str((abs_val / 5) * 100) + \"%\""
   ]
  },
  {
   "cell_type": "code",
   "execution_count": 1193,
   "metadata": {},
   "outputs": [],
   "source": [
    "C = []\n",
    "L = []"
   ]
  },
  {
   "cell_type": "code",
   "execution_count": 1194,
   "metadata": {},
   "outputs": [],
   "source": [
    "for i in range(0, len(k)):\n",
    "    L.append(2 * math.pi / k[i])"
   ]
  },
  {
   "cell_type": "code",
   "execution_count": 1195,
   "metadata": {},
   "outputs": [],
   "source": [
    "for i in range(0, len(k)):\n",
    "    C.append(L[i] / long_T1[i])\n"
   ]
  },
  {
   "cell_type": "code",
   "execution_count": 1196,
   "metadata": {},
   "outputs": [
    {
     "data": {
      "text/plain": [
       "[3.082140687373203,\n",
       " 3.082159120791374,\n",
       " 3.082177559172774,\n",
       " 3.0821885126361517,\n",
       " 3.082206959707343]"
      ]
     },
     "execution_count": 1196,
     "metadata": {},
     "output_type": "execute_result"
    }
   ],
   "source": [
    "C"
   ]
  },
  {
   "cell_type": "markdown",
   "metadata": {},
   "source": [
    "# Question #3"
   ]
  },
  {
   "cell_type": "markdown",
   "metadata": {},
   "source": [
    "$T_{2}$보다 짧은 주기를 갖는 파 5개를 임의로 선택하여 파 속도를 구하시오."
   ]
  },
  {
   "cell_type": "markdown",
   "metadata": {},
   "source": [
    "T2보다 짧은 주기를 갖는 파 5개를 임의로 생성"
   ]
  },
  {
   "cell_type": "code",
   "execution_count": 1197,
   "metadata": {},
   "outputs": [
    {
     "data": {
      "text/plain": [
       "1.1339174776189893"
      ]
     },
     "execution_count": 1197,
     "metadata": {},
     "output_type": "execute_result"
    }
   ],
   "source": [
    "T2"
   ]
  },
  {
   "cell_type": "code",
   "execution_count": 1198,
   "metadata": {},
   "outputs": [],
   "source": [
    "periods = np.arange(T2-0.1, T2+0.1, 0.001)"
   ]
  },
  {
   "cell_type": "code",
   "execution_count": 1199,
   "metadata": {},
   "outputs": [],
   "source": [
    "short_T2 = [float(format(item, '.3f')) for i, item in enumerate(periods) if item < T2][:5]"
   ]
  },
  {
   "cell_type": "code",
   "execution_count": 1200,
   "metadata": {},
   "outputs": [
    {
     "data": {
      "text/plain": [
       "[1.034, 1.035, 1.036, 1.037, 1.038]"
      ]
     },
     "execution_count": 1200,
     "metadata": {},
     "output_type": "execute_result"
    }
   ],
   "source": [
    "short_T2"
   ]
  },
  {
   "cell_type": "code",
   "execution_count": 1201,
   "metadata": {},
   "outputs": [],
   "source": [
    "short_sigma = [2 * math.pi / i for i in short_T2]"
   ]
  },
  {
   "cell_type": "code",
   "execution_count": 1202,
   "metadata": {},
   "outputs": [],
   "source": [
    "short_sqr_sigma = [i * i for i in short_sigma]"
   ]
  },
  {
   "cell_type": "code",
   "execution_count": 1203,
   "metadata": {},
   "outputs": [
    {
     "name": "stdout",
     "output_type": "stream",
     "text": [
      "[36.92484315138056, 36.85352526720105, 36.78241380230377, 36.7115079608557, 36.64080695085539]\n"
     ]
    }
   ],
   "source": [
    "print(short_sqr_sigma)"
   ]
  },
  {
   "cell_type": "markdown",
   "metadata": {},
   "source": [
    "Eckart 식을 이용하여 초깃값 산정"
   ]
  },
  {
   "cell_type": "code",
   "execution_count": 1204,
   "metadata": {},
   "outputs": [],
   "source": [
    "k_init = []"
   ]
  },
  {
   "cell_type": "code",
   "execution_count": 1205,
   "metadata": {},
   "outputs": [],
   "source": [
    "for i in short_sqr_sigma:\n",
    "    k_init.append(i / (g * math.sqrt(np.tanh([(i / g) * h]))))"
   ]
  },
  {
   "cell_type": "code",
   "execution_count": 1206,
   "metadata": {},
   "outputs": [
    {
     "data": {
      "text/plain": [
       "[3.7660251921676675,\n",
       " 3.7587809715925244,\n",
       " 3.751558035416577,\n",
       " 3.7443563038222476,\n",
       " 3.7371756973804486]"
      ]
     },
     "execution_count": 1206,
     "metadata": {},
     "output_type": "execute_result"
    }
   ],
   "source": [
    "k_init"
   ]
  },
  {
   "cell_type": "markdown",
   "metadata": {},
   "source": [
    "Bisection Method를 활용하여 k 값 산정"
   ]
  },
  {
   "cell_type": "code",
   "execution_count": 1207,
   "metadata": {},
   "outputs": [],
   "source": [
    "def f(x, sqr_sigma):\n",
    "    return g * (x / sqr_sigma) * np.tanh([x*h]) - 1"
   ]
  },
  {
   "cell_type": "code",
   "execution_count": 1208,
   "metadata": {},
   "outputs": [],
   "source": [
    "k = []"
   ]
  },
  {
   "cell_type": "code",
   "execution_count": 1209,
   "metadata": {},
   "outputs": [
    {
     "name": "stdout",
     "output_type": "stream",
     "text": [
      "k initial:  3.7660251921676675\n",
      "k: 3.768018371488957\n",
      "\n",
      "k initial:  3.7587809715925244\n",
      "k: 3.7607993279157665\n",
      "\n",
      "k initial:  3.751558035416577\n",
      "k: 3.753601568741772\n",
      "\n",
      "k initial:  3.7443563038222476\n",
      "k: 3.746425014149396\n",
      "\n",
      "k initial:  3.7371756973804486\n",
      "k: 3.7392703476490037\n",
      "\n"
     ]
    }
   ],
   "source": [
    "error = 0.5 * 10**(-6)\n",
    "\n",
    "for i, sqr_sigma in enumerate(short_sqr_sigma):\n",
    "    a = -0.1 + k_init[i]\n",
    "    b = 0.1 + k_init[i]\n",
    "    \n",
    "    while (b - a) / 2 > error:\n",
    "        c = (b + a) / 2\n",
    "        if f(c, sqr_sigma) == 0:\n",
    "            break\n",
    "        elif f(a, sqr_sigma)*f(c, sqr_sigma) > 0:\n",
    "            a = c\n",
    "        else:\n",
    "            b = c\n",
    "    c = (b + a) / 2\n",
    "\n",
    "    k.append(c)\n",
    "\n",
    "    # solution.append(f(c, sqr_sigma))\n",
    "    print(\"k initial: \", k_init[i])\n",
    "    print(\"k:\", c)\n",
    "    print(\"\")"
   ]
  },
  {
   "cell_type": "code",
   "execution_count": 1210,
   "metadata": {},
   "outputs": [],
   "source": [
    "abs_val = 0"
   ]
  },
  {
   "cell_type": "code",
   "execution_count": 1211,
   "metadata": {},
   "outputs": [],
   "source": [
    "for i in range(0, len(k)):\n",
    "    abs_val = abs(k[i] - k_init[i])"
   ]
  },
  {
   "cell_type": "code",
   "execution_count": 1212,
   "metadata": {},
   "outputs": [
    {
     "data": {
      "text/plain": [
       "'0.041893005371100855%'"
      ]
     },
     "execution_count": 1212,
     "metadata": {},
     "output_type": "execute_result"
    }
   ],
   "source": [
    "str((abs_val / 5) * 100) + \"%\""
   ]
  },
  {
   "cell_type": "code",
   "execution_count": 1213,
   "metadata": {},
   "outputs": [],
   "source": [
    "C = []\n",
    "L = []"
   ]
  },
  {
   "cell_type": "code",
   "execution_count": 1214,
   "metadata": {},
   "outputs": [],
   "source": [
    "for i in range(0, len(k)):\n",
    "    L.append(2 * math.pi / k[i])"
   ]
  },
  {
   "cell_type": "code",
   "execution_count": 1215,
   "metadata": {},
   "outputs": [],
   "source": [
    "for i in range(0, len(k)):\n",
    "    C.append(L[i] / long_T1[i])\n"
   ]
  },
  {
   "cell_type": "code",
   "execution_count": 1216,
   "metadata": {},
   "outputs": [
    {
     "data": {
      "text/plain": [
       "[0.25693434422426026,\n",
       " 0.2573878834782933,\n",
       " 0.2578417174328627,\n",
       " 0.2582958455488199,\n",
       " 0.25875021449081254]"
      ]
     },
     "execution_count": 1216,
     "metadata": {},
     "output_type": "execute_result"
    }
   ],
   "source": [
    "C"
   ]
  },
  {
   "cell_type": "markdown",
   "metadata": {},
   "source": [
    "# Question #4"
   ]
  },
  {
   "cell_type": "markdown",
   "metadata": {},
   "source": [
    "$T_{2} \\leq T \\leq T_{1}$ 구간에서 파 속도를 구하고 Eckart 및 Hunt의 식과 비교하시오."
   ]
  },
  {
   "cell_type": "markdown",
   "metadata": {},
   "source": [
    "$T_{2} \\leq T \\leq T_{1}$ 구간에 있는 $T$ 값 생성"
   ]
  },
  {
   "cell_type": "code",
   "execution_count": 1217,
   "metadata": {},
   "outputs": [],
   "source": [
    "T = np.arange(T2, T1, 0.05)"
   ]
  },
  {
   "cell_type": "code",
   "execution_count": 1218,
   "metadata": {},
   "outputs": [
    {
     "data": {
      "text/plain": [
       "array([1.13391748, 1.18391748, 1.23391748, 1.28391748, 1.33391748,\n",
       "       1.38391748, 1.43391748, 1.48391748, 1.53391748, 1.58391748,\n",
       "       1.63391748, 1.68391748, 1.73391748, 1.78391748, 1.83391748,\n",
       "       1.88391748, 1.93391748, 1.98391748, 2.03391748, 2.08391748,\n",
       "       2.13391748, 2.18391748, 2.23391748, 2.28391748, 2.33391748,\n",
       "       2.38391748, 2.43391748, 2.48391748, 2.53391748, 2.58391748,\n",
       "       2.63391748, 2.68391748, 2.73391748, 2.78391748, 2.83391748,\n",
       "       2.88391748, 2.93391748, 2.98391748, 3.03391748, 3.08391748,\n",
       "       3.13391748, 3.18391748, 3.23391748, 3.28391748, 3.33391748,\n",
       "       3.38391748, 3.43391748, 3.48391748, 3.53391748, 3.58391748,\n",
       "       3.63391748, 3.68391748, 3.73391748, 3.78391748, 3.83391748,\n",
       "       3.88391748, 3.93391748, 3.98391748, 4.03391748, 4.08391748,\n",
       "       4.13391748, 4.18391748, 4.23391748, 4.28391748, 4.33391748,\n",
       "       4.38391748, 4.43391748, 4.48391748, 4.53391748, 4.58391748,\n",
       "       4.63391748, 4.68391748, 4.73391748, 4.78391748, 4.83391748,\n",
       "       4.88391748, 4.93391748, 4.98391748, 5.03391748, 5.08391748,\n",
       "       5.13391748, 5.18391748, 5.23391748, 5.28391748, 5.33391748,\n",
       "       5.38391748, 5.43391748, 5.48391748, 5.53391748, 5.58391748,\n",
       "       5.63391748, 5.68391748, 5.73391748, 5.78391748, 5.83391748,\n",
       "       5.88391748, 5.93391748, 5.98391748, 6.03391748, 6.08391748,\n",
       "       6.13391748, 6.18391748, 6.23391748, 6.28391748, 6.33391748,\n",
       "       6.38391748, 6.43391748, 6.48391748])"
      ]
     },
     "execution_count": 1218,
     "metadata": {},
     "output_type": "execute_result"
    }
   ],
   "source": [
    "T"
   ]
  },
  {
   "cell_type": "code",
   "execution_count": 1219,
   "metadata": {},
   "outputs": [
    {
     "name": "stdout",
     "output_type": "stream",
     "text": [
      "108\n"
     ]
    }
   ],
   "source": [
    "print(len(T))"
   ]
  },
  {
   "cell_type": "code",
   "execution_count": 1220,
   "metadata": {},
   "outputs": [],
   "source": [
    "added_sqr_sigma = []"
   ]
  },
  {
   "cell_type": "code",
   "execution_count": 1221,
   "metadata": {},
   "outputs": [],
   "source": [
    "for i in T:\n",
    "    added_sqr_sigma.append((2*math.pi/i) ** 2)"
   ]
  },
  {
   "cell_type": "code",
   "execution_count": 1222,
   "metadata": {},
   "outputs": [
    {
     "data": {
      "text/plain": [
       "[30.704132959547557,\n",
       " 28.165461580823116,\n",
       " 25.92910373350788,\n",
       " 23.948896938488993,\n",
       " 22.187164885498923,\n",
       " 20.612911967460796,\n",
       " 19.200450566275798,\n",
       " 17.928346481112623,\n",
       " 16.77860094013388,\n",
       " 15.73601042647599,\n",
       " 14.78766147706238,\n",
       " 13.922528884714662,\n",
       " 13.131153804484066,\n",
       " 12.405384106664547,\n",
       " 11.73816359047769,\n",
       " 11.123359825926766,\n",
       " 10.555622740467626,\n",
       " 10.030267831994628,\n",
       " 9.543179226168123,\n",
       " 9.090728815949122,\n",
       " 8.66970850498514,\n",
       " 8.277273182951891,\n",
       " 7.910892533246985,\n",
       " 7.5683101434971976,\n",
       " 7.24750868100313,\n",
       " 6.946680126395651,\n",
       " 6.664200242946881,\n",
       " 6.39860660645859,\n",
       " 6.148579639325633,\n",
       " 5.912926188311036,\n",
       " 5.690565263473821,\n",
       " 5.480515619220957,\n",
       " 5.2818849104751715,\n",
       " 5.093860199713907,\n",
       " 4.9156996259215155,\n",
       " 4.746725075720167,\n",
       " 4.586315721231513,\n",
       " 4.43390230947309,\n",
       " 4.288962105035965,\n",
       " 4.15101440200847,\n",
       " 4.019616533079363,\n",
       " 3.894360313857744,\n",
       " 3.7748688690011853,\n",
       " 3.660793794005476,\n",
       " 3.5518126126904024,\n",
       " 3.447626495690811,\n",
       " 3.3479582097744665,\n",
       " 3.2525502716778227,\n",
       " 3.16116328347676,\n",
       " 3.073574429374669,\n",
       " 2.9895761162640224,\n",
       " 2.908974742557977,\n",
       " 2.8315895816442165,\n",
       " 2.757251767925452,\n",
       " 2.6858033748142636,\n",
       " 2.6170965752737914,\n",
       " 2.5509928765650898,\n",
       " 2.487362421797899,\n",
       " 2.4260833517022435,\n",
       " 2.3670412207590936,\n",
       " 2.310128462462487,\n",
       " 2.255243899044367,\n",
       " 2.2022922914866117,\n",
       " 2.151183926080783,\n",
       " 2.101834234182075,\n",
       " 2.0541634421462516,\n",
       " 2.008096248742159,\n",
       " 1.9635615276026321,\n",
       " 1.920492052517096,\n",
       " 1.8788242435836962,\n",
       " 1.8384979324301451,\n",
       " 1.7994561448836695,\n",
       " 1.7616448996235017,\n",
       " 1.7250130214866548,\n",
       " 1.6895119682207593,\n",
       " 1.655095669588331,\n",
       " 1.6217203778262494,\n",
       " 1.5893445285537169,\n",
       " 1.5579286113026178,\n",
       " 1.5274350489169572,\n",
       " 1.4978280851337507,\n",
       " 1.4690736797171533,\n",
       " 1.4411394105713584,\n",
       " 1.413994382306484,\n",
       " 1.387609140775821,\n",
       " 1.361955593142869,\n",
       " 1.33700693307301,\n",
       " 1.3127375706777276,\n",
       " 1.2891230668694291,\n",
       " 1.2661400718123448,\n",
       " 1.2437662671799903,\n",
       " 1.221980311952496,\n",
       " 1.2007617915079531,\n",
       " 1.1800911697809593,\n",
       " 1.159949744278974,\n",
       " 1.1403196037630376,\n",
       " 1.1211835884140158,\n",
       " 1.102525252318915,\n",
       " 1.084328828124126,\n",
       " 1.0665791937136937,\n",
       " 1.0492618407811274,\n",
       " 1.032362845172745,\n",
       " 1.0158688388893549,\n",
       " 0.9997669836411418,\n",
       " 0.9840449458580369,\n",
       " 0.9686908730647628,\n",
       " 0.9536933715360244,\n",
       " 0.9390414851531846]"
      ]
     },
     "execution_count": 1222,
     "metadata": {},
     "output_type": "execute_result"
    }
   ],
   "source": [
    "added_sqr_sigma"
   ]
  },
  {
   "cell_type": "code",
   "execution_count": 1223,
   "metadata": {},
   "outputs": [
    {
     "name": "stdout",
     "output_type": "stream",
     "text": [
      "108\n"
     ]
    }
   ],
   "source": [
    "print(len(added_sqr_sigma))"
   ]
  },
  {
   "cell_type": "markdown",
   "metadata": {},
   "source": [
    "Eckart 식을 이용하여 초깃값 산정"
   ]
  },
  {
   "cell_type": "code",
   "execution_count": 1224,
   "metadata": {},
   "outputs": [],
   "source": [
    "k_init = []"
   ]
  },
  {
   "cell_type": "code",
   "execution_count": 1225,
   "metadata": {},
   "outputs": [],
   "source": [
    "for i in added_sqr_sigma:\n",
    "    k_init.append(i / (g * math.sqrt(np.tanh([i / g * h]))))"
   ]
  },
  {
   "cell_type": "code",
   "execution_count": 1226,
   "metadata": {},
   "outputs": [
    {
     "data": {
      "text/plain": [
       "[3.135870161236885,\n",
       " 2.880321502961319,\n",
       " 2.6565398217280007,\n",
       " 2.459843722381739,\n",
       " 2.286367761003905,\n",
       " 2.1328854196396634,\n",
       " 1.996679080573182,\n",
       " 1.8754432647772303,\n",
       " 1.7672113456359493,\n",
       " 1.670298876681068,\n",
       " 1.5832587953844968,\n",
       " 1.5048452653040891,\n",
       " 1.4339839524861973,\n",
       " 1.3697472286504564,\n",
       " 1.3113332551910493,\n",
       " 1.2580482044709902,\n",
       " 1.209291072547099,\n",
       " 1.1645406676354029,\n",
       " 1.1233444460913928,\n",
       " 1.0853089284301563,\n",
       " 1.050091472001765,\n",
       " 1.0173932105390635,\n",
       " 0.986952997617885,\n",
       " 0.958542213306537,\n",
       " 0.9319603122171266,\n",
       " 0.9070310075635305,\n",
       " 0.8835990001407303,\n",
       " 0.8615271736676672,\n",
       " 0.8406941888959165,\n",
       " 0.8209924184506829,\n",
       " 0.802326172687414,\n",
       " 0.7846101740517668,\n",
       " 0.7677682436480623,\n",
       " 0.7517321690682655,\n",
       " 0.7364407271175379,\n",
       " 0.7218388389918436,\n",
       " 0.707876838806769,\n",
       " 0.6945098392240203,\n",
       " 0.6816971803431773,\n",
       " 0.6694019500828079,\n",
       " 0.6575905660206002,\n",
       " 0.6462324101430793,\n",
       " 0.6352995092116726,\n",
       " 0.6247662545175011,\n",
       " 0.6146091557014666,\n",
       " 0.6048066240837825,\n",
       " 0.595338781599068,\n",
       " 0.5861872919873506,\n",
       " 0.5773352113628502,\n",
       " 0.5687668556839839,\n",
       " 0.5604676829903933,\n",
       " 0.5524241885650082,\n",
       " 0.5446238114288845,\n",
       " 0.5370548507902456,\n",
       " 0.5297063912522475,\n",
       " 0.5225682357410866,\n",
       " 0.5156308452510578,\n",
       " 0.5088852846193221,\n",
       " 0.5023231736432393,\n",
       " 0.4959366429395075,\n",
       " 0.4897182940190196,\n",
       " 0.48366116311598323,\n",
       " 0.47775868836588586,\n",
       " 0.4720046799755534,\n",
       " 0.46639329307085203,\n",
       " 0.46091900294445354,\n",
       " 0.4555765824582212,\n",
       " 0.4503610813828668,\n",
       " 0.4452678074820973,\n",
       " 0.440292309170013,\n",
       " 0.4354303595894052,\n",
       " 0.4306779419752245,\n",
       " 0.42603123618209826,\n",
       " 0.4214866062676737,\n",
       " 0.4170405890349343,\n",
       " 0.4126898834466975,\n",
       " 0.4084313408344043,\n",
       " 0.4042619558312086,\n",
       " 0.40017885796638075,\n",
       " 0.3961793038642717,\n",
       " 0.39226066999663034,\n",
       " 0.3884204459420129,\n",
       " 0.3846562281104369,\n",
       " 0.3809657138953759,\n",
       " 0.37734669621872613,\n",
       " 0.3737970584375337,\n",
       " 0.37031476958411835,\n",
       " 0.3668978799137715,\n",
       " 0.36354451673650723,\n",
       " 0.3602528805114065,\n",
       " 0.35702124118395967,\n",
       " 0.3538479347484916,\n",
       " 0.35073136001927646,\n",
       " 0.34766997559531965,\n",
       " 0.3446622970050335,\n",
       " 0.3417068940181608,\n",
       " 0.3388023881133244,\n",
       " 0.33594745009051347,\n",
       " 0.3331407978186657,\n",
       " 0.33038119410927225,\n",
       " 0.3276674447076417,\n",
       " 0.32499839639409356,\n",
       " 0.32237293518794474,\n",
       " 0.31978998464768676,\n",
       " 0.31724850426123585,\n",
       " 0.3147474879205983,\n",
       " 0.31228596247569634,\n",
       " 0.3098629863624799]"
      ]
     },
     "execution_count": 1226,
     "metadata": {},
     "output_type": "execute_result"
    }
   ],
   "source": [
    "k_init"
   ]
  },
  {
   "cell_type": "markdown",
   "metadata": {},
   "source": [
    "Bisection Method를 활용하여 k 값 산정"
   ]
  },
  {
   "cell_type": "code",
   "execution_count": 1227,
   "metadata": {},
   "outputs": [],
   "source": [
    "def f(x, sqr_sigma):\n",
    "    return g * (x / sqr_sigma) * np.tanh([x*h]) - 1"
   ]
  },
  {
   "cell_type": "code",
   "execution_count": 1228,
   "metadata": {},
   "outputs": [
    {
     "name": "stdout",
     "output_type": "stream",
     "text": [
      "108\n"
     ]
    }
   ],
   "source": [
    "print(len(added_sqr_sigma))"
   ]
  },
  {
   "cell_type": "code",
   "execution_count": 1229,
   "metadata": {},
   "outputs": [],
   "source": [
    "k = []\n",
    "eckart_k = k_init\n",
    "hunt_k = []"
   ]
  },
  {
   "cell_type": "code",
   "execution_count": 1230,
   "metadata": {},
   "outputs": [
    {
     "name": "stdout",
     "output_type": "stream",
     "text": [
      "k initial:  3.135870161236885\n",
      "k: 3.141592588605049\n",
      "\n",
      "k initial:  2.880321502961319\n",
      "k: 2.8889263155833893\n",
      "\n",
      "k initial:  2.6565398217280007\n",
      "k: 2.668672466381321\n",
      "\n",
      "k initial:  2.459843722381739\n",
      "k: 2.4760329161073247\n",
      "\n",
      "k initial:  2.286367761003905\n",
      "k: 2.306975900041991\n",
      "\n",
      "k initial:  2.1328854196396634\n",
      "k: 2.158080350669937\n",
      "\n",
      "k initial:  1.996679080573182\n",
      "k: 2.026437915412049\n",
      "\n",
      "k initial:  1.8754432647772303\n",
      "k: 1.9095752685614102\n",
      "\n",
      "k initial:  1.7672113456359493\n",
      "k: 1.8053899802795041\n",
      "\n",
      "k initial:  1.670298876681068\n",
      "k: 1.712103762545326\n",
      "\n",
      "k initial:  1.5832587953844968\n",
      "k: 1.628210043553442\n",
      "\n",
      "k initial:  1.5048452653040891\n",
      "k: 1.5524378098597533\n",
      "\n",
      "k initial:  1.4339839524861973\n",
      "k: 1.4837127275106115\n",
      "\n",
      "k initial:  1.3697472286504564\n",
      "k: 1.4211254787725265\n",
      "\n",
      "k initial:  1.3113332551910493\n",
      "k: 1.3639070314361668\n",
      "\n",
      "k initial:  1.2580482044709902\n",
      "k: 1.3114039936555604\n",
      "\n",
      "k initial:  1.209291072547099\n",
      "k: 1.2630588490363568\n",
      "\n",
      "k initial:  1.1645406676354029\n",
      "k: 1.218395419222317\n",
      "\n",
      "k initial:  1.1233444460913928\n",
      "k: 1.177005411057213\n",
      "\n",
      "k initial:  1.0853089284301563\n",
      "k: 1.1385373067260547\n",
      "\n",
      "k initial:  1.050091472001765\n",
      "k: 1.102687373491023\n",
      "\n",
      "k initial:  1.0173932105390635\n",
      "k: 1.0691910773603523\n",
      "\n",
      "k initial:  0.986952997617885\n",
      "k: 1.0378185524274555\n",
      "\n",
      "k initial:  0.958542213306537\n",
      "k: 1.0083686445809512\n",
      "\n",
      "k initial:  0.9319603122171266\n",
      "k: 0.9806652224954469\n",
      "\n",
      "k initial:  0.9070310075635305\n",
      "k: 0.9545525987500537\n",
      "\n",
      "k initial:  0.8835990001407303\n",
      "k: 0.9298922588077226\n",
      "\n",
      "k initial:  0.8615271736676672\n",
      "k: 0.9065638710553625\n",
      "\n",
      "k initial:  0.8406941888959165\n",
      "k: 0.8844575403363462\n",
      "\n",
      "k initial:  0.8209924184506829\n",
      "k: 0.863476320428222\n",
      "\n",
      "k initial:  0.802326172687414\n",
      "k: 0.843533676959875\n",
      "\n",
      "k initial:  0.7846101740517668\n",
      "k: 0.8245511988320404\n",
      "\n",
      "k initial:  0.7677682436480623\n",
      "k: 0.8064595736041169\n",
      "\n",
      "k initial:  0.7517321690682655\n",
      "k: 0.7891936406258828\n",
      "\n",
      "k initial:  0.7364407271175379\n",
      "k: 0.7726975172786708\n",
      "\n",
      "k initial:  0.7218388389918436\n",
      "k: 0.7569184135768044\n",
      "\n",
      "k initial:  0.707876838806769\n",
      "k: 0.7418081895147767\n",
      "\n",
      "k initial:  0.6945098392240203\n",
      "k: 0.7273242465726532\n",
      "\n",
      "k initial:  0.6816971803431773\n",
      "k: 0.7134266877894663\n",
      "\n",
      "k initial:  0.6694019500828079\n",
      "k: 0.7000801269626908\n",
      "\n",
      "k initial:  0.6575905660206002\n",
      "k: 0.687250218730561\n",
      "\n",
      "k initial:  0.6462324101430793\n",
      "k: 0.6749063450796028\n",
      "\n",
      "k initial:  0.6352995092116726\n",
      "k: 0.6630212957106961\n",
      "\n",
      "k initial:  0.6247662545175011\n",
      "k: 0.6515686989755088\n",
      "\n",
      "k initial:  0.6146091557014666\n",
      "k: 0.6405243015754901\n",
      "\n",
      "k initial:  0.6048066240837825\n",
      "k: 0.6298657518913997\n",
      "\n",
      "k initial:  0.595338781599068\n",
      "k: 0.6195731718578571\n",
      "\n",
      "k initial:  0.5861872919873506\n",
      "k: 0.6096274622754366\n",
      "\n",
      "k initial:  0.5773352113628502\n",
      "k: 0.6000093904399985\n",
      "\n",
      "k initial:  0.5687668556839839\n",
      "k: 0.5907040352494135\n",
      "\n",
      "k initial:  0.5604676829903933\n",
      "k: 0.5816953288644168\n",
      "\n",
      "k initial:  0.5524241885650082\n",
      "k: 0.5729682406890316\n",
      "\n",
      "k initial:  0.5446238114288845\n",
      "k: 0.5645102097443142\n",
      "\n",
      "k initial:  0.5370548507902456\n",
      "k: 0.5563080093595815\n",
      "\n",
      "k initial:  0.5297063912522475\n",
      "k: 0.5483507241379897\n",
      "\n",
      "k initial:  0.5225682357410866\n",
      "k: 0.5406266311268288\n",
      "\n",
      "k initial:  0.5156308452510578\n",
      "k: 0.5331246654414874\n",
      "\n",
      "k initial:  0.5088852846193221\n",
      "k: 0.5258358919191269\n",
      "\n",
      "k initial:  0.5023231736432393\n",
      "k: 0.5187511674176534\n",
      "\n",
      "k initial:  0.4959366429395075\n",
      "k: 0.5118618596143122\n",
      "\n",
      "k initial:  0.4897182940190196\n",
      "k: 0.50515904414109\n",
      "\n",
      "k initial:  0.48366116311598323\n",
      "k: 0.49863499429274105\n",
      "\n",
      "k initial:  0.47775868836588586\n",
      "k: 0.4922839111442062\n",
      "\n",
      "k initial:  0.4720046799755534\n",
      "k: 0.4860973160839518\n",
      "\n",
      "k initial:  0.46639329307085203\n",
      "k: 0.4800693642378443\n",
      "\n",
      "k initial:  0.46091900294445354\n",
      "k: 0.4741930050196489\n",
      "\n",
      "k initial:  0.4555765824582212\n",
      "k: 0.4684637742306822\n",
      "\n",
      "k initial:  0.4503610813828668\n",
      "k: 0.46287595870220266\n",
      "\n",
      "k initial:  0.4452678074820973\n",
      "k: 0.45742334031901144\n",
      "\n",
      "k initial:  0.440292309170013\n",
      "k: 0.4521014674952083\n",
      "\n",
      "k initial:  0.4354303595894052\n",
      "k: 0.4469053504341317\n",
      "\n",
      "k initial:  0.4306779419752245\n",
      "k: 0.4418309723707323\n",
      "\n",
      "k initial:  0.42603123618209826\n",
      "k: 0.4368729872807311\n",
      "\n",
      "k initial:  0.4214866062676737\n",
      "k: 0.43202852216122833\n",
      "\n",
      "k initial:  0.4170405890349343\n",
      "k: 0.4272933508757547\n",
      "\n",
      "k initial:  0.4126898834466975\n",
      "k: 0.4226634094476741\n",
      "\n",
      "k initial:  0.4084313408344043\n",
      "k: 0.4181347862689747\n",
      "\n",
      "k initial:  0.4042619558312086\n",
      "k: 0.4137052389122633\n",
      "\n",
      "k initial:  0.40017885796638075\n",
      "k: 0.4093703710279042\n",
      "\n",
      "k initial:  0.3961793038642717\n",
      "k: 0.4051274392402483\n",
      "\n",
      "k initial:  0.39226066999663034\n",
      "k: 0.4009738200210443\n",
      "\n",
      "k initial:  0.3884204459420129\n",
      "k: 0.39690700294884884\n",
      "\n",
      "k initial:  0.3846562281104369\n",
      "k: 0.39292305855477294\n",
      "\n",
      "k initial:  0.3809657138953759\n",
      "k: 0.3890204471717431\n",
      "\n",
      "k initial:  0.37734669621872613\n",
      "k: 0.3851961987822028\n",
      "\n",
      "k initial:  0.3737970584375337\n",
      "k: 0.38144819674319785\n",
      "\n",
      "k initial:  0.37031476958411835\n",
      "k: 0.377773647147595\n",
      "\n",
      "k initial:  0.3668978799137715\n",
      "k: 0.3741706002506856\n",
      "\n",
      "k initial:  0.36354451673650723\n",
      "k: 0.37063718336248375\n",
      "\n",
      "k initial:  0.3602528805114065\n",
      "k: 0.3671715969420707\n",
      "\n",
      "k initial:  0.35702124118395967\n",
      "k: 0.36377058505603\n",
      "\n",
      "k initial:  0.3538479347484916\n",
      "k: 0.3604340095775932\n",
      "\n",
      "k initial:  0.35073136001927646\n",
      "k: 0.3571595063815811\n",
      "\n",
      "k initial:  0.34766997559531965\n",
      "k: 0.353944008188093\n",
      "\n",
      "k initial:  0.3446622970050335\n",
      "k: 0.35078831934390065\n",
      "\n",
      "k initial:  0.3417068940181608\n",
      "k: 0.3476887208003874\n",
      "\n",
      "k initial:  0.3388023881133244\n",
      "k: 0.34464383403617604\n",
      "\n",
      "k initial:  0.33594745009051347\n",
      "k: 0.34165385573016194\n",
      "\n",
      "k initial:  0.3331407978186657\n",
      "k: 0.33871521493292345\n",
      "\n",
      "k initial:  0.33038119410927225\n",
      "k: 0.33582820033485816\n",
      "\n",
      "k initial:  0.3276674447076417\n",
      "k: 0.33299085474182144\n",
      "\n",
      "k initial:  0.32499839639409356\n",
      "k: 0.3302012619946795\n",
      "\n",
      "k initial:  0.32237293518794474\n",
      "k: 0.3274590710522025\n",
      "\n",
      "k initial:  0.31978998464768676\n",
      "k: 0.32476320547288207\n",
      "\n",
      "k initial:  0.31724850426123585\n",
      "k: 0.32211186180518114\n",
      "\n",
      "k initial:  0.3147474879205983\n",
      "k: 0.31950403394110616\n",
      "\n",
      "k initial:  0.31228596247569634\n",
      "k: 0.31693874873057915\n",
      "\n",
      "k initial:  0.3098629863624799\n",
      "k: 0.314414301670097\n",
      "\n"
     ]
    }
   ],
   "source": [
    "error = 0.5 * 10**(-6)\n",
    "\n",
    "for i, sqr_sigma in enumerate(added_sqr_sigma):\n",
    "    a = -0.1 + k_init[i]\n",
    "    b = 0.1 + k_init[i]\n",
    "    \n",
    "    while (b - a) / 2 > error:\n",
    "        c = (b + a) / 2\n",
    "        if f(c, sqr_sigma) == 0:\n",
    "            break\n",
    "        elif f(a, sqr_sigma)*f(c, sqr_sigma) > 0:\n",
    "            a = c\n",
    "        else:\n",
    "            b = c\n",
    "    c = (b + a) / 2\n",
    "\n",
    "    k.append(c)\n",
    "    \n",
    "    # solution.append(f(c, sqr_sigma))\n",
    "    print(\"k initial: \", k_init[i])\n",
    "    print(\"k:\", c)\n",
    "    print(\"\")"
   ]
  },
  {
   "cell_type": "code",
   "execution_count": 1231,
   "metadata": {},
   "outputs": [],
   "source": [
    "abs_val = 0"
   ]
  },
  {
   "cell_type": "code",
   "execution_count": 1232,
   "metadata": {},
   "outputs": [],
   "source": [
    "for i in range(0, len(k)):\n",
    "    abs_val = abs(k[i] - k_init[i])"
   ]
  },
  {
   "cell_type": "code",
   "execution_count": 1233,
   "metadata": {},
   "outputs": [
    {
     "data": {
      "text/plain": [
       "'0.004214180840386202%'"
      ]
     },
     "execution_count": 1233,
     "metadata": {},
     "output_type": "execute_result"
    }
   ],
   "source": [
    "str((abs_val / len(k)) * 100) + \"%\""
   ]
  },
  {
   "cell_type": "code",
   "execution_count": 1234,
   "metadata": {},
   "outputs": [],
   "source": [
    "sqr_kh = []"
   ]
  },
  {
   "cell_type": "code",
   "execution_count": 1235,
   "metadata": {},
   "outputs": [],
   "source": [
    "d = [0.6666666666, 0.3555555555, 0.1608465608, 0.0632098765, 0.0217540484, 0.0076507983]"
   ]
  },
  {
   "cell_type": "code",
   "execution_count": 1252,
   "metadata": {},
   "outputs": [],
   "source": [
    "added_y = []"
   ]
  },
  {
   "cell_type": "code",
   "execution_count": 1253,
   "metadata": {},
   "outputs": [],
   "source": [
    "for i in added_sqr_sigma:\n",
    "    y = i*h/g\n",
    "    added_y.append(y)\n",
    "    dny = 0\n",
    "    \n",
    "    for j in range(0, len(d)):\n",
    "        dny += d[j] * (y ** (j+1))\n",
    "\n",
    "    sqr_kh.append((y) ** 2 + (y) / (1 + dny))"
   ]
  },
  {
   "cell_type": "code",
   "execution_count": 1237,
   "metadata": {},
   "outputs": [
    {
     "data": {
      "text/plain": [
       "[9.896171744229443,\n",
       " 8.37093665747254,\n",
       " 7.144254178679617,\n",
       " 6.149979260144069,\n",
       " 5.33800251423289,\n",
       " 4.6699653517441,\n",
       " 4.116263713406433,\n",
       " 3.6539063150211195,\n",
       " 3.264948920020132,\n",
       " 2.9353267957174776,\n",
       " 2.6539709734538537,\n",
       " 2.4121328878139088,\n",
       " 2.202865607143531,\n",
       " 2.0206244627311234,\n",
       " 1.860959350827919,\n",
       " 1.720277546651766,\n",
       " 1.5956607078420981,\n",
       " 1.484723453875721,\n",
       " 1.385503800738959,\n",
       " 1.2963779914604943,\n",
       " 1.2159940215579166,\n",
       " 1.1432195153199696,\n",
       " 1.0771006479891498,\n",
       " 1.0168295998919048,\n",
       " 0.9617186281016868,\n",
       " 0.9111792945641428,\n",
       " 0.8647057321636183,\n",
       " 0.8218610892211666,\n",
       " 0.7822664891204492,\n",
       " 0.7455919907981328,\n",
       " 0.7115491494399948,\n",
       " 0.6798848636634685,\n",
       " 0.6503762622910473,\n",
       " 0.6228264354186173,\n",
       " 0.5970608545173526,\n",
       " 0.5729243575206168,\n",
       " 0.5502785993012984,\n",
       " 0.5289998871971272,\n",
       " 0.5089773364713559,\n",
       " 0.4901112927012228,\n",
       " 0.47231197775268907,\n",
       " 0.45549832375345334,\n",
       " 0.43959696572311113,\n",
       " 0.42454136857395247,\n",
       " 0.4102710683028511,\n",
       " 0.39673101054522164,\n",
       " 0.38387097240610035,\n",
       " 0.371645055739402,\n",
       " 0.36001124190792766,\n",
       " 0.34893099959822127,\n",
       " 0.33836893854530153,\n",
       " 0.3282925030902531,\n",
       " 0.3186717003869292,\n",
       " 0.309478858823532,\n",
       " 0.3006884128556272,\n",
       " 0.29227671097959323,\n",
       " 0.2842218440262232,\n",
       " 0.2765034913367831,\n",
       " 0.269102782709457,\n",
       " 0.26200217428198125,\n",
       " 0.2551853367539898,\n",
       " 0.24863705455645763,\n",
       " 0.2423431347508812,\n",
       " 0.23629032459184038,\n",
       " 0.23046623681698042,\n",
       " 0.22485928184131765,\n",
       " 0.21945860613064386,\n",
       " 0.21425403611387572,\n",
       " 0.20923602706826763,\n",
       " 0.20439561647604992,\n",
       " 0.19972438140754983,\n",
       " 0.19521439953534697,\n",
       " 0.19085821342742934,\n",
       " 0.1866487978054838,\n",
       " 0.18257952948805434,\n",
       " 0.17864415976793163,\n",
       " 0.17483678899931898,\n",
       " 0.17115184319347404,\n",
       " 0.16758405244205213,\n",
       " 0.16412843100558666,\n",
       " 0.16078025892073,\n",
       " 0.157535064994285,\n",
       " 0.1543886110648988,\n",
       " 0.15133687742475035,\n",
       " 0.1483760493038067,\n",
       " 0.14550250432838693,\n",
       " 0.14271280087399074,\n",
       " 0.14000366723970967,\n",
       " 0.1373719915781649,\n",
       " 0.1348148125208627,\n",
       " 0.13232931044422078,\n",
       " 0.12991279932634803,\n",
       " 0.12756271914902137,\n",
       " 0.1252766288032405,\n",
       " 0.12305219946030338,\n",
       " 0.12088720837357099,\n",
       " 0.11877953307901135,\n",
       " 0.11672714596526296,\n",
       " 0.11472810918636875,\n",
       " 0.11278056989251457,\n",
       " 0.11088275575610283,\n",
       " 0.10903297077229963,\n",
       " 0.10722959131485021,\n",
       " 0.10547106242946419,\n",
       " 0.10375589434844573,\n",
       " 0.10208265921150747,\n",
       " 0.10044998797885223,\n",
       " 0.09885656752366385]"
      ]
     },
     "execution_count": 1237,
     "metadata": {},
     "output_type": "execute_result"
    }
   ],
   "source": [
    "sqr_kh"
   ]
  },
  {
   "cell_type": "code",
   "execution_count": 1238,
   "metadata": {},
   "outputs": [],
   "source": [
    "for i in sqr_kh:\n",
    "    kh = math.sqrt(i)\n",
    "    hunt_k.append(kh / h)"
   ]
  },
  {
   "cell_type": "code",
   "execution_count": 1239,
   "metadata": {},
   "outputs": [],
   "source": [
    "C = []\n",
    "Eckart_C = []\n",
    "Hunt_C = []"
   ]
  },
  {
   "cell_type": "code",
   "execution_count": 1240,
   "metadata": {},
   "outputs": [
    {
     "data": {
      "text/plain": [
       "108"
      ]
     },
     "execution_count": 1240,
     "metadata": {},
     "output_type": "execute_result"
    }
   ],
   "source": [
    "len(k)"
   ]
  },
  {
   "cell_type": "code",
   "execution_count": 1241,
   "metadata": {},
   "outputs": [
    {
     "data": {
      "text/plain": [
       "108"
      ]
     },
     "execution_count": 1241,
     "metadata": {},
     "output_type": "execute_result"
    }
   ],
   "source": [
    "len(T)"
   ]
  },
  {
   "cell_type": "code",
   "execution_count": 1242,
   "metadata": {},
   "outputs": [],
   "source": [
    "for i in range(0, len(k)):\n",
    "    C.append((2 * math.pi / k[i])/T[i])"
   ]
  },
  {
   "cell_type": "code",
   "execution_count": 1243,
   "metadata": {},
   "outputs": [],
   "source": [
    "for i in range(0, len(eckart_k)):\n",
    "    Eckart_C.append((2 * math.pi / eckart_k[i])/T[i])"
   ]
  },
  {
   "cell_type": "code",
   "execution_count": 1244,
   "metadata": {},
   "outputs": [],
   "source": [
    "for i in range(0, len(hunt_k)):\n",
    "    Hunt_C.append((2 * math.pi / hunt_k[i])/T[i])"
   ]
  },
  {
   "cell_type": "code",
   "execution_count": 1245,
   "metadata": {},
   "outputs": [
    {
     "data": {
      "text/plain": [
       "[1.763796820179713,\n",
       " 1.8370542071884741,\n",
       " 1.9080883402772608,\n",
       " 1.9764523282241695,\n",
       " 2.0417748395517146,\n",
       " 2.1037884368391855,\n",
       " 2.162332159312944,\n",
       " 2.21734533750306,\n",
       " 2.268855538874763,\n",
       " 2.3169530616246936,\n",
       " 2.361779347838433,\n",
       " 2.4035040168898774,\n",
       " 2.4423146917433227,\n",
       " 2.4784073143071392,\n",
       " 2.511974986884395,\n",
       " 2.5432057173953475,\n",
       " 2.5722806108929674,\n",
       " 2.599369431919834,\n",
       " 2.6246299521165803,\n",
       " 2.6482079529562803,\n",
       " 2.670237226604454,\n",
       " 2.690842748948277,\n",
       " 2.710137417735423,\n",
       " 2.7282246445160396,\n",
       " 2.7451975207637136,\n",
       " 2.7611422813315767,\n",
       " 2.776140147352354,\n",
       " 2.7902575872779734,\n",
       " 2.8035635986508542,\n",
       " 2.8161176638423013,\n",
       " 2.82797312778069,\n",
       " 2.8391810158992987,\n",
       " 2.8497834835567537,\n",
       " 2.859828130808509,\n",
       " 2.8693475268210933,\n",
       " 2.878378942814385,\n",
       " 2.886957233946633,\n",
       " 2.895109499565467,\n",
       " 2.902864425742755,\n",
       " 2.9102437853132366,\n",
       " 2.9172753688470228,\n",
       " 2.9239810539302953,\n",
       " 2.930376730685532,\n",
       " 2.93648252305324,\n",
       " 2.942316660873226,\n",
       " 2.947895675727917,\n",
       " 2.9532309423371523,\n",
       " 2.958335916162658,\n",
       " 2.9632303772668434,\n",
       " 2.967918217488925,\n",
       " 2.9724135424348983,\n",
       " 2.9767298692163067,\n",
       " 2.980872166452938,\n",
       " 2.9848526679260976,\n",
       " 2.9886749691562726,\n",
       " 2.9923503449101223,\n",
       " 2.9958898870312836,\n",
       " 2.9992958601160535,\n",
       " 3.0025743603068946,\n",
       " 3.005731206574927,\n",
       " 3.0087765297783937,\n",
       " 3.011715916972827,\n",
       " 3.0145454562798775,\n",
       " 3.0172795471440392,\n",
       " 3.0199186105217524,\n",
       " 3.0224724758736774,\n",
       " 3.0249364101805765,\n",
       " 3.0273151380968106,\n",
       " 3.0296184446393783,\n",
       " 3.0318461613677865,\n",
       " 3.034003089947419,\n",
       " 3.0360888489891655,\n",
       " 3.0381134903585827,\n",
       " 3.0400712996261814,\n",
       " 3.0419670216079853,\n",
       " 3.0438055123156285,\n",
       " 3.045591749028019,\n",
       " 3.0473196000108898,\n",
       " 3.048999618562651,\n",
       " 3.0506312657409573,\n",
       " 3.0522139066281837,\n",
       " 3.053746817384035,\n",
       " 3.0552410564657597,\n",
       " 3.0566901205600066,\n",
       " 3.058099299607231,\n",
       " 3.0594679471072235,\n",
       " 3.060801536266522,\n",
       " 3.06209948783799,\n",
       " 3.063361168850361,\n",
       " 3.0645858963234587,\n",
       " 3.0657858004762817,\n",
       " 3.066947496520566,\n",
       " 3.0680767246170557,\n",
       " 3.0691860505386175,\n",
       " 3.0702551115607726,\n",
       " 3.0713032060149636,\n",
       " 3.0723299393811807,\n",
       " 3.073321161855151,\n",
       " 3.074296825896403,\n",
       " 3.0752426670225605,\n",
       " 3.0761650473760116,\n",
       " 3.0770705532361524,\n",
       " 3.0779516536400453,\n",
       " 3.0788077842032293,\n",
       " 3.079645656300866,\n",
       " 3.0804648540413475,\n",
       " 3.0812649450063545,\n",
       " 3.0820529599625544]"
      ]
     },
     "execution_count": 1245,
     "metadata": {},
     "output_type": "execute_result"
    }
   ],
   "source": [
    "C"
   ]
  },
  {
   "cell_type": "code",
   "execution_count": 1246,
   "metadata": {},
   "outputs": [
    {
     "data": {
      "text/plain": [
       "[1.7670154480809699,\n",
       " 1.8425423123229843,\n",
       " 1.916802742978994,\n",
       " 1.9894601341021885,\n",
       " 2.060178344226515,\n",
       " 2.128639656731441,\n",
       " 2.1945599150007995,\n",
       " 2.257699765105261,\n",
       " 2.3178716381045543,\n",
       " 2.3749426583647253,\n",
       " 2.42883403901998,\n",
       " 2.479517727170206,\n",
       " 2.527011119227015,\n",
       " 2.5713706204087314,\n",
       " 2.6126847114117053,\n",
       " 2.6510670438755994,\n",
       " 2.6866499402413058,\n",
       " 2.7195785400507737,\n",
       " 2.7500057230110864,\n",
       " 2.778087852617711,\n",
       " 2.803981322112356,\n",
       " 2.827839843978235,\n",
       " 2.8498124009372687,\n",
       " 2.8700417662494875,\n",
       " 2.888663500153954,\n",
       " 2.905805334311133,\n",
       " 2.921586864603886,\n",
       " 2.936119482796586,\n",
       " 2.949506488079513,\n",
       " 2.961843329633062,\n",
       " 2.97321794056686,\n",
       " 2.983711131696949,\n",
       " 2.993397020555494,\n",
       " 3.002343476818968,\n",
       " 3.0106125700873836,\n",
       " 3.018261009771686,\n",
       " 3.0253405698800226,\n",
       " 3.0318984938636375,\n",
       " 3.037977876506633,\n",
       " 3.043618021223925,\n",
       " 3.0488547721570987,\n",
       " 3.0537208212029725,\n",
       " 3.058245990635967,\n",
       " 3.062457492342879,\n",
       " 3.0663801649176348,\n",
       " 3.0700366899959004,\n",
       " 3.0734477892704155,\n",
       " 3.076632403637023,\n",
       " 3.0796078558938427,\n",
       " 3.0823899983634764,\n",
       " 3.0849933467392283,\n",
       " 3.0874312013776897,\n",
       " 3.0897157571764797,\n",
       " 3.0918582030909434,\n",
       " 3.0938688122596307,\n",
       " 3.095757023627239,\n",
       " 3.0975315158763026,\n",
       " 3.0992002744061797,\n",
       " 3.1007706520299787,\n",
       " 3.102249423997241,\n",
       " 3.103642837892368,\n",
       " 3.104956658905814,\n",
       " 3.1061962109267607,\n",
       " 3.1073664138620054,\n",
       " 3.108471817545992,\n",
       " 3.109516632570777,\n",
       " 3.110504758332167,\n",
       " 3.111439808558825,\n",
       " 3.1123251345646663,\n",
       " 3.1131638464409606,\n",
       " 3.113958832383128,\n",
       " 3.1147127763278597,\n",
       " 3.115428174058882,\n",
       " 3.116107347924038,\n",
       " 3.1167524602923815,\n",
       " 3.1173655258673465,\n",
       " 3.1179484229607697,\n",
       " 3.118502903822353,\n",
       " 3.119030604110001,\n",
       " 3.1195330515782835,\n",
       " 3.1200116740548354,\n",
       " 3.1204678067679006,\n",
       " 3.1209026990822024,\n",
       " 3.1213175206949675,\n",
       " 3.121713367339042,\n",
       " 3.12209126603571,\n",
       " 3.1224521799358316,\n",
       " 3.122797012784407,\n",
       " 3.123126613040419,\n",
       " 3.123441777680952,\n",
       " 3.1237432557159344,\n",
       " 3.1240317514374913,\n",
       " 3.1243079274257664,\n",
       " 3.1245724073311245,\n",
       " 3.124825778450884,\n",
       " 3.125068594117149,\n",
       " 3.1253013759108734,\n",
       " 3.125524615715974,\n",
       " 3.1257387776261143,\n",
       " 3.125944299715731,\n",
       " 3.126141595685855,\n",
       " 3.1263310563944358,\n",
       " 3.1265130512800283,\n",
       " 3.1266879296869647,\n",
       " 3.126856022099521,\n",
       " 3.127017641291872,\n",
       " 3.1271730834001623,\n",
       " 3.1273226289224825]"
      ]
     },
     "execution_count": 1246,
     "metadata": {},
     "output_type": "execute_result"
    }
   ],
   "source": [
    "Eckart_C"
   ]
  },
  {
   "cell_type": "code",
   "execution_count": 1247,
   "metadata": {},
   "outputs": [
    {
     "data": {
      "text/plain": [
       "[1.761427640977176,\n",
       " 1.834304403464606,\n",
       " 1.9050891510232517,\n",
       " 1.973358233024401,\n",
       " 2.038738472404388,\n",
       " 2.100936107383368,\n",
       " 2.1597531435251898,\n",
       " 2.2150901932763407,\n",
       " 2.2669381797369255,\n",
       " 2.315362994005575,\n",
       " 2.3604872865305726,\n",
       " 2.402472630438813,\n",
       " 2.4415040154970886,\n",
       " 2.4777774986041834,\n",
       " 2.5114910536498063,\n",
       " 2.5428382331997366,\n",
       " 2.5720040882277746,\n",
       " 2.599162786734962,\n",
       " 2.6244764454803877,\n",
       " 2.6480947883325996,\n",
       " 2.6701553414395236,\n",
       " 2.6907839572518966,\n",
       " 2.710095523374084,\n",
       " 2.728194759627781,\n",
       " 2.7451770405893776,\n",
       " 2.761129204389276,\n",
       " 2.7761303245239026,\n",
       " 2.7902524320320206,\n",
       " 2.8035611822732993,\n",
       " 2.8161164649058406,\n",
       " 2.827972958323571,\n",
       " 2.8391806313587136,\n",
       " 2.8497851958695293,\n",
       " 2.8598285141821056,\n",
       " 2.8693489654122084,\n",
       " 2.8783817745748657,\n",
       " 2.886959308171004,\n",
       " 2.895111339671015,\n",
       " 2.9028652880255503,\n",
       " 2.9102464320434693,\n",
       " 2.9172781031970785,\n",
       " 2.923981859152128,\n",
       " 2.9303776400776225,\n",
       " 2.936483909569406,\n",
       " 2.9423177818216644,\n",
       " 2.9478951365009065,\n",
       " 2.953230722616401,\n",
       " 2.9583382525378585,\n",
       " 2.9632304871838264,\n",
       " 2.967919313291204,\n",
       " 2.9724158135760197,\n",
       " 2.976730330506736,\n",
       " 2.980872524332648,\n",
       " 2.9848514259401915,\n",
       " 2.9886754850481956,\n",
       " 2.9923526141983996,\n",
       " 2.9958902289489964,\n",
       " 2.9992952846359517,\n",
       " 3.002574310028639,\n",
       " 3.005733438172418,\n",
       " 3.0087784346806457,\n",
       " 3.0117147237117656,\n",
       " 3.0145474118433198,\n",
       " 3.017281310033388,\n",
       " 3.019920953841068,\n",
       " 3.022470622060639,\n",
       " 3.024934353908965,\n",
       " 3.02731596489216,\n",
       " 3.029619061465463,\n",
       " 3.031847054589389,\n",
       " 3.0340031722755634,\n",
       " 3.036090471206873,\n",
       " 3.038111847508761,\n",
       " 3.0400700467414477,\n",
       " 3.041967673176476,\n",
       " 3.043807198415345,\n",
       " 3.0455909694027516,\n",
       " 3.0473212158823846,\n",
       " 3.049000057338968,\n",
       " 3.050629509466474,\n",
       " 3.0522114901989768,\n",
       " 3.0537478253375183,\n",
       " 3.055240253803514,\n",
       " 3.0566904325466817,\n",
       " 3.0580999411331358,\n",
       " 3.0594702860372074,\n",
       " 3.0608029046585563,\n",
       " 3.0620991690844868,\n",
       " 3.063360389615694,\n",
       " 3.064587818072273,\n",
       " 3.065782650895453,\n",
       " 3.066946032059348,\n",
       " 3.068079055805869,\n",
       " 3.0691827692149345,\n",
       " 3.0702581746212316,\n",
       " 3.0713062318878572,\n",
       " 3.0723278605464412,\n",
       " 3.073323941812644,\n",
       " 3.0742953204852013,\n",
       " 3.075242806736183,\n",
       " 3.076167177799469,\n",
       " 3.0770691795640404,\n",
       " 3.07794952807813,\n",
       " 3.078808910969893,\n",
       " 3.0796479887898496,\n",
       " 3.0804673962799667,\n",
       " 3.0812677435739357,\n",
       " 3.082049617332854]"
      ]
     },
     "execution_count": 1247,
     "metadata": {},
     "output_type": "execute_result"
    }
   ],
   "source": [
    "Hunt_C"
   ]
  },
  {
   "cell_type": "code",
   "execution_count": 1248,
   "metadata": {},
   "outputs": [],
   "source": [
    "X = np.arange(0, len(C), 1.0)"
   ]
  },
  {
   "cell_type": "code",
   "execution_count": 1249,
   "metadata": {},
   "outputs": [
    {
     "data": {
      "text/plain": [
       "array([  0.,   1.,   2.,   3.,   4.,   5.,   6.,   7.,   8.,   9.,  10.,\n",
       "        11.,  12.,  13.,  14.,  15.,  16.,  17.,  18.,  19.,  20.,  21.,\n",
       "        22.,  23.,  24.,  25.,  26.,  27.,  28.,  29.,  30.,  31.,  32.,\n",
       "        33.,  34.,  35.,  36.,  37.,  38.,  39.,  40.,  41.,  42.,  43.,\n",
       "        44.,  45.,  46.,  47.,  48.,  49.,  50.,  51.,  52.,  53.,  54.,\n",
       "        55.,  56.,  57.,  58.,  59.,  60.,  61.,  62.,  63.,  64.,  65.,\n",
       "        66.,  67.,  68.,  69.,  70.,  71.,  72.,  73.,  74.,  75.,  76.,\n",
       "        77.,  78.,  79.,  80.,  81.,  82.,  83.,  84.,  85.,  86.,  87.,\n",
       "        88.,  89.,  90.,  91.,  92.,  93.,  94.,  95.,  96.,  97.,  98.,\n",
       "        99., 100., 101., 102., 103., 104., 105., 106., 107.])"
      ]
     },
     "execution_count": 1249,
     "metadata": {},
     "output_type": "execute_result"
    }
   ],
   "source": [
    "X"
   ]
  },
  {
   "cell_type": "code",
   "execution_count": 1250,
   "metadata": {},
   "outputs": [
    {
     "data": {
      "image/png": "[encoded data removed]",
      "text/plain": [
       "<Figure size 432x288 with 1 Axes>"
      ]
     },
     "metadata": {
      "needs_background": "light"
     },
     "output_type": "display_data"
    }
   ],
   "source": [
    "import matplotlib.pyplot as plt\n",
    "import numpy as np\n",
    "import math\n",
    "  \n",
    "# Using Numpy to create an array X\n",
    "X = np.arange(0, len(C), 1.0)\n",
    "  \n",
    "# Plotting both the curves simultaneously\n",
    "plt.plot(X, C, color='r', label='Bisection Method')\n",
    "plt.plot(X, Eckart_C, color='g', label='Eckart')\n",
    "plt.plot(X, Hunt_C, color='b', label='Hunt')\n",
    "  \n",
    "# Naming the x-axis, y-axis and the whole graph\n",
    "plt.xlabel(\"Index\")\n",
    "plt.ylabel(\"$C$\")\n",
    "plt.title(\"Wave Velocities\")\n",
    "  \n",
    "# Adding legend, which helps us recognize the curve according to it's color\n",
    "plt.legend()\n",
    "  \n",
    "# To load the display window\n",
    "plt.show()"
   ]
  },
  {
   "cell_type": "code",
   "execution_count": 1276,
   "metadata": {},
   "outputs": [
    {
     "data": {
      "image/png": "[encoded data removed]",
      "text/plain": [
       "<Figure size 432x288 with 1 Axes>"
      ]
     },
     "metadata": {
      "needs_background": "light"
     },
     "output_type": "display_data"
    }
   ],
   "source": [
    "import matplotlib.pyplot as plt\n",
    "import numpy as np\n",
    "import math\n",
    "  \n",
    "# Using Numpy to create an array X\n",
    "X = np.arange(0, len(C), 1.0)\n",
    "  \n",
    "# Plotting both the curves simultaneously\n",
    "plt.plot(X, added_y, color='r', label='The y value of the Hunt method.')\n",
    "  \n",
    "# Naming the x-axis, y-axis and the whole graph\n",
    "plt.xlabel(\"Index\")\n",
    "plt.ylabel(\"$y$\")\n",
    "plt.title(\"y value\")\n",
    "\n",
    "ymax = max(added_y)\n",
    "\n",
    "s = 'The maximum value of y= ' + str(ymax) + ' '\n",
    "\n",
    "plt.annotate(s, (20, 2))\n",
    "  \n",
    "# Adding legend, which helps us recognize the curve according to it's color\n",
    "plt.legend()\n",
    "  \n",
    "# To load the display window\n",
    "plt.show()"
   ]
  }
 ],
 "metadata": {
  "kernelspec": {
   "display_name": "Python 3.9.12 (conda)",
   "language": "python",
   "name": "python3"
  },
  "language_info": {
   "codemirror_mode": {
    "name": "ipython",
    "version": 3
   },
   "file_extension": ".py",
   "mimetype": "text/x-python",
   "name": "python",
   "nbconvert_exporter": "python",
   "pygments_lexer": "ipython3",
   "version": "3.9.12"
  },
  "orig_nbformat": 4,
  "vscode": {
   "interpreter": {
    "hash": "fef535234a3287ccf56ef531aff330e4640a816492ee584538bd7585ec97e353"
   }
  }
 },
 "nbformat": 4,
 "nbformat_minor": 2
}

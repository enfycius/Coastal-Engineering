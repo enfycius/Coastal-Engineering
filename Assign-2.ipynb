{
 "cells": [
  {
   "cell_type": "markdown",
   "metadata": {},
   "source": [
    "# Question"
   ]
  },
  {
   "cell_type": "markdown",
   "metadata": {},
   "source": [
    "수심 $h_{0} = 10m$인 상황에서 파고 $H = 2.0m$인 파가 입사하고 있다."
   ]
  },
  {
   "cell_type": "markdown",
   "metadata": {},
   "source": [
    "## Question 1"
   ]
  },
  {
   "cell_type": "markdown",
   "metadata": {},
   "source": [
    "1. 수심 $h_{0}$에서 $kh = \\pi$ 만족하는 주기 $T_{0}$를 구하시오."
   ]
  },
  {
   "cell_type": "code",
   "execution_count": 1931,
   "metadata": {},
   "outputs": [],
   "source": [
    "import math\n",
    "import numpy as np"
   ]
  },
  {
   "cell_type": "code",
   "execution_count": 1932,
   "metadata": {},
   "outputs": [],
   "source": [
    "h0 = 10\n",
    "H1 = 2.0\n",
    "g = 9.81"
   ]
  },
  {
   "cell_type": "code",
   "execution_count": 1933,
   "metadata": {},
   "outputs": [],
   "source": [
    "h = h0\n",
    "\n",
    "k = math.pi / h"
   ]
  },
  {
   "cell_type": "code",
   "execution_count": 1934,
   "metadata": {},
   "outputs": [],
   "source": [
    "k0 = k"
   ]
  },
  {
   "cell_type": "code",
   "execution_count": 1935,
   "metadata": {},
   "outputs": [
    {
     "data": {
      "text/plain": [
       "0.3141592653589793"
      ]
     },
     "execution_count": 1935,
     "metadata": {},
     "output_type": "execute_result"
    }
   ],
   "source": [
    "k"
   ]
  },
  {
   "cell_type": "code",
   "execution_count": 1936,
   "metadata": {},
   "outputs": [],
   "source": [
    "sqr_sigma = g * k * np.tanh([k*h])"
   ]
  },
  {
   "cell_type": "code",
   "execution_count": 1937,
   "metadata": {},
   "outputs": [
    {
     "data": {
      "text/plain": [
       "array([3.0704133])"
      ]
     },
     "execution_count": 1937,
     "metadata": {},
     "output_type": "execute_result"
    }
   ],
   "source": [
    "sqr_sigma"
   ]
  },
  {
   "cell_type": "code",
   "execution_count": 1938,
   "metadata": {},
   "outputs": [],
   "source": [
    "sigma = math.sqrt(sqr_sigma)"
   ]
  },
  {
   "cell_type": "code",
   "execution_count": 1939,
   "metadata": {},
   "outputs": [
    {
     "data": {
      "text/plain": [
       "1.7522594830545946"
      ]
     },
     "execution_count": 1939,
     "metadata": {},
     "output_type": "execute_result"
    }
   ],
   "source": [
    "sigma"
   ]
  },
  {
   "cell_type": "code",
   "execution_count": 1940,
   "metadata": {},
   "outputs": [],
   "source": [
    "T0 = 2 * math.pi / sigma"
   ]
  },
  {
   "cell_type": "code",
   "execution_count": 1941,
   "metadata": {},
   "outputs": [
    {
     "data": {
      "text/plain": [
       "3.5857619079490086"
      ]
     },
     "execution_count": 1941,
     "metadata": {},
     "output_type": "execute_result"
    }
   ],
   "source": [
    "T0"
   ]
  },
  {
   "cell_type": "code",
   "execution_count": 1942,
   "metadata": {},
   "outputs": [
    {
     "data": {
      "text/plain": [
       "5.577615166155759"
      ]
     },
     "execution_count": 1942,
     "metadata": {},
     "output_type": "execute_result"
    }
   ],
   "source": [
    "sigma / k0"
   ]
  },
  {
   "cell_type": "markdown",
   "metadata": {},
   "source": [
    "## Question 2"
   ]
  },
  {
   "cell_type": "markdown",
   "metadata": {},
   "source": [
    "2. 시작점에서 $\\Delta{x} = 1m$ 간격으로 파고의 높이를 계산하여 그래프를 그리시오."
   ]
  },
  {
   "cell_type": "code",
   "execution_count": 1943,
   "metadata": {},
   "outputs": [],
   "source": [
    "C1 = sigma / k0"
   ]
  },
  {
   "cell_type": "code",
   "execution_count": 1944,
   "metadata": {},
   "outputs": [
    {
     "data": {
      "text/plain": [
       "5.577615166155759"
      ]
     },
     "execution_count": 1944,
     "metadata": {},
     "output_type": "execute_result"
    }
   ],
   "source": [
    "C1"
   ]
  },
  {
   "cell_type": "code",
   "execution_count": 1945,
   "metadata": {},
   "outputs": [],
   "source": [
    "N1 = 0.5"
   ]
  },
  {
   "cell_type": "code",
   "execution_count": 1946,
   "metadata": {},
   "outputs": [
    {
     "data": {
      "text/plain": [
       "0.5"
      ]
     },
     "execution_count": 1946,
     "metadata": {},
     "output_type": "execute_result"
    }
   ],
   "source": [
    "N1"
   ]
  },
  {
   "cell_type": "code",
   "execution_count": 1947,
   "metadata": {},
   "outputs": [],
   "source": [
    "h = []\n",
    "k = []\n",
    "C = []\n",
    "N = []\n",
    "H = []"
   ]
  },
  {
   "cell_type": "code",
   "execution_count": 1948,
   "metadata": {},
   "outputs": [],
   "source": [
    "def f(x, sqr_omega, h1):\n",
    "    return g * (x / sqr_omega) * np.tanh([x*h1]) - 1"
   ]
  },
  {
   "cell_type": "code",
   "execution_count": 1949,
   "metadata": {},
   "outputs": [],
   "source": [
    "def bisection_method(k_init, sqr_omega, h1):\n",
    "    error=0.5 * 10**(-6)\n",
    "\n",
    "    a = -100 + k_init\n",
    "    b = 100 + k_init\n",
    "    \n",
    "    while (b - a) / 2 > error:\n",
    "        c = (b + a) / 2\n",
    "        if f(c, sqr_omega, h1) == 0:\n",
    "            break\n",
    "        elif f(a, sqr_omega, h1)*f(c, sqr_omega, h1) > 0:\n",
    "            a = c\n",
    "        else:\n",
    "            b = c\n",
    "    c = (b + a) / 2\n",
    "\n",
    "    return c"
   ]
  },
  {
   "cell_type": "code",
   "execution_count": 1950,
   "metadata": {},
   "outputs": [],
   "source": [
    "# h1 = 10 - (1/10)*(i+1)\n",
    "# k_init = sqr_sigma / (g * math.sqrt(np.tanh([sqr_sigma / g * h1])))\n",
    "\n",
    "# k1 = bisection_method(k_init, sqr_sigma)\n",
    "\n",
    "# k1 = abs(k1)"
   ]
  },
  {
   "cell_type": "code",
   "execution_count": 1951,
   "metadata": {},
   "outputs": [],
   "source": [
    "H.append(H1)"
   ]
  },
  {
   "cell_type": "code",
   "execution_count": 1952,
   "metadata": {},
   "outputs": [],
   "source": [
    "eckart_k = []"
   ]
  },
  {
   "cell_type": "code",
   "execution_count": 1953,
   "metadata": {},
   "outputs": [],
   "source": [
    "h.append(h0)"
   ]
  },
  {
   "cell_type": "code",
   "execution_count": 1954,
   "metadata": {},
   "outputs": [
    {
     "name": "stdout",
     "output_type": "stream",
     "text": [
      "9.9\n",
      "9.8\n",
      "9.7\n",
      "9.6\n",
      "9.5\n",
      "9.4\n",
      "9.3\n",
      "9.2\n",
      "9.1\n",
      "9.0\n",
      "8.9\n",
      "8.8\n",
      "8.7\n",
      "8.6\n",
      "8.5\n",
      "8.4\n",
      "8.3\n",
      "8.2\n",
      "8.1\n",
      "8.0\n",
      "7.9\n",
      "7.8\n",
      "7.7\n",
      "7.6\n",
      "7.5\n",
      "7.4\n",
      "7.3\n",
      "7.2\n",
      "7.1\n",
      "7.0\n",
      "6.9\n",
      "6.8\n",
      "6.7\n",
      "6.6\n",
      "6.5\n",
      "6.4\n",
      "6.3\n",
      "6.2\n",
      "6.1\n",
      "6.0\n",
      "5.9\n",
      "5.8\n",
      "5.7\n",
      "5.6\n",
      "5.5\n",
      "5.4\n",
      "5.3\n",
      "5.2\n",
      "5.1\n",
      "5.0\n",
      "4.9\n",
      "4.8\n",
      "4.7\n",
      "4.6\n",
      "4.5\n",
      "4.4\n",
      "4.3\n",
      "4.2\n",
      "4.1\n",
      "4.0\n",
      "3.9\n",
      "3.8\n",
      "3.7\n",
      "3.6\n",
      "3.5\n",
      "3.4\n",
      "3.3\n",
      "3.2\n",
      "3.1\n",
      "3.0\n",
      "2.9\n",
      "2.8\n",
      "2.7\n",
      "2.6\n",
      "2.5\n",
      "2.4\n",
      "2.3\n",
      "2.2\n",
      "2.1\n",
      "2.0\n",
      "1.9\n",
      "1.8\n",
      "1.7\n",
      "1.6\n",
      "1.5\n",
      "1.4\n",
      "1.3\n",
      "1.2\n",
      "1.1\n",
      "1.0\n",
      "0.9\n",
      "0.8\n",
      "0.7\n",
      "0.6\n",
      "0.5\n",
      "0.4\n",
      "0.3\n",
      "0.2\n",
      "0.1\n"
     ]
    }
   ],
   "source": [
    "for i in range(0, 99):\n",
    "    h1 = round(10 - (1/10)*(i+1), 2)\n",
    "    k_init = sqr_sigma / (g * math.sqrt(np.tanh([sqr_sigma / g * h1])))\n",
    "    k1 = abs(bisection_method(k_init, sqr_sigma, h1))\n",
    "    C2 = sigma / k1\n",
    "    N2 = 1/2 * (1 + 2*k1*h1/np.sinh([2*k1*h1]))\n",
    "    H2 = H1 * math.sqrt((C1 * N1) / (C2 * N2))\n",
    "    print(h1)\n",
    "    eckart_k.append(k_init)\n",
    "    h.append(h1)\n",
    "    k.append(k1)\n",
    "    C.append(C2)\n",
    "    N.append(N2)\n",
    "    H.append(H2)"
   ]
  },
  {
   "cell_type": "code",
   "execution_count": 1955,
   "metadata": {},
   "outputs": [
    {
     "data": {
      "text/plain": [
       "5.575470678561513"
      ]
     },
     "execution_count": 1955,
     "metadata": {},
     "output_type": "execute_result"
    }
   ],
   "source": [
    "1.752 / 0.31423356"
   ]
  },
  {
   "cell_type": "code",
   "execution_count": 1956,
   "metadata": {},
   "outputs": [
    {
     "data": {
      "text/plain": [
       "array([0.31423356])"
      ]
     },
     "execution_count": 1956,
     "metadata": {},
     "output_type": "execute_result"
    }
   ],
   "source": [
    "k[0]"
   ]
  },
  {
   "cell_type": "code",
   "execution_count": 1957,
   "metadata": {},
   "outputs": [
    {
     "data": {
      "text/plain": [
       "array([0.31362574])"
      ]
     },
     "execution_count": 1957,
     "metadata": {},
     "output_type": "execute_result"
    }
   ],
   "source": [
    "eckart_k[0]"
   ]
  },
  {
   "cell_type": "code",
   "execution_count": 1958,
   "metadata": {},
   "outputs": [
    {
     "data": {
      "text/plain": [
       "array([0.06078205])"
      ]
     },
     "execution_count": 1958,
     "metadata": {},
     "output_type": "execute_result"
    }
   ],
   "source": [
    "abs(eckart_k[0] - k[0]) * 100"
   ]
  },
  {
   "cell_type": "code",
   "execution_count": 1959,
   "metadata": {},
   "outputs": [
    {
     "data": {
      "text/plain": [
       "100"
      ]
     },
     "execution_count": 1959,
     "metadata": {},
     "output_type": "execute_result"
    }
   ],
   "source": [
    "len(H)"
   ]
  },
  {
   "cell_type": "code",
   "execution_count": 1960,
   "metadata": {},
   "outputs": [],
   "source": [
    "import matplotlib.pyplot as plt"
   ]
  },
  {
   "cell_type": "code",
   "execution_count": 1961,
   "metadata": {},
   "outputs": [],
   "source": [
    "X = np.arange(0, 100)"
   ]
  },
  {
   "cell_type": "code",
   "execution_count": 1962,
   "metadata": {},
   "outputs": [
    {
     "data": {
      "text/plain": [
       "array([ 0,  1,  2,  3,  4,  5,  6,  7,  8,  9, 10, 11, 12, 13, 14, 15, 16,\n",
       "       17, 18, 19, 20, 21, 22, 23, 24, 25, 26, 27, 28, 29, 30, 31, 32, 33,\n",
       "       34, 35, 36, 37, 38, 39, 40, 41, 42, 43, 44, 45, 46, 47, 48, 49, 50,\n",
       "       51, 52, 53, 54, 55, 56, 57, 58, 59, 60, 61, 62, 63, 64, 65, 66, 67,\n",
       "       68, 69, 70, 71, 72, 73, 74, 75, 76, 77, 78, 79, 80, 81, 82, 83, 84,\n",
       "       85, 86, 87, 88, 89, 90, 91, 92, 93, 94, 95, 96, 97, 98, 99])"
      ]
     },
     "execution_count": 1962,
     "metadata": {},
     "output_type": "execute_result"
    }
   ],
   "source": [
    "X"
   ]
  },
  {
   "cell_type": "code",
   "execution_count": 1963,
   "metadata": {},
   "outputs": [
    {
     "data": {
      "image/png": "[encoded data removed]",
      "text/plain": [
       "<Figure size 432x288 with 1 Axes>"
      ]
     },
     "metadata": {
      "needs_background": "light"
     },
     "output_type": "display_data"
    }
   ],
   "source": [
    "plt.plot(h, H)\n",
    "plt.xlabel(\"Depth($h$)\")\n",
    "plt.ylabel('The Height of a Wave($H$)')\n",
    "plt.show()"
   ]
  },
  {
   "cell_type": "code",
   "execution_count": 1964,
   "metadata": {},
   "outputs": [
    {
     "data": {
      "image/png": "[encoded data removed]",
      "text/plain": [
       "<Figure size 432x288 with 1 Axes>"
      ]
     },
     "metadata": {
      "needs_background": "light"
     },
     "output_type": "display_data"
    }
   ],
   "source": [
    "plt.plot(X, H)\n",
    "plt.xlabel(\"Distance($x$)\")\n",
    "plt.ylabel('The Height of a Wave($H$)')\n",
    "plt.show()"
   ]
  },
  {
   "cell_type": "code",
   "execution_count": 1965,
   "metadata": {},
   "outputs": [],
   "source": [
    "N1 = 1/2 * (1 + 2*k0*h0/np.sinh([2*k0*h0]))"
   ]
  },
  {
   "cell_type": "code",
   "execution_count": 1966,
   "metadata": {},
   "outputs": [],
   "source": [
    "h = []\n",
    "k = []\n",
    "C = []\n",
    "N = []\n",
    "H = []\n",
    "Bisection_H = []"
   ]
  },
  {
   "cell_type": "code",
   "execution_count": 1967,
   "metadata": {},
   "outputs": [],
   "source": [
    "Bisection_H.append(H1)"
   ]
  },
  {
   "cell_type": "code",
   "execution_count": 1968,
   "metadata": {},
   "outputs": [],
   "source": [
    "def f(x, sqr_omega, h1):\n",
    "    return g * (x / sqr_omega) * np.tanh([x*h1]) - 1"
   ]
  },
  {
   "cell_type": "code",
   "execution_count": 1969,
   "metadata": {},
   "outputs": [],
   "source": [
    "def bisection_method(k_init, sqr_omega, h1):\n",
    "    error=0.5 * 10**(-6)\n",
    "\n",
    "    a = -100 + k_init\n",
    "    b = 100 + k_init\n",
    "    \n",
    "    while (b - a) / 2 > error:\n",
    "        c = (b + a) / 2\n",
    "        if f(c, sqr_omega, h1) == 0:\n",
    "            break\n",
    "        elif f(a, sqr_omega, h1)*f(c, sqr_omega, h1) > 0:\n",
    "            a = c\n",
    "        else:\n",
    "            b = c\n",
    "    c = (b + a) / 2\n",
    "\n",
    "    return c"
   ]
  },
  {
   "cell_type": "code",
   "execution_count": 1970,
   "metadata": {},
   "outputs": [],
   "source": [
    "H.append(H1)"
   ]
  },
  {
   "cell_type": "code",
   "execution_count": 1971,
   "metadata": {},
   "outputs": [],
   "source": [
    "h.append(h0)"
   ]
  },
  {
   "cell_type": "code",
   "execution_count": 1972,
   "metadata": {},
   "outputs": [],
   "source": [
    "bisection_k = []"
   ]
  },
  {
   "cell_type": "code",
   "execution_count": 1973,
   "metadata": {},
   "outputs": [],
   "source": [
    "bisection_k.append(k0)"
   ]
  },
  {
   "cell_type": "code",
   "execution_count": 1974,
   "metadata": {},
   "outputs": [],
   "source": [
    "for i in range(0, 99):\n",
    "    h1 = round(10 - (1/10)*(i+1), 2)\n",
    "    k_init = sqr_sigma / (g * math.sqrt(np.tanh([sqr_sigma / g * h1])))\n",
    "    k1 = abs(bisection_method(k_init, sqr_sigma, h1))\n",
    "    C2 = sigma / k1\n",
    "    N2 = 1/2 * (1 + 2*k1*h1/np.sinh([2*k1*h1]))\n",
    "    H2 = H1 * math.sqrt((C1 * N1) / (C2 * N2))\n",
    "    bisection_k.append(k1)\n",
    "    h.append(h1)\n",
    "    k.append(k1)\n",
    "    C.append(C2)\n",
    "    N.append(N2)\n",
    "    H.append(H2)\n",
    "    Bisection_H.append(H2)"
   ]
  },
  {
   "cell_type": "code",
   "execution_count": 1975,
   "metadata": {},
   "outputs": [],
   "source": [
    "import matplotlib.pyplot as plt"
   ]
  },
  {
   "cell_type": "code",
   "execution_count": 1976,
   "metadata": {},
   "outputs": [],
   "source": [
    "X = np.arange(0, 100)"
   ]
  },
  {
   "cell_type": "code",
   "execution_count": 1977,
   "metadata": {},
   "outputs": [
    {
     "data": {
      "image/png": "[encoded data removed]",
      "text/plain": [
       "<Figure size 432x288 with 1 Axes>"
      ]
     },
     "metadata": {
      "needs_background": "light"
     },
     "output_type": "display_data"
    }
   ],
   "source": [
    "plt.plot(h, H)\n",
    "plt.xlabel(\"Depth($h$)\")\n",
    "plt.ylabel('The Height of a Wave($H$)')\n",
    "plt.show()"
   ]
  },
  {
   "cell_type": "code",
   "execution_count": 1978,
   "metadata": {},
   "outputs": [
    {
     "data": {
      "image/png": "[encoded data removed]",
      "text/plain": [
       "<Figure size 432x288 with 1 Axes>"
      ]
     },
     "metadata": {
      "needs_background": "light"
     },
     "output_type": "display_data"
    }
   ],
   "source": [
    "plt.plot(X, H)\n",
    "plt.xlabel(\"Distance($x$)\")\n",
    "plt.ylabel('The Height of a Wave($H$)')\n",
    "plt.show()"
   ]
  },
  {
   "cell_type": "code",
   "execution_count": null,
   "metadata": {},
   "outputs": [],
   "source": []
  },
  {
   "cell_type": "code",
   "execution_count": 1979,
   "metadata": {},
   "outputs": [],
   "source": [
    "N1 = 1/2 * (1 + 2*k0*h0/np.sinh([2*k0*h0]))"
   ]
  },
  {
   "cell_type": "code",
   "execution_count": 1980,
   "metadata": {},
   "outputs": [],
   "source": [
    "h = []\n",
    "k = []\n",
    "C = []\n",
    "N = []\n",
    "H = []\n",
    "Eckart_H = []"
   ]
  },
  {
   "cell_type": "code",
   "execution_count": 1981,
   "metadata": {},
   "outputs": [],
   "source": [
    "Eckart_H.append(H1)"
   ]
  },
  {
   "cell_type": "code",
   "execution_count": 1982,
   "metadata": {},
   "outputs": [],
   "source": [
    "h.append(h0)"
   ]
  },
  {
   "cell_type": "code",
   "execution_count": null,
   "metadata": {},
   "outputs": [],
   "source": [
    "H.append(H1)\n",
    "Eckart_H.append(H1)"
   ]
  },
  {
   "cell_type": "code",
   "execution_count": null,
   "metadata": {},
   "outputs": [],
   "source": [
    "eckart_k = []"
   ]
  },
  {
   "cell_type": "code",
   "execution_count": null,
   "metadata": {},
   "outputs": [],
   "source": [
    "eckart_k.append(k0)"
   ]
  },
  {
   "cell_type": "code",
   "execution_count": null,
   "metadata": {},
   "outputs": [],
   "source": [
    "for i in range(0, 99):\n",
    "    h1 = round(10 - (1/10)*(i+1), 2)\n",
    "    k1 = sqr_sigma / (g * math.sqrt(np.tanh([sqr_sigma / g * h1])))\n",
    "    C2 = sigma / k1\n",
    "    N2 = 1/2 * (1 + 2*k1*h1/np.sinh([2*k1*h1]))\n",
    "    H2 = H1 * math.sqrt((C1 * N1) / (C2 * N2))\n",
    "    h.append(h1)\n",
    "    k.append(k1)\n",
    "    eckart_k.append(k1)\n",
    "    C.append(C2)\n",
    "    N.append(N2)\n",
    "    H.append(H2)\n",
    "    Eckart_H.append(H2)"
   ]
  },
  {
   "cell_type": "code",
   "execution_count": null,
   "metadata": {},
   "outputs": [
    {
     "data": {
      "text/plain": [
       "100"
      ]
     },
     "execution_count": 1895,
     "metadata": {},
     "output_type": "execute_result"
    }
   ],
   "source": [
    "len(H)"
   ]
  },
  {
   "cell_type": "code",
   "execution_count": null,
   "metadata": {},
   "outputs": [],
   "source": [
    "import matplotlib.pyplot as plt"
   ]
  },
  {
   "cell_type": "code",
   "execution_count": null,
   "metadata": {},
   "outputs": [],
   "source": [
    "X = np.arange(0, 100)"
   ]
  },
  {
   "cell_type": "code",
   "execution_count": null,
   "metadata": {},
   "outputs": [
    {
     "data": {
      "image/png": "[encoded data removed]",
      "text/plain": [
       "<Figure size 432x288 with 1 Axes>"
      ]
     },
     "metadata": {
      "needs_background": "light"
     },
     "output_type": "display_data"
    }
   ],
   "source": [
    "plt.plot(h, H)\n",
    "plt.xlabel(\"Depth($h$)\")\n",
    "plt.ylabel('The Height of a Wave($H$)')\n",
    "plt.show()"
   ]
  },
  {
   "cell_type": "code",
   "execution_count": null,
   "metadata": {},
   "outputs": [
    {
     "data": {
      "image/png": "[encoded data removed]",
      "text/plain": [
       "<Figure size 432x288 with 1 Axes>"
      ]
     },
     "metadata": {
      "needs_background": "light"
     },
     "output_type": "display_data"
    }
   ],
   "source": [
    "plt.plot(X, H)\n",
    "plt.xlabel(\"Distance($x$)\")\n",
    "plt.ylabel('The Height of a Wave($H$)')\n",
    "plt.show()"
   ]
  },
  {
   "cell_type": "code",
   "execution_count": null,
   "metadata": {},
   "outputs": [],
   "source": [
    "hunt_k = []"
   ]
  },
  {
   "cell_type": "code",
   "execution_count": null,
   "metadata": {},
   "outputs": [],
   "source": [
    "d = [0.6666666666, 0.3555555555, 0.1608465608, 0.0632098765, 0.0217540484, 0.0076507983]"
   ]
  },
  {
   "cell_type": "code",
   "execution_count": null,
   "metadata": {},
   "outputs": [],
   "source": [
    "h = []\n",
    "k = []\n",
    "C = []\n",
    "N = []\n",
    "H = []\n",
    "Hunt_H = []"
   ]
  },
  {
   "cell_type": "code",
   "execution_count": null,
   "metadata": {},
   "outputs": [],
   "source": [
    "Hunt_H.append(H1)"
   ]
  },
  {
   "cell_type": "code",
   "execution_count": null,
   "metadata": {},
   "outputs": [],
   "source": [
    "h.append(h0)\n",
    "H.append(H1)"
   ]
  },
  {
   "cell_type": "code",
   "execution_count": null,
   "metadata": {},
   "outputs": [],
   "source": [
    "added_y = []"
   ]
  },
  {
   "cell_type": "code",
   "execution_count": null,
   "metadata": {},
   "outputs": [],
   "source": [
    "hunt_k.append(k0)"
   ]
  },
  {
   "cell_type": "code",
   "execution_count": null,
   "metadata": {},
   "outputs": [],
   "source": [
    "for i in range(0, 99):\n",
    "    h1 = round(10 - (1/10)*(i+1), 2)\n",
    "    \n",
    "    y = sqr_sigma*h1/g\n",
    "    added_y.append(y)\n",
    "    dny = 0\n",
    "    \n",
    "    for j in range(0, len(d)):\n",
    "        dny += d[j] * (y ** (j+1))\n",
    "\n",
    "    k1 = math.sqrt(((y) ** 2 + ((y) / (1 + dny))) / (h1 ** 2))\n",
    "    hunt_k.append(k1)\n",
    "\n",
    "    C2 = sigma / k1\n",
    "    N2 = 1/2 * (1 + 2*k1*h1/np.sinh([2*k1*h1]))\n",
    "    H2 = H1 * math.sqrt((C1 * N1) / (C2 * N2))\n",
    "    h.append(h1)\n",
    "    k.append(k1)\n",
    "    C.append(C2)\n",
    "    N.append(N2)\n",
    "    H.append(H2)\n",
    "    Hunt_H.append(H2)\n",
    "    "
   ]
  },
  {
   "cell_type": "code",
   "execution_count": null,
   "metadata": {},
   "outputs": [],
   "source": [
    "abs_Eckart_H = 0\n",
    "abs_Hunt_H = 0 "
   ]
  },
  {
   "cell_type": "code",
   "execution_count": null,
   "metadata": {},
   "outputs": [],
   "source": [
    "for i in range(0, len(Bisection_H)):\n",
    "    abs_Eckart_H += abs(Bisection_H[i] - Eckart_H[i])\n",
    "    abs_Hunt_H += abs(Bisection_H[i] - Hunt_H[i])\n",
    "    "
   ]
  },
  {
   "cell_type": "code",
   "execution_count": null,
   "metadata": {},
   "outputs": [],
   "source": [
    "mean_abs_Eckart_H = abs_Eckart_H / len(Bisection_H)\n",
    "mean_abs_Hunt_H = abs_Hunt_H / len(Bisection_H)"
   ]
  },
  {
   "cell_type": "code",
   "execution_count": null,
   "metadata": {},
   "outputs": [
    {
     "data": {
      "text/plain": [
       "4.498388630255303"
      ]
     },
     "execution_count": 1911,
     "metadata": {},
     "output_type": "execute_result"
    }
   ],
   "source": [
    "mean_abs_Eckart_H * 100"
   ]
  },
  {
   "cell_type": "code",
   "execution_count": null,
   "metadata": {},
   "outputs": [
    {
     "data": {
      "text/plain": [
       "0.08965452942100072"
      ]
     },
     "execution_count": 1912,
     "metadata": {},
     "output_type": "execute_result"
    }
   ],
   "source": [
    "mean_abs_Hunt_H * 100"
   ]
  },
  {
   "cell_type": "code",
   "execution_count": null,
   "metadata": {},
   "outputs": [
    {
     "data": {
      "text/plain": [
       "100"
      ]
     },
     "execution_count": 1913,
     "metadata": {},
     "output_type": "execute_result"
    }
   ],
   "source": [
    "len(hunt_k)"
   ]
  },
  {
   "cell_type": "code",
   "execution_count": null,
   "metadata": {},
   "outputs": [
    {
     "data": {
      "text/plain": [
       "99"
      ]
     },
     "execution_count": 1914,
     "metadata": {},
     "output_type": "execute_result"
    }
   ],
   "source": [
    "len(k)"
   ]
  },
  {
   "cell_type": "code",
   "execution_count": null,
   "metadata": {},
   "outputs": [
    {
     "name": "stderr",
     "output_type": "stream",
     "text": [
      "/home/hexk0131/anaconda3/lib/python3.9/site-packages/numpy/core/shape_base.py:65: VisibleDeprecationWarning: Creating an ndarray from ragged nested sequences (which is a list-or-tuple of lists-or-tuples-or ndarrays with different lengths or shapes) is deprecated. If you meant to do this, you must specify 'dtype=object' when creating the ndarray.\n",
      "  ary = asanyarray(ary)\n"
     ]
    },
    {
     "data": {
      "image/png": "[encoded data removed]",
      "text/plain": [
       "<Figure size 432x288 with 1 Axes>"
      ]
     },
     "metadata": {
      "needs_background": "light"
     },
     "output_type": "display_data"
    }
   ],
   "source": [
    "import matplotlib.pyplot as plt\n",
    "import numpy as np\n",
    "import math\n",
    "  \n",
    "# Plotting both the curves simultaneously\n",
    "plt.plot(h, bisection_k, color='r', label='Bisection Method')\n",
    "plt.plot(h, eckart_k, color='b', label='Eckart')\n",
    "plt.plot(h, hunt_k, color='g', label='Hunt')\n",
    "  \n",
    "# Naming the x-axis, y-axis and the whole graph\n",
    "plt.xlabel(\"Depth($h$)\")\n",
    "plt.ylabel(\"Wave Number($k$)\")\n",
    "plt.title(\"Wave Number($k$) vs. Depth($h$)\")\n",
    "  \n",
    "# Adding legend, which helps us recognize the curve according to it's color\n",
    "plt.legend()\n",
    "plt.xlim(0, 1)\n",
    "  \n",
    "# To load the display window\n",
    "plt.show()"
   ]
  },
  {
   "cell_type": "code",
   "execution_count": null,
   "metadata": {},
   "outputs": [],
   "source": [
    "abs_Hunt_k = 0\n",
    "abs_Eckart_k = 0"
   ]
  },
  {
   "cell_type": "code",
   "execution_count": null,
   "metadata": {},
   "outputs": [],
   "source": [
    "for i in range(0, len(hunt_k)):\n",
    "    abs_Hunt_k += abs(hunt_k[i] - bisection_k[i])\n",
    "    abs_Eckart_k += abs(eckart_k[i] - bisection_k[i])\n"
   ]
  },
  {
   "cell_type": "code",
   "execution_count": null,
   "metadata": {},
   "outputs": [],
   "source": [
    "mean_abs_Hunt_k = abs_Hunt_k / len(bisection_k)\n",
    "mean_abs_Eckart_k = abs_Eckart_k / len(bisection_k)"
   ]
  },
  {
   "cell_type": "code",
   "execution_count": null,
   "metadata": {},
   "outputs": [
    {
     "data": {
      "text/plain": [
       "array([0.02306469])"
      ]
     },
     "execution_count": 1919,
     "metadata": {},
     "output_type": "execute_result"
    }
   ],
   "source": [
    "mean_abs_Hunt_k * 100"
   ]
  },
  {
   "cell_type": "code",
   "execution_count": null,
   "metadata": {},
   "outputs": [
    {
     "data": {
      "text/plain": [
       "array([1.00575799])"
      ]
     },
     "execution_count": 1920,
     "metadata": {},
     "output_type": "execute_result"
    }
   ],
   "source": [
    "mean_abs_Eckart_k * 100"
   ]
  },
  {
   "cell_type": "code",
   "execution_count": null,
   "metadata": {},
   "outputs": [],
   "source": [
    "import matplotlib.pyplot as plt"
   ]
  },
  {
   "cell_type": "code",
   "execution_count": null,
   "metadata": {},
   "outputs": [],
   "source": [
    "X = np.arange(0, 100)"
   ]
  },
  {
   "cell_type": "code",
   "execution_count": null,
   "metadata": {},
   "outputs": [
    {
     "data": {
      "image/png": "[encoded data removed]",
      "text/plain": [
       "<Figure size 432x288 with 1 Axes>"
      ]
     },
     "metadata": {
      "needs_background": "light"
     },
     "output_type": "display_data"
    }
   ],
   "source": [
    "plt.plot(h, H)\n",
    "plt.xlabel(\"Depth($h$)\")\n",
    "plt.ylabel('The Height of a Wave($H$)')\n",
    "plt.show()"
   ]
  },
  {
   "cell_type": "code",
   "execution_count": null,
   "metadata": {},
   "outputs": [
    {
     "data": {
      "image/png": "[encoded data removed]",
      "text/plain": [
       "<Figure size 432x288 with 1 Axes>"
      ]
     },
     "metadata": {
      "needs_background": "light"
     },
     "output_type": "display_data"
    }
   ],
   "source": [
    "plt.plot(X, H)\n",
    "plt.xlabel(\"Distance($x$)\")\n",
    "plt.ylabel('The Height of a Wave($H$)')\n",
    "plt.show()"
   ]
  },
  {
   "cell_type": "code",
   "execution_count": null,
   "metadata": {},
   "outputs": [],
   "source": [
    "Bisection_C = []\n",
    "Eckart_C = []\n",
    "Hunt_C = []"
   ]
  },
  {
   "cell_type": "code",
   "execution_count": null,
   "metadata": {},
   "outputs": [],
   "source": [
    "Bisection_C.append(C1)\n",
    "Eckart_C.append(C1)\n",
    "Hunt_C.append(C1)"
   ]
  },
  {
   "cell_type": "code",
   "execution_count": null,
   "metadata": {},
   "outputs": [],
   "source": [
    "for i in range(0, len(bisection_k)):\n",
    "    Bisection_C.append((2 * math.pi / bisection_k[i])/T0)"
   ]
  },
  {
   "cell_type": "code",
   "execution_count": null,
   "metadata": {},
   "outputs": [],
   "source": [
    "for i in range(0, len(eckart_k)):\n",
    "    Eckart_C.append((2 * math.pi / eckart_k[i])/T0)"
   ]
  },
  {
   "cell_type": "code",
   "execution_count": null,
   "metadata": {},
   "outputs": [],
   "source": [
    "for i in range(0, len(hunt_k)):\n",
    "    Hunt_C.append((2 * math.pi / hunt_k[i])/T0)"
   ]
  },
  {
   "cell_type": "code",
   "execution_count": null,
   "metadata": {},
   "outputs": [
    {
     "name": "stderr",
     "output_type": "stream",
     "text": [
      "/home/hexk0131/anaconda3/lib/python3.9/site-packages/numpy/core/shape_base.py:65: VisibleDeprecationWarning: Creating an ndarray from ragged nested sequences (which is a list-or-tuple of lists-or-tuples-or ndarrays with different lengths or shapes) is deprecated. If you meant to do this, you must specify 'dtype=object' when creating the ndarray.\n",
      "  ary = asanyarray(ary)\n"
     ]
    },
    {
     "data": {
      "image/png": "[encoded data removed]",
      "text/plain": [
       "<Figure size 432x288 with 1 Axes>"
      ]
     },
     "metadata": {
      "needs_background": "light"
     },
     "output_type": "display_data"
    }
   ],
   "source": [
    "import matplotlib.pyplot as plt\n",
    "import numpy as np\n",
    "import math\n",
    "  \n",
    "# Plotting both the curves simultaneously\n",
    "plt.plot(h, Bisection_C, color='r', label='Bisection Method')\n",
    "plt.plot(h, Eckart_C, color='g', label='Eckart')\n",
    "plt.plot(h, Hunt_C, color='b', label='Hunt')\n",
    "  \n",
    "# Naming the x-axis, y-axis and the whole graph\n",
    "plt.xlabel(\"Depth($h$)\")\n",
    "plt.ylabel(\"$C$\")\n",
    "plt.title(\"Wave Velocities($C$) vs. Depth($h$)\")\n",
    "  \n",
    "# Adding legend, which helps us recognize the curve according to it's color\n",
    "plt.legend()\n",
    "  \n",
    "# To load the display window\n",
    "plt.show()"
   ]
  },
  {
   "cell_type": "code",
   "execution_count": null,
   "metadata": {},
   "outputs": [],
   "source": [
    "abs_Eckart_C = 0\n",
    "abs_Hunt_C = 0"
   ]
  },
  {
   "cell_type": "code",
   "execution_count": null,
   "metadata": {},
   "outputs": [],
   "source": [
    "for i in range(0, len(Bisection_C)):\n",
    "    abs_Eckart_C += abs(Bisection_C[i] - Eckart_C[i])\n",
    "    abs_Hunt_C += abs(Bisection_C[i] - Hunt_C[i])"
   ]
  },
  {
   "cell_type": "code",
   "execution_count": null,
   "metadata": {},
   "outputs": [],
   "source": [
    "mean_abs_Eckart_C = abs_Eckart_C / len(Eckart_C)\n",
    "mean_abs_Hunt_C = abs_Hunt_C / len(Hunt_C)"
   ]
  }
 ],
 "metadata": {
  "kernelspec": {
   "display_name": "Python 3.9.12 (conda)",
   "language": "python",
   "name": "python3"
  },
  "language_info": {
   "codemirror_mode": {
    "name": "ipython",
    "version": 3
   },
   "file_extension": ".py",
   "mimetype": "text/x-python",
   "name": "python",
   "nbconvert_exporter": "python",
   "pygments_lexer": "ipython3",
   "version": "3.9.12"
  },
  "orig_nbformat": 4,
  "vscode": {
   "interpreter": {
    "hash": "fef535234a3287ccf56ef531aff330e4640a816492ee584538bd7585ec97e353"
   }
  }
 },
 "nbformat": 4,
 "nbformat_minor": 2
}
